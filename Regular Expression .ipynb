{
 "cells": [
  {
   "cell_type": "markdown",
   "metadata": {},
   "source": [
    "<h2> Regular Expression </h2>"
   ]
  },
  {
   "cell_type": "markdown",
   "metadata": {},
   "source": [
    "<h4> Example 1 \n",
    "\n",
    "Note:- Here in the belox code we use r charcater (r'python') stands for raw, not regx. the raw string is slightly different from a regular string. It won't interpret the \\ chracater as an escape charcater. This is beacuse  the regulat expression engne uses \\ chracater for its own escaping purpose. \n",
    "    \n",
    "Bfore strating with the pyhton regx module we have to know about the metACHARCATERS OR SPECIAL SEQUENCE OF CHARCATER THAT HW THEY WORK.     \n",
    "</h4>"
   ]
  },
  {
   "cell_type": "code",
   "execution_count": 1,
   "metadata": {},
   "outputs": [
    {
     "name": "stdout",
     "output_type": "stream",
     "text": [
      "Start Index: 31\n",
      "End Index: 37\n"
     ]
    }
   ],
   "source": [
    "import re\n",
    "text = \"I love Python. I want to learn python to kich start of my carrer.\"\n",
    "match = re.search(r'python',text)\n",
    "print('Start Index:',match.start())\n",
    "print('End Index:',match.end())\n",
    "# Above code gives us the starting index and ending index of the string python. "
   ]
  },
  {
   "cell_type": "markdown",
   "metadata": {},
   "source": [
    "<h4> eXAMPLE 2 </h4>"
   ]
  },
  {
   "cell_type": "code",
   "execution_count": 6,
   "metadata": {},
   "outputs": [
    {
     "name": "stdout",
     "output_type": "stream",
     "text": [
      "<re.Match object; span=(0, 1), match='d'>\n",
      "<re.Match object; span=(4, 5), match='.'>\n"
     ]
    }
   ],
   "source": [
    "import re \n",
    "# without \\\n",
    "text = \"dcpe.org\"\n",
    "match = re.search(r'.',text)\n",
    "print(match)\n",
    "\n",
    "# with \\\n",
    "match = re.search(r'\\.',text)\n",
    "print(match)"
   ]
  },
  {
   "cell_type": "markdown",
   "metadata": {},
   "source": [
    "<h4> Example 3  </h4>"
   ]
  },
  {
   "cell_type": "code",
   "execution_count": 10,
   "metadata": {},
   "outputs": [
    {
     "name": "stdout",
     "output_type": "stream",
     "text": [
      "['a', 'e']\n"
     ]
    }
   ],
   "source": [
    "import re \n",
    "x = re.compile('[a-e]')\n",
    "print(x.findall(\"Hi, How are you?\"))"
   ]
  },
  {
   "cell_type": "code",
   "execution_count": 2,
   "metadata": {},
   "outputs": [
    {
     "name": "stdout",
     "output_type": "stream",
     "text": [
      "['1', '1', '4', '1', '9', '9', '0']\n",
      "['11', '4', '1990']\n"
     ]
    }
   ],
   "source": [
    "# Example \n",
    "# \\d is used to represents [0-9]\n",
    "import re \n",
    "mat = re.compile('\\d')\n",
    "print(mat.findall(\"I went to him at 11 A.M. on 4th Jan 1990\"))\n",
    "\n",
    "# \\d+ is used to represent group of [0-9]\n",
    "mat=re.compile('\\d+')\n",
    "print(mat.findall(\"I went to him at 11 A.M. on 4th Jan 1990\"))"
   ]
  },
  {
   "cell_type": "code",
   "execution_count": 3,
   "metadata": {},
   "outputs": [
    {
     "name": "stdout",
     "output_type": "stream",
     "text": [
      "['I', 'w', 'e', 'n', 't', 't', 'o', 'h', 'i', 'm', 'a', 't', '1', '1', 'A', 'M', 'o', 'n', '4', 't', 'h', 'J', 'a', 'n', '1', '9', '9', '0']\n",
      "['I', 'went', 'to', 'him', 'at', '11', 'A', 'M', 'on', '4th', 'Jan', '1990']\n",
      "[' ', ' ', ' ', ' ', ' ', ' ', '.', '.', ' ', ' ', ' ', ' ']\n"
     ]
    }
   ],
   "source": [
    "# Example \n",
    "import re\n",
    "# \\w represents [a-zA-Z0-9]\n",
    "mat = re.compile('\\w')\n",
    "print(mat.findall(\"I went to him at 11 A.M. on 4th Jan 1990\"))\n",
    "\n",
    "# \\w+ represents group of alphanumeric charcater \n",
    "mat = re.compile('\\w+')\n",
    "print(mat.findall(\"I went to him at 11 A.M. on 4th Jan 1990\"))\n",
    "\n",
    "# \\W represents group of non alphanumeric charcater \n",
    "mat = re.compile('\\W')\n",
    "print(mat.findall(\"I went to him at 11 A.M. on 4th Jan 1990\"))\n",
    "\n"
   ]
  },
  {
   "cell_type": "code",
   "execution_count": 4,
   "metadata": {},
   "outputs": [
    {
     "name": "stdout",
     "output_type": "stream",
     "text": [
      "['ab', 'abb', 'a', 'abbb']\n"
     ]
    }
   ],
   "source": [
    "# Example \n",
    "# * represnets replace the number of occurences of charcater\n",
    "mat = re.compile(\"ab*\")\n",
    "print(mat.findall(\"ababbaabbb\"))\n",
    "# "
   ]
  },
  {
   "cell_type": "code",
   "execution_count": 7,
   "metadata": {},
   "outputs": [
    {
     "name": "stdout",
     "output_type": "stream",
     "text": [
      "['On ', 'Nov 2021 at 9.15 Am']\n",
      "['Hi! How ', 'r', ' you? I ', 'm Fin', '!']\n"
     ]
    }
   ],
   "source": [
    "# Example \n",
    "import re\n",
    "# split the given text only once  \n",
    "print(re.split('\\d+',\"On 25Nov 2021 at 9.15 Am\",1))\n",
    "\n",
    "#\n",
    "print(re.split('[a-f]+',\"Hi! How are you? I am Fine!\"))"
   ]
  },
  {
   "cell_type": "code",
   "execution_count": 3,
   "metadata": {},
   "outputs": [
    {
     "name": "stdout",
     "output_type": "stream",
     "text": [
      "['I', 'C', 'C', 'M', 'e', 'n', 's', 'T', '2', '0', 'W', 'o', 'r', 'l', 'd', 'C', 'u', 'p', '2', '0', '2', '1', 'w', 'o', 'n', 'b', 'y', 'A', 'u', 's', 't', 'r', 'i', 'a', 'l', 'i', 'a']\n",
      "['ICC', 'Mens', 'T20', 'World', 'Cup', '2021', 'won', 'by', 'Austrialia']\n",
      "[' ', ' ', ' ', ' ', ' ', ' ', ' ', ' ', '*', '*']\n"
     ]
    }
   ],
   "source": [
    "# Example \n",
    "import re \n",
    "# \\w--> represents [a-zA-Z0-9]\n",
    "mat = re.compile('\\w')\n",
    "print(mat.findall(\"ICC Mens T20 World Cup 2021 won by Austrialia\"))\n",
    "\n",
    "\n",
    "# \\w+ --> represents group of alphanumeric charcater\n",
    "mat = re.compile('\\w+')\n",
    "print(mat.findall(\"ICC Mens T20 World Cup 2021 won by Austrialia\"))\n",
    "\n",
    "#\\w --> represents non alphanumeric charcaters \n",
    "mat = re.compile('\\W')\n",
    "print(mat.findall(\"ICC Mens T20 World Cup 2021 won by *Austrialia*\"))"
   ]
  },
  {
   "cell_type": "code",
   "execution_count": 6,
   "metadata": {},
   "outputs": [
    {
     "name": "stdout",
     "output_type": "stream",
     "text": [
      "ICC Mens ODI World Cup 2021 won by *Austrialia*\n",
      "ICC Mens T20 World &&& 2021 won by *Austrialia*\n"
     ]
    }
   ],
   "source": [
    "# Example \n",
    "import re \n",
    "print(re.sub('T20','ODI',\"ICC Mens T20 World Cup 2021 won by *Austrialia*\"))\n",
    "print(re.sub('cup','&&&',\"ICC Mens T20 World Cup 2021 won by *Austrialia*\",flags=re.IGNORECASE))\n"
   ]
  },
  {
   "cell_type": "code",
   "execution_count": 8,
   "metadata": {},
   "outputs": [
    {
     "name": "stdout",
     "output_type": "stream",
     "text": [
      "('ICC Mens T20 World Cup 2022 won by *Austrialia*', 1)\n",
      "('ICC Mens T20 World &&& 2021 won by *Austrialia*', 1)\n",
      "('ICC Mens T?0 World Cup ?0?1 won by *Austrialia*', 3)\n"
     ]
    }
   ],
   "source": [
    "# Example \n",
    "import re \n",
    "print(re.subn('2021','2022',\"ICC Mens T20 World Cup 2021 won by *Austrialia*\"))\n",
    "ans = print(re.subn('cup','&&&',\"ICC Mens T20 World Cup 2021 won by *Austrialia*\",flags=re.IGNORECASE))\n",
    "ans1 = print(re.subn('2','?',\"ICC Mens T20 World Cup 2021 won by *Austrialia*\",flags=re.IGNORECASE))"
   ]
  },
  {
   "cell_type": "code",
   "execution_count": 9,
   "metadata": {},
   "outputs": [
    {
     "name": "stdout",
     "output_type": "stream",
     "text": [
      "36\n",
      "39\n",
      "(36, 39)\n"
     ]
    }
   ],
   "source": [
    "import re \n",
    "text = \"ICC Mens T20 World Cup 2021 won by *Austrialia*\"\n",
    "result = re.search(r'\\bAus',text)\n",
    "print(result.start())\n",
    "print(result.end())\n",
    "print(result.span())"
   ]
  },
  {
   "cell_type": "markdown",
   "metadata": {},
   "source": [
    "<h4>  </h4>"
   ]
  },
  {
   "cell_type": "markdown",
   "metadata": {},
   "source": [
    "<h4>  </h4>"
   ]
  },
  {
   "cell_type": "markdown",
   "metadata": {},
   "source": [
    "<h4>  </h4>"
   ]
  }
 ],
 "metadata": {
  "kernelspec": {
   "display_name": "Python 3",
   "language": "python",
   "name": "python3"
  },
  "language_info": {
   "codemirror_mode": {
    "name": "ipython",
    "version": 3
   },
   "file_extension": ".py",
   "mimetype": "text/x-python",
   "name": "python",
   "nbconvert_exporter": "python",
   "pygments_lexer": "ipython3",
   "version": "3.7.6"
  }
 },
 "nbformat": 4,
 "nbformat_minor": 4
}

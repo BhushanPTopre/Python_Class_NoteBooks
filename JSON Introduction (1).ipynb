{
 "cells": [
  {
   "cell_type": "markdown",
   "metadata": {},
   "source": [
    "<h3> Implementation JSON in Python (JavaScript Object Notation)</h3>"
   ]
  },
  {
   "cell_type": "markdown",
   "metadata": {},
   "source": [
    "<pre> \n",
    "1) JSON is nothing but the script or small program (executable file) file which is wrote with the help of text in a programming language which is used to store and transfer the data. \n",
    "\n",
    "2) Python supports JSON through a built -in package called JSON. \n",
    "\n",
    "3) To us this feature , we have to import JSON package in python script. \n",
    "\n",
    "4) The text in JSON is used with the help of quoted string which consists of value in the form of name:value pair (mapping) within the cruly bracess { }. \n",
    "\n",
    "5) JSON shows an API similar to users of standard library marshal and pickle modules. \n",
    "\n",
    "6) Python natively supports JSON Features. \n",
    "</pre>"
   ]
  },
  {
   "cell_type": "code",
   "execution_count": 1,
   "metadata": {},
   "outputs": [
    {
     "name": "stdout",
     "output_type": "stream",
     "text": [
      "{\"name\": \"Sachin\", \"id\": 525, \"Salary\": 55000}\n"
     ]
    }
   ],
   "source": [
    "# Example 1 [Implementation of JSON]\n",
    "import json \n",
    "emp1 = {\"name\":\"Sachin\",\n",
    " \"id\" : 525,\n",
    " \"Salary\" : 55000 }\n",
    "# convert value to JSON by using dumps() \n",
    "x = json.dumps(emp1)\n",
    "print(x)"
   ]
  },
  {
   "cell_type": "code",
   "execution_count": 12,
   "metadata": {},
   "outputs": [
    {
     "name": "stdout",
     "output_type": "stream",
     "text": [
      "[\"Happy\", \"out of box\", \"Learning\", \"-->Python\"]\n",
      "[\"Happy\", \"out of box\", \"Learning\", \"-->Python\"]\n",
      "\"Welcome in Python\"\n",
      "444\n",
      "34456.76\n",
      "true\n",
      "null\n"
     ]
    }
   ],
   "source": [
    "# Example of JSON Data Types\n",
    "# 1) we take value and want to convert it into JSON Array \n",
    "print(json.dumps([\"Happy\",\"out of box\",\"Learning\",\"-->Python\"]))\n",
    "# 2) we take tuple  and want to convert it into JSON Array \n",
    "print(json.dumps((\"Happy\",\"out of box\",\"Learning\",\"-->Python\")))\n",
    "# 3) we take string  and want to convert it into JSON  \n",
    "print(json.dumps(\"Welcome in Python\"))\n",
    "# 4) we  take number and want to convert it into JSON\n",
    "print(json.dumps(444))\n",
    "# 5) we take real value  and want to convert it into JSON Array \n",
    "print(json.dumps(34456.76))\n",
    "# 6) we take Boolean value  and want to convert it into JSON Array \n",
    "print(json.dumps(True))\n",
    "# 7) we take Nothing and want to convert it into JSON Array \n",
    "print(json.dumps(None))"
   ]
  },
  {
   "cell_type": "markdown",
   "metadata": {},
   "source": [
    "<h3> Importtant Note in JSON </h3>"
   ]
  },
  {
   "cell_type": "markdown",
   "metadata": {},
   "source": [
    "<pre>\n",
    "python object          JSON Object   \n",
    "_____________          _____________\n",
    "dict              --->    Object \n",
    "list,tuple        --->    array \n",
    "str               --->    string\n",
    "int,long,float    --->    number\n",
    "True              --->    true  \n",
    "False             --->    false\n",
    "None              --->    null    \n",
    "</pre>"
   ]
  },
  {
   "cell_type": "code",
   "execution_count": 1,
   "metadata": {},
   "outputs": [
    {
     "name": "stdout",
     "output_type": "stream",
     "text": [
      "{\"name\": \"Rohit\", \"age\": 30, \"married\": true, \"divorced\": false, \"children\": [\"Anu\", \"Piu\"], \"pets\": null, \"four-wheelers\": [{\"model\": \"Rolce Royce\", \"mpg\": 27.5}, {\"model\": \"Pajero\", \"mpg\": 14.6}]}\n"
     ]
    }
   ],
   "source": [
    "# Example 3 \n",
    "import json \n",
    "p = {\n",
    "    \"name\" : \"Rohit\",\n",
    "    \"age\"  : 30,\n",
    "    \"married\" : True, \n",
    "    \"divorced\" : False,\n",
    "    \"children\" : (\"Anu\",\"Piu\"),\n",
    "    \"pets\" : None, \n",
    "    \"four-wheelers\" : [{\"model\":\"Rolce Royce\",\"mpg\":27.5},\n",
    "                       {\"model\":\"Pajero\",\"mpg\":14.6} \n",
    "                      ]\n",
    "}\n",
    "\n",
    "print(json.dumps(p))\n",
    "\n"
   ]
  },
  {
   "cell_type": "markdown",
   "metadata": {},
   "source": [
    "<h3> Format the Result </h3>"
   ]
  },
  {
   "cell_type": "markdown",
   "metadata": {},
   "source": [
    "The above output we get is not easy to understand and with no indentations and line breaks. So the json.dumps() method has parameters to make it easy to the above output. \n",
    "1) we use indent parameter to define the numbers of indents: "
   ]
  },
  {
   "cell_type": "code",
   "execution_count": 2,
   "metadata": {},
   "outputs": [
    {
     "data": {
      "text/plain": [
       "'{\\n    \"name\": \"Rohit\",\\n    \"age\": 30,\\n    \"married\": true,\\n    \"divorced\": false,\\n    \"children\": [\\n        \"Anu\",\\n        \"Piu\"\\n    ],\\n    \"pets\": null,\\n    \"four-wheelers\": [\\n        {\\n            \"model\": \"Rolce Royce\",\\n            \"mpg\": 27.5\\n        },\\n        {\\n            \"model\": \"Pajero\",\\n            \"mpg\": 14.6\\n        }\\n    ]\\n}'"
      ]
     },
     "execution_count": 2,
     "metadata": {},
     "output_type": "execute_result"
    }
   ],
   "source": [
    "json.dumps(p,indent=4)"
   ]
  },
  {
   "cell_type": "code",
   "execution_count": 4,
   "metadata": {},
   "outputs": [
    {
     "data": {
      "text/plain": [
       "'{\\n  \"name\": \"Rohit\",\\n  \"age\": 30,\\n  \"married\": true,\\n  \"divorced\": false,\\n  \"children\": [\\n    \"Anu\",\\n    \"Piu\"\\n  ],\\n  \"pets\": null,\\n  \"four-wheelers\": [\\n    {\\n      \"model\": \"Rolce Royce\",\\n      \"mpg\": 27.5\\n    },\\n    {\\n      \"model\": \"Pajero\",\\n      \"mpg\": 14.6\\n    }\\n  ]\\n}'"
      ]
     },
     "execution_count": 4,
     "metadata": {},
     "output_type": "execute_result"
    }
   ],
   "source": [
    "json.dumps(p,indent=2)"
   ]
  },
  {
   "cell_type": "markdown",
   "metadata": {},
   "source": [
    "We can aslo use sperators. default value is (\",\",\":\") ---> which means that \n",
    "using comma and space to seperate each object and a colon and a space to sepearte keys (name) from the values."
   ]
  },
  {
   "cell_type": "code",
   "execution_count": 6,
   "metadata": {},
   "outputs": [
    {
     "data": {
      "text/plain": [
       "'{\\n    \"name\" = \"Rohit\". \\n    \"age\" = 30. \\n    \"married\" = true. \\n    \"divorced\" = false. \\n    \"children\" = [\\n        \"Anu\". \\n        \"Piu\"\\n    ]. \\n    \"pets\" = null. \\n    \"four-wheelers\" = [\\n        {\\n            \"model\" = \"Rolce Royce\". \\n            \"mpg\" = 27.5\\n        }. \\n        {\\n            \"model\" = \"Pajero\". \\n            \"mpg\" = 14.6\\n        }\\n    ]\\n}'"
      ]
     },
     "execution_count": 6,
     "metadata": {},
     "output_type": "execute_result"
    }
   ],
   "source": [
    "# Example \n",
    "json.dumps(p,indent=4,separators=(\". \", \" = \"))"
   ]
  },
  {
   "cell_type": "markdown",
   "metadata": {},
   "source": [
    "<h3> Order the Output </h3>"
   ]
  },
  {
   "cell_type": "markdown",
   "metadata": {},
   "source": [
    "json.dumps() method has parameters to order the keys in the output.  So we use sort_keys parameter to specify if output should be in sorted or not.  "
   ]
  },
  {
   "cell_type": "code",
   "execution_count": 7,
   "metadata": {},
   "outputs": [
    {
     "data": {
      "text/plain": [
       "'{\\n    \"age\": 30,\\n    \"children\": [\\n        \"Anu\",\\n        \"Piu\"\\n    ],\\n    \"divorced\": false,\\n    \"four-wheelers\": [\\n        {\\n            \"model\": \"Rolce Royce\",\\n            \"mpg\": 27.5\\n        },\\n        {\\n            \"model\": \"Pajero\",\\n            \"mpg\": 14.6\\n        }\\n    ],\\n    \"married\": true,\\n    \"name\": \"Rohit\",\\n    \"pets\": null\\n}'"
      ]
     },
     "execution_count": 7,
     "metadata": {},
     "output_type": "execute_result"
    }
   ],
   "source": [
    "json.dumps(p,indent=4,sort_keys=True)"
   ]
  },
  {
   "cell_type": "code",
   "execution_count": null,
   "metadata": {},
   "outputs": [],
   "source": []
  }
 ],
 "metadata": {
  "kernelspec": {
   "display_name": "Python 3",
   "language": "python",
   "name": "python3"
  },
  "language_info": {
   "codemirror_mode": {
    "name": "ipython",
    "version": 3
   },
   "file_extension": ".py",
   "mimetype": "text/x-python",
   "name": "python",
   "nbconvert_exporter": "python",
   "pygments_lexer": "ipython3",
   "version": "3.7.6"
  }
 },
 "nbformat": 4,
 "nbformat_minor": 4
}

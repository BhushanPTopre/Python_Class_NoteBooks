{
  "nbformat": 4,
  "nbformat_minor": 0,
  "metadata": {
    "colab": {
      "name": "Practice_Program.ipynb",
      "provenance": [],
      "collapsed_sections": []
    },
    "kernelspec": {
      "name": "python3",
      "display_name": "Python 3"
    },
    "language_info": {
      "name": "python"
    }
  },
  "cells": [
    {
      "cell_type": "markdown",
      "metadata": {
        "id": "iq_edYsI-rcj"
      },
      "source": [
        "<h1> Practice Programming in Python  </h1>"
      ]
    },
    {
      "cell_type": "markdown",
      "metadata": {
        "id": "NJLfMp0t-21V"
      },
      "source": [
        "<h4> 1) WAP to generate Random number  </h4> \n",
        "\n",
        "random ----> random is nothing but the predefined module  or method in python which is used to generate float number between o and 1. \n",
        "\n",
        "import ---> import is nothing but the predefined keyword in python which is used to extract functionalities like the packages or libraries or module etc.\n",
        "\n",
        "random()   ---> random() is nothing but the predefined method which is present in the random module which is used to float number between o and 1.  \n",
        "\n",
        "import random  ---> It is the instruction given by user to the python the interpreter it tells to python interperter that extract the functionaliites like random and placed or given permission to utilized it in the notebook or cell. "
      ]
    },
    {
      "cell_type": "code",
      "metadata": {
        "colab": {
          "base_uri": "https://localhost:8080/"
        },
        "id": "RmU9YPMX-00T",
        "outputId": "f7c56b2b-e81b-4951-ffea-036d8e883a7e"
      },
      "source": [
        "import random \n",
        "x = random.random()\n",
        "print(x)\n",
        "# If we run the cod eagin and again we will get different outputs. "
      ],
      "execution_count": 3,
      "outputs": [
        {
          "output_type": "stream",
          "name": "stdout",
          "text": [
            "0.3510892449787061\n"
          ]
        }
      ]
    },
    {
      "cell_type": "markdown",
      "metadata": {
        "id": "3XgIPMzL-2MV"
      },
      "source": [
        "randint() -----> randint() is nothing but the predefined method present in the random module which is used to genrate integer number within the specific range. randint() having two arguments that can can be pass when it call for providing range.  "
      ]
    },
    {
      "cell_type": "code",
      "metadata": {
        "colab": {
          "base_uri": "https://localhost:8080/"
        },
        "id": "1eLZ7zspEKWo",
        "outputId": "cee5f50b-55c5-4419-904e-303ace9184f8"
      },
      "source": [
        "import random \n",
        "z = random.randint(0,30)\n",
        "print(z)\n",
        "# If we run the cod eagin and again we will get different outputs."
      ],
      "execution_count": 6,
      "outputs": [
        {
          "output_type": "stream",
          "name": "stdout",
          "text": [
            "26\n"
          ]
        }
      ]
    },
    {
      "cell_type": "markdown",
      "metadata": {
        "id": "LZ83gR8cEpR8"
      },
      "source": [
        "<h5> WAP to generate random number and stored it in the list. </h5>\n",
        "\n",
        "append() ----> append() is  is nothing but the predefined method which is used add the specified element or item into specified the sequence.  "
      ]
    },
    {
      "cell_type": "code",
      "metadata": {
        "colab": {
          "base_uri": "https://localhost:8080/"
        },
        "id": "CuTrFwE4EcTP",
        "outputId": "42029565-cf2e-4115-e184-d42f549e2e29"
      },
      "source": [
        "import random \n",
        "L_rand_num = []\n",
        "for x in range(0,10):\n",
        "  num = random.randint(1,30)\n",
        "  L_rand_num.append(num)\n",
        "\n",
        "print(L_rand_num) \n"
      ],
      "execution_count": 7,
      "outputs": [
        {
          "output_type": "stream",
          "name": "stdout",
          "text": [
            "[24, 16, 22, 13, 17, 25, 16, 10, 25, 10]\n"
          ]
        }
      ]
    },
    {
      "cell_type": "markdown",
      "metadata": {
        "id": "YydcyQpDGbZX"
      },
      "source": [
        "<h5> \n",
        "sample()  ---> sample() is nothing but the predefined method in python which is present in the random module which is used to generate list of random numbers.  \n",
        "\n",
        "sample() method having two arguments that can be pass when it called , so first argument belongs to range of the random number generator and second is the number of random number.  </h5>"
      ]
    },
    {
      "cell_type": "code",
      "metadata": {
        "colab": {
          "base_uri": "https://localhost:8080/"
        },
        "id": "4Qk_hDmKGSRa",
        "outputId": "298e3a20-1ffc-4f8b-a90f-fa7affc24d68"
      },
      "source": [
        "import random \n",
        "rnlist = random.sample(range(5,20),5)\n",
        "print(rnlist)"
      ],
      "execution_count": 8,
      "outputs": [
        {
          "output_type": "stream",
          "name": "stdout",
          "text": [
            "[9, 6, 19, 18, 7]\n"
          ]
        }
      ]
    },
    {
      "cell_type": "markdown",
      "metadata": {
        "id": "D2Lh5XzQJXT7"
      },
      "source": [
        "<h4> WAP to convert km to miles or WAP to convert miles to km </h4>\n",
        "\n",
        "Logic :- 1 km = 0.62137 miles  \n",
        "\n",
        "Miles = km * 0.62137\n",
        "\n",
        "Km = Miles / 0.62137 "
      ]
    },
    {
      "cell_type": "code",
      "metadata": {
        "colab": {
          "base_uri": "https://localhost:8080/"
        },
        "id": "Q-I251ldIzgI",
        "outputId": "a01e8800-225b-44c9-c60d-dada53b7282c"
      },
      "source": [
        "# Example 1\n",
        "km = float(input(\"Enter the kelometer:\"))\n",
        "miles = km * 0.62137\n",
        "print(\"{}km means {}miles\".format(km,miles))"
      ],
      "execution_count": 10,
      "outputs": [
        {
          "output_type": "stream",
          "name": "stdout",
          "text": [
            "Enter the kelometer:10\n",
            "10.0km means 6.213699999999999miles\n"
          ]
        }
      ]
    },
    {
      "cell_type": "code",
      "metadata": {
        "colab": {
          "base_uri": "https://localhost:8080/"
        },
        "id": "7rxSPlJmKZas",
        "outputId": "71c016af-3264-48ee-dd10-1829c75dbf28"
      },
      "source": [
        "# Example 2\n",
        "miles = float(input(\"Enter the miles:\"))\n",
        "km = miles / 0.62137\n",
        "print(\"{}miles means {}km\".format(miles,km))"
      ],
      "execution_count": 11,
      "outputs": [
        {
          "output_type": "stream",
          "name": "stdout",
          "text": [
            "Enter the miles:6.213699999999999\n",
            "6.213699999999999miles means 10.0km\n"
          ]
        }
      ]
    },
    {
      "cell_type": "markdown",
      "metadata": {
        "id": "qUo8hnN0K8Mm"
      },
      "source": [
        "<h4> Calendar \n",
        "calendar is nothign but the predefined module in the python which is used to display the calendar in python. \n",
        "\n",
        "month(yy,mm) ----> month(yy,mm) is nothing but the predefined method in python whcih is present in the calendar module which is used to display the year and month.</h4>"
      ]
    },
    {
      "cell_type": "code",
      "metadata": {
        "colab": {
          "base_uri": "https://localhost:8080/"
        },
        "id": "_c3Eygk_KuMm",
        "outputId": "3633a556-167d-49fe-a6b8-27ca71cf2e1e"
      },
      "source": [
        "import calendar\n",
        "yy = int(input(\"Enter the year:\"))\n",
        "mm = int(input(\"Enter the month:\"))\n",
        "print(calendar.month(yy,mm))"
      ],
      "execution_count": 12,
      "outputs": [
        {
          "output_type": "stream",
          "name": "stdout",
          "text": [
            "Enter the year:21\n",
            "Enter the month:10\n",
            "     October 21\n",
            "Mo Tu We Th Fr Sa Su\n",
            "             1  2  3\n",
            " 4  5  6  7  8  9 10\n",
            "11 12 13 14 15 16 17\n",
            "18 19 20 21 22 23 24\n",
            "25 26 27 28 29 30 31\n",
            "\n"
          ]
        }
      ]
    },
    {
      "cell_type": "code",
      "metadata": {
        "id": "19LpoFOWL7q0"
      },
      "source": [
        ""
      ],
      "execution_count": null,
      "outputs": []
    }
  ]
}
{
  "nbformat": 4,
  "nbformat_minor": 0,
  "metadata": {
    "colab": {
      "name": "Python_Basic.ipynb",
      "provenance": [],
      "collapsed_sections": []
    },
    "kernelspec": {
      "name": "python3",
      "display_name": "Python 3"
    },
    "language_info": {
      "name": "python"
    }
  },
  "cells": [
    {
      "cell_type": "markdown",
      "metadata": {
        "id": "hjXyNqUxgpVL"
      },
      "source": [
        "1) Comments in Python <br><br>\n",
        "\n",
        "<br> <h3> 1) Single Line Comments </h3>\n",
        "Comments is nothing but the task which does not execute during the execution of program. \n",
        "\n",
        "Comments is nothing but the task which skip by compiler or interpreter. \n",
        "\n",
        "Comments can be used to explain the python instruction implementation.\n",
        "\n",
        "Comments can be used to make the code more readable. \n",
        "\n",
        "Comments can be used to prevent execution when testing. \n"
      ]
    },
    {
      "cell_type": "markdown",
      "metadata": {
        "id": "VXwMW8KOn5xM"
      },
      "source": [
        "<h3> How we create Comment in Python?</h3> <br>\n",
        "Ans:- Comments strat with # (symbol) \n",
        "\n",
        "Comments can be placed at the end of a line , and python will ingnore the rest of the lines or instructions in the terminal.  "
      ]
    },
    {
      "cell_type": "code",
      "metadata": {
        "colab": {
          "base_uri": "https://localhost:8080/"
        },
        "id": "vhbXpwMDgve7",
        "outputId": "89300249-cb64-4e92-9770-faecb6125284"
      },
      "source": [
        "print(\"Welcome in IT World!\")  # Predefined Function print\n",
        "\n",
        "# print(a + b) # Assign value to a and b "
      ],
      "execution_count": null,
      "outputs": [
        {
          "output_type": "stream",
          "name": "stdout",
          "text": [
            "Welcome in IT World!\n"
          ]
        }
      ]
    },
    {
      "cell_type": "code",
      "metadata": {
        "id": "kKCT6B15hdqN",
        "colab": {
          "base_uri": "https://localhost:8080/"
        },
        "outputId": "e03a92f3-d62c-4c69-cf4b-7ee4ebbf1bf1"
      },
      "source": [
        "print('Students did you get concepts:!') # This is the comment"
      ],
      "execution_count": null,
      "outputs": [
        {
          "output_type": "stream",
          "name": "stdout",
          "text": [
            "Students did you get concepts:!\n"
          ]
        }
      ]
    },
    {
      "cell_type": "markdown",
      "metadata": {
        "id": "QYbQPXlepnGO"
      },
      "source": [
        "2) Multi-Line Comment \n",
        "\n",
        "As far as Concepts concerend, Python does not support multi-Line Comments. \n",
        "\n",
        "To add Multi-Line Comment you should insert a # symbol for each line.  "
      ]
    },
    {
      "cell_type": "code",
      "metadata": {
        "id": "xRT7L5iHpOKI"
      },
      "source": [
        "print('Welcome')\n",
        "# print(a+b)\n",
        "# ans = a - b \n",
        "# result = z - a\n"
      ],
      "execution_count": null,
      "outputs": []
    },
    {
      "cell_type": "markdown",
      "metadata": {
        "id": "70rdWEB8sqBP"
      },
      "source": [
        "Note:- As far as Python Updation is concerned , Python will ingnored string values that are not assigned to a variable so you can add Multiline String concept (triple Quotes) in your instruction and place your comment inside it. "
      ]
    },
    {
      "cell_type": "code",
      "metadata": {
        "colab": {
          "base_uri": "https://localhost:8080/",
          "height": 166
        },
        "id": "YLNM7hMhtM3U",
        "outputId": "cf6cf0a3-b136-4a80-f83d-5b78c2fad766"
      },
      "source": [
        "bhushan"
      ],
      "execution_count": null,
      "outputs": [
        {
          "output_type": "error",
          "ename": "NameError",
          "evalue": "ignored",
          "traceback": [
            "\u001b[0;31m---------------------------------------------------------------------------\u001b[0m",
            "\u001b[0;31mNameError\u001b[0m                                 Traceback (most recent call last)",
            "\u001b[0;32m<ipython-input-9-4bfb5d6e2be6>\u001b[0m in \u001b[0;36m<module>\u001b[0;34m()\u001b[0m\n\u001b[0;32m----> 1\u001b[0;31m \u001b[0mbhushan\u001b[0m\u001b[0;34m\u001b[0m\u001b[0;34m\u001b[0m\u001b[0m\n\u001b[0m",
            "\u001b[0;31mNameError\u001b[0m: name 'bhushan' is not defined"
          ]
        }
      ]
    },
    {
      "cell_type": "code",
      "metadata": {
        "id": "Fa7JKkLFtPF9"
      },
      "source": [
        "print('Welcome')\n",
        "\"\"\"print(a+b)\n",
        "ans = a - b \n",
        "result = z - a \"\"\""
      ],
      "execution_count": null,
      "outputs": []
    },
    {
      "cell_type": "markdown",
      "metadata": {
        "id": "xBPfbAzfvn5T"
      },
      "source": [
        "************************************"
      ]
    },
    {
      "cell_type": "markdown",
      "metadata": {
        "id": "s2qPcVbfv2y8"
      },
      "source": [
        "<h1> Variables in Python </h1>"
      ]
    },
    {
      "cell_type": "markdown",
      "metadata": {
        "id": "zDH_3vduv_jr"
      },
      "source": [
        "As we know , \n",
        "\n",
        "Variable is nothing but the set of characaters which is used to store the value. or Variable is nothing but storage location. \n",
        "\n",
        "\n",
        "In Python , Variable is nothing but the identifier or container for storing the data values.\n",
        "\n",
        "Note:- Python has no command or instruction for declaraing the variable. A variable is created first and then assign the value to it. \n"
      ]
    },
    {
      "cell_type": "code",
      "metadata": {
        "id": "gG63OxW1v-cm",
        "colab": {
          "base_uri": "https://localhost:8080/"
        },
        "outputId": "e1796962-2e62-4ea0-c7be-5ee23ba81d21"
      },
      "source": [
        "# For Example Creating the variable \n",
        "x = 5               # x is variable \n",
        "name = \"Hi-Tech\"    # name is variable \n",
        "print(x)\n",
        "print(name)"
      ],
      "execution_count": null,
      "outputs": [
        {
          "output_type": "stream",
          "name": "stdout",
          "text": [
            "5\n",
            "Hi-Tech\n"
          ]
        }
      ]
    },
    {
      "cell_type": "markdown",
      "metadata": {
        "id": "OnxwFpVfvKBB"
      },
      "source": [
        "<h3> Note:- Variables do not need to be declared using any type and can be even change type after assign the value. </h3>"
      ]
    },
    {
      "cell_type": "code",
      "metadata": {
        "colab": {
          "base_uri": "https://localhost:8080/"
        },
        "id": "ClH7TjLXu982",
        "outputId": "3d98b67d-025f-46bc-d9e6-3f9780efe1a1"
      },
      "source": [
        "# For Example \n",
        "d = 420          # d is type of int \n",
        "d = \"Hi-Tech\"    # Now d is type of str\n",
        "print(d) "
      ],
      "execution_count": null,
      "outputs": [
        {
          "output_type": "stream",
          "name": "stdout",
          "text": [
            "Hi-Tech\n"
          ]
        }
      ]
    },
    {
      "cell_type": "markdown",
      "metadata": {
        "id": "lc7SFOwLxGH2"
      },
      "source": [
        "Type Casting (Regarding Variable type)\n",
        "Convertion of one data type into another data type during run time is called as Type Casting. If we want to specify data type of a variable , the it can be done using type casting. "
      ]
    },
    {
      "cell_type": "code",
      "metadata": {
        "colab": {
          "base_uri": "https://localhost:8080/"
        },
        "id": "8JWNGlMUwi_V",
        "outputId": "8ab52fd6-9969-49b0-cad4-1f4f26866341"
      },
      "source": [
        "# For Example (Type Casting )\n",
        "p = str(3)      # p will be '3'\n",
        "print(p)\n",
        "type(p)"
      ],
      "execution_count": null,
      "outputs": [
        {
          "output_type": "stream",
          "name": "stdout",
          "text": [
            "3\n"
          ]
        },
        {
          "output_type": "execute_result",
          "data": {
            "text/plain": [
              "str"
            ]
          },
          "metadata": {},
          "execution_count": 5
        }
      ]
    },
    {
      "cell_type": "code",
      "metadata": {
        "colab": {
          "base_uri": "https://localhost:8080/"
        },
        "id": "fnOSmhngx4nV",
        "outputId": "02969aa4-e6e5-4d4f-ebcb-32d6c885eeda"
      },
      "source": [
        "# For Example (Type Casting )\n",
        "q = float(3)      # p will be 3.0\n",
        "print(q)\n",
        "type(q)"
      ],
      "execution_count": null,
      "outputs": [
        {
          "output_type": "stream",
          "name": "stdout",
          "text": [
            "3.0\n"
          ]
        },
        {
          "output_type": "execute_result",
          "data": {
            "text/plain": [
              "float"
            ]
          },
          "metadata": {},
          "execution_count": 7
        }
      ]
    },
    {
      "cell_type": "markdown",
      "metadata": {
        "id": "5NRLQCUKyxI7"
      },
      "source": [
        "What is mean by print()? \n",
        "Ans:- print() is nothing but the predefined function in python which is used to display the message include in \"\" or '' as well as value.  \n",
        "<br>\n",
        "What is mean by str()? \n",
        "Ans:- str() is nothing but the predefined function in python which is used to convert he repective value into the string type (str). \n",
        "<br>\n",
        "what is mean by float()? \n",
        "Ans:- float() is nothing but the predefined function in python which is used to to convert he repective value into the real type. \n",
        "\n",
        "<br>\n",
        "what is mean by type()? \n",
        "Ans:- type() is nothing but the predefined function in python which is used to specify type of the variable. \n"
      ]
    },
    {
      "cell_type": "markdown",
      "metadata": {
        "id": "_4XG-AqF3cNZ"
      },
      "source": [
        "** <h1> Variable Names and Rules </h1> **\n",
        "<h3> \n",
        "Variable Names ---> A variable can have a short name (like p and q) or in case it is discriptive name(totalSalary, tot_sal)\n",
        "</h3>\n",
        "<h2>\n",
        "Rules for Variables \n",
        "1) It must be start with letters or underscore character. \n",
        "2) A variable name cannot start with a number. \n",
        "3) A variable name can only contain aplphanumeric charcaters and underscores. (A-z,0-9, _)\n",
        "4) Variable names are case sensitive. \n",
        "\n",
        "\n",
        "</h2>"
      ]
    },
    {
      "cell_type": "code",
      "metadata": {
        "id": "tK-IvQ_o2K1N"
      },
      "source": [
        "# For Example [Variable names]\n",
        "# Valid Variable Names\n",
        "TotalSalary = 5000\n",
        "total_salary = 5000\n",
        "_total_salary = 5000\n",
        "total_Salary = 5000\n",
        "TOTALSALARY = 5000\n",
        "Total_Salary2 = 5000 \n",
        "\n",
        "# Invalid Variable names\n",
        "#2Total_salary = 5000     Invalid variable name\n",
        "#Total-Salary = 5000   \n",
        "#Total Salary = 5000"
      ],
      "execution_count": null,
      "outputs": []
    },
    {
      "cell_type": "markdown",
      "metadata": {
        "id": "-J8qWYST6tcd"
      },
      "source": [
        "**Multi Words Variable names**\n",
        "Variable names with more than one word is called as Mutiword variable. there are 3 techniques used for implementing varaible names . <br>\n",
        "<br>\n",
        "1) Camel Case <br>\n",
        "Each word, except the first , strats with capital letter: \n",
        "socailSecurityNumber \n",
        "totalSalary\n",
        "<br>\n",
        "2) Pascal Case <br>\n",
        "Each word starts with a capital letter:\n",
        "SocailSecurityNumber\n",
        "<br>\n",
        "3) Snake Case <br>\n",
        "Each word is sperated by underscore. \n",
        "socail_security_number\n",
        "<br>"
      ]
    },
    {
      "cell_type": "markdown",
      "metadata": {
        "id": "Jd6LWTvM3Bna"
      },
      "source": [
        "**Many values to Multiple Variables**\n",
        "\n",
        "Python allows you to assign values to multiple variables in one go or one line:"
      ]
    },
    {
      "cell_type": "code",
      "metadata": {
        "id": "ugjvOtEx9c82",
        "colab": {
          "base_uri": "https://localhost:8080/"
        },
        "outputId": "93abbc56-6466-4ea3-d493-f25118de65ca"
      },
      "source": [
        "p, q, r = \"Apple\", 23, 4.56\n",
        "print(p)\n",
        "print(q)\n",
        "print(r)"
      ],
      "execution_count": 1,
      "outputs": [
        {
          "output_type": "stream",
          "name": "stdout",
          "text": [
            "Apple\n",
            "23\n",
            "4.56\n"
          ]
        }
      ]
    },
    {
      "cell_type": "markdown",
      "metadata": {
        "id": "GzD8dGIf4jLC"
      },
      "source": [
        "**Swapping of two numbers**"
      ]
    },
    {
      "cell_type": "code",
      "metadata": {
        "colab": {
          "base_uri": "https://localhost:8080/"
        },
        "id": "pNzqs66n4Wgh",
        "outputId": "f0f47711-bd81-41f0-fd8f-f24f17031d33"
      },
      "source": [
        "x = 10\n",
        "y = 20 \n",
        "x, y = y, x    # Logic of Swapping\n",
        "print(\"After Swapping\")\n",
        "print(x)\n",
        "print(y)"
      ],
      "execution_count": 2,
      "outputs": [
        {
          "output_type": "stream",
          "name": "stdout",
          "text": [
            "After Swapping\n",
            "20\n",
            "10\n"
          ]
        }
      ]
    },
    {
      "cell_type": "markdown",
      "metadata": {
        "id": "pe4yMFB95n-m"
      },
      "source": [
        "1) WAP to calculate area of rectangle "
      ]
    },
    {
      "cell_type": "code",
      "metadata": {
        "colab": {
          "base_uri": "https://localhost:8080/"
        },
        "id": "YzCCDdoO447i",
        "outputId": "f1c033a1-7897-4694-a036-148e3c704adc"
      },
      "source": [
        "length = 2.3 \n",
        "bredth = 5.2 \n",
        "print(\"Area of rectangle is \",(length*bredth))"
      ],
      "execution_count": 6,
      "outputs": [
        {
          "output_type": "stream",
          "name": "stdout",
          "text": [
            "Area of rectangle is  11.959999999999999\n"
          ]
        }
      ]
    },
    {
      "cell_type": "code",
      "metadata": {
        "colab": {
          "base_uri": "https://localhost:8080/"
        },
        "id": "pRPVgV7j7hie",
        "outputId": "6c410932-f50b-46b2-db01-97c6e8634ca6"
      },
      "source": [
        "length = 2.3 \n",
        "bredth = 5.2 \n",
        "area = (length*bredth)\n",
        "print(\"Area of rectangle is {}\".format(area))"
      ],
      "execution_count": 8,
      "outputs": [
        {
          "output_type": "stream",
          "name": "stdout",
          "text": [
            "Area of rectangle is 11.959999999999999\n"
          ]
        }
      ]
    },
    {
      "cell_type": "markdown",
      "metadata": {
        "id": "8Lb_upDy8-w_"
      },
      "source": [
        "**What is mean by format function?**\n",
        "<h4>\n",
        "format() is nothing but tpredefined function in python which is used to print the value on the placeholder inside the string as well as concatenate the value with respective string or message. \n",
        "</h4>\n",
        "<h3>\n",
        " a) How we use format function? \n",
        " Ans:- With the help of follwing syntax:- \n",
        "<br>\n",
        "Note:- {} ---> is called as Placeholder\n",
        "<br>\n",
        "<b>Syntax: \n",
        "        string.format(val1,val2,...) <br>\n",
        "   Example:- \n",
        "        Factorial of {} is {}.format(n,f) <br>\n",
        "       </b>        \n",
        "</h3>\n",
        "\n"
      ]
    },
    {
      "cell_type": "code",
      "metadata": {
        "colab": {
          "base_uri": "https://localhost:8080/"
        },
        "id": "7-gPUNlV8nhN",
        "outputId": "39beb5a0-54d6-4197-eeab-501d7dd251bb"
      },
      "source": [
        "length = 2.3 \n",
        "bredth = 5.2 \n",
        "area = (length*bredth)\n",
        "print(\"Area of rectangle is {} having length is {} and having bredth is {}\".format(area,length,bredth))"
      ],
      "execution_count": 10,
      "outputs": [
        {
          "output_type": "stream",
          "name": "stdout",
          "text": [
            "Area of rectangle is 11.959999999999999 having length is 2.3 and having bredth is 5.2\n"
          ]
        }
      ]
    },
    {
      "cell_type": "markdown",
      "metadata": {
        "id": "Cy7-MNuzAt_A"
      },
      "source": [
        "**How we take user input in python?** <br>\n",
        "Ans:- With the help of input() <br>\n",
        "input() ---> input() in nothing but he predefined function in python which is used to extract or take input from the user and put into the recpective variable address or container. \n",
        "<br>\n",
        "\n",
        "<h3>\n",
        " How we use input function? <br>\n",
        " Ans: -With the help of follwing syntax:-  <br>\n",
        "syntax:- <br>\n",
        "         input(prompt)<br>\n",
        "<br> \n",
        "Example : <br>\n",
        "        input(\"Enter the value\")  \n",
        "         <br>\n",
        "</h3>\n",
        "<br>\n",
        "<h2> Note:- input() return or provide us string value. \n",
        "</h2>"
      ]
    },
    {
      "cell_type": "code",
      "metadata": {
        "colab": {
          "base_uri": "https://localhost:8080/"
        },
        "id": "SsP74vi6_5TF",
        "outputId": "45357da0-8bf2-4523-e653-3d91868f920e"
      },
      "source": [
        "length  = float(input(\"Enter the length of rectangle:\"))\n",
        "bredth = float(input(\"Enter the breadth of rectangle:\"))\n",
        "print(\"Area of rectangle is \",(length*bredth))"
      ],
      "execution_count": 12,
      "outputs": [
        {
          "output_type": "stream",
          "name": "stdout",
          "text": [
            "Enter the length of rectangle:2.3\n",
            "Enter the breadth of rectangle:3.2\n",
            "Area of rectangle is  7.359999999999999\n"
          ]
        }
      ]
    },
    {
      "cell_type": "code",
      "metadata": {
        "id": "ZphmJ9nHCykx"
      },
      "source": [
        ""
      ],
      "execution_count": null,
      "outputs": []
    }
  ]
}
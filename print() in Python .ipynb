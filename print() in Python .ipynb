{
 "cells": [
  {
   "cell_type": "markdown",
   "metadata": {},
   "source": [
    "<h1> print() in Python </h1>\n",
    "<br> print() function in nothing but the predefined function in python which is used to display the message on the screen or standard output devices. \n",
    "\n",
    "<br>\n",
    "<h3> How we use print()? </h3>\n",
    "<h4> With the help of follwing syntax:-  \n",
    "\n",
    "   <b> print(values, sep='',end='', file=file,flush=flush)</b> \n",
    "\n",
    "<br>\n",
    "  Where, <br>\n",
    "        values --->  values is nothing but the compulsory parametre of the print function which is used to represent the value or messages which user wants to display on the output screen or output devices. whatever messages or value will be converted into the string before printed. \n",
    "    <br> \n",
    "    \n",
    "        sep='' ----> [Seperator] ---> sep is nothing but the optional parameter of print function which is used to specify how we seperate the two or more than two values or messages or objects. By defualt , seperator value is ''.(Space).\n",
    "    <br> \n",
    "        end='' ---> end is nothing but the optional parameter of print function which is used to specify what you want to print at the end. By defualt , end value is '\\n'.(New Line). \n",
    "    <br> \n",
    "    file=file ---> file is nothing but the optional parameter of print function which is used to specify perticular file or object on which which you want to write your output. By Default, file value is sys:stdout. \n",
    "    <br> \n",
    "    flush=flush ---> flush is nothing but the optional parameter of print function which is used to specify whether your output iflushed or not. If you want to flush it then with the help of boolean value you can flush it. If you specify flush = true (1) then output is flush out else output is not flush out. by defualt flush value is flase (0).\n",
    "    <br>   \n",
    "</h4>\n",
    "  \n"
   ]
  },
  {
   "cell_type": "code",
   "execution_count": 1,
   "metadata": {},
   "outputs": [
    {
     "name": "stdout",
     "output_type": "stream",
     "text": [
      "Got it ! Guys ........\n"
     ]
    }
   ],
   "source": [
    "print(\"Got it ! Guys ........\")"
   ]
  },
  {
   "cell_type": "code",
   "execution_count": 3,
   "metadata": {},
   "outputs": [
    {
     "name": "stdout",
     "output_type": "stream",
     "text": [
      "String literals \n",
      " are used to format the specific string as per user \t requirement.\n"
     ]
    }
   ],
   "source": [
    "# 1) String Literals (String Value)\n",
    "print(\"String literals \\n are used to format the specific string as per user \\t requirement.\")"
   ]
  },
  {
   "cell_type": "code",
   "execution_count": 9,
   "metadata": {},
   "outputs": [
    {
     "name": "stdout",
     "output_type": "stream",
     "text": [
      "String literals are used to format the specific string as per user requirement.\n",
      "String literals are used to format the specific string**********\n",
      "Welcome in Hi-Tech Coaching Classes\n"
     ]
    }
   ],
   "source": [
    "# 2) String literals (Strign value with end paramaeter)\n",
    "print(\"String literals are used to format the specific string as per user requirement.\")\n",
    "print(\"String literals are used to format the specific string\",end='**********\\n')\n",
    "print(\"Welcome in Hi-Tech Coaching Classes\")\n"
   ]
  },
  {
   "cell_type": "code",
   "execution_count": 11,
   "metadata": {},
   "outputs": [
    {
     "name": "stdout",
     "output_type": "stream",
     "text": [
      "String literals are used to format the specific string as per user requirement.\n",
      "Welcome in Hi-Tech Coaching Classes\n"
     ]
    }
   ],
   "source": [
    "# 3) String Literals (String Value with sep)\n",
    "print(\"String literals are used to format the specific string as per user requirement.\",sep ='*')\n",
    "print(\"Welcome in Hi-Tech Coaching Classes\")"
   ]
  },
  {
   "cell_type": "code",
   "execution_count": 14,
   "metadata": {},
   "outputs": [
    {
     "name": "stdout",
     "output_type": "stream",
     "text": [
      "String literals are used to format the specific string as per user requirement.\n",
      "Welcome in Hi-Tech Coaching Classes\n"
     ]
    }
   ],
   "source": [
    "print(\"String literals are used to format the specific string as per user requirement.\",\"Welcome in Hi-Tech Coaching Classes\",sep ='')"
   ]
  },
  {
   "cell_type": "code",
   "execution_count": 15,
   "metadata": {},
   "outputs": [
    {
     "name": "stdout",
     "output_type": "stream",
     "text": [
      "hello---What are you doing?\n"
     ]
    }
   ],
   "source": [
    "# 3) String Literals (String Value with sep)\n",
    "print(\"hello\", \"What are you doing?\",sep='---')"
   ]
  },
  {
   "cell_type": "code",
   "execution_count": 16,
   "metadata": {},
   "outputs": [
    {
     "data": {
      "text/plain": [
       "'Hello ! Students !!!\\n'"
      ]
     },
     "execution_count": 16,
     "metadata": {},
     "output_type": "execute_result"
    }
   ],
   "source": [
    "# 4) file Parameter \n",
    "import io \n",
    "d_file = io.StringIO()      # StringIO is nothing but the predefined function present in the IO package which is used create the dummy file. \n",
    "print(\"Hello ! Students !!!\",file=d_file)    \n",
    "d_file.getvalue()   # getvalue() is nothing but predefined function which is used to extract the values from the dummy file. "
   ]
  },
  {
   "cell_type": "code",
   "execution_count": 23,
   "metadata": {},
   "outputs": [
    {
     "name": "stdout",
     "output_type": "stream",
     "text": [
      "Enter the radius of Circle:2.3\n",
      "Radius of Circle is  2.3\n",
      "Radius of circle is 2.3\n",
      "Enter the height of Cylender:3.6\n",
      "Height of Cylender is  3.6\n",
      "Height of Cylender is 3.6\n",
      "Radius of Circle is  2.3 Height of Cylender is  3.6\n"
     ]
    }
   ],
   "source": [
    "# 5) How to print value as well as message on the output screen ? \n",
    "radius = float(input(\"Enter the radius of Circle:\"))\n",
    "print(\"Radius of Circle is \",radius)\n",
    "print(\"Radius of circle is {}\".format(radius))\n",
    "height = float(input(\"Enter the height of Cylender:\"))\n",
    "print(\"Height of Cylender is \",height)\n",
    "print(\"Height of Cylender is {}\".format(height))\n",
    "\n",
    "print(\"Radius of Circle is \",radius, \"Height of Cylender is \",height)"
   ]
  },
  {
   "cell_type": "code",
   "execution_count": 24,
   "metadata": {},
   "outputs": [
    {
     "name": "stdout",
     "output_type": "stream",
     "text": [
      "p = 00005\n",
      "\n",
      "\n",
      "\n",
      "p = 05"
     ]
    }
   ],
   "source": [
    "# 6) print() with seperator and end parameters\n",
    "p = 5\n",
    "print(\"p = \",p, sep='0000',end='\\n\\n\\n\\n')\n",
    "print(\"p = \",p, sep='0',end='')"
   ]
  },
  {
   "cell_type": "markdown",
   "metadata": {},
   "source": [
    "\"\"\"\n",
    "In python , you can print the objects or values or messages to the file by specifying the file parameter. \n",
    "Write a instructions which trie to open a text file in writing mode. If this file doen'snt exists the text file\n",
    "is created and opend in writing mode. \n",
    "\"\"\"\n",
    "\"\"\"\n",
    "This instructions tries to open the file1.txt in writing mode. If this file doent exixts then\n",
    "file1.txt is created and opened in writing mode. We passed sf file buffer object to the file \n",
    "parameter. The string IDIOTS ....Sorrry ... Good Students ...Huhhhhh!is printed to the file1.txt. \n",
    "At last , file is closed using close(). \n",
    "\n",
    "\"\"\"\n"
   ]
  },
  {
   "cell_type": "code",
   "execution_count": 28,
   "metadata": {},
   "outputs": [],
   "source": [
    "# 7) print() with file parameter \n",
    "import io \n",
    "sf = open('file1.txt','w')   \n",
    "print(\"IDIOTS ....Sorrry ... Good Students ...Huhhhhh!\",file=sf)\n",
    "sf.close()"
   ]
  },
  {
   "cell_type": "code",
   "execution_count": null,
   "metadata": {},
   "outputs": [],
   "source": []
  }
 ],
 "metadata": {
  "kernelspec": {
   "display_name": "Python 3",
   "language": "python",
   "name": "python3"
  },
  "language_info": {
   "codemirror_mode": {
    "name": "ipython",
    "version": 3
   },
   "file_extension": ".py",
   "mimetype": "text/x-python",
   "name": "python",
   "nbconvert_exporter": "python",
   "pygments_lexer": "ipython3",
   "version": "3.7.6"
  }
 },
 "nbformat": 4,
 "nbformat_minor": 4
}

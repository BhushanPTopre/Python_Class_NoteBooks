{
  "nbformat": 4,
  "nbformat_minor": 0,
  "metadata": {
    "colab": {
      "name": "Python_Operators.ipynb",
      "provenance": [],
      "collapsed_sections": []
    },
    "kernelspec": {
      "name": "python3",
      "display_name": "Python 3"
    },
    "language_info": {
      "name": "python"
    }
  },
  "cells": [
    {
      "cell_type": "markdown",
      "metadata": {
        "id": "UwCdVOkIhueU"
      },
      "source": [
        "<h1> Python Operators </h1>"
      ]
    },
    {
      "cell_type": "markdown",
      "metadata": {
        "id": "n-dLX0I8hz2c"
      },
      "source": [
        "<h3>\n",
        "Operators is nothing but the symbol which is used to perform some operations on values or operands. There are various types of operators used in python ..  \n",
        "</h3>"
      ]
    },
    {
      "cell_type": "markdown",
      "metadata": {
        "id": "HM_yCb9iiEkR"
      },
      "source": [
        "<h5>  \n",
        "1) Identity Operators <br>\n",
        "Identity operators is nothing but the symbol or one of the type of keyword which is used to check whether two values are located on the same part of the memory. or Identity operators is nothing but the symbol or one of the type of keyword which is used to check whether two variables are equal or not. Identity operators are <u>is and is not</u>.\n",
        "<br>\n",
        "is -----> is is nothing but the identity operator which is used to provide true if the operands are equal or identical.  \n",
        "\n",
        "is not ----> is not is nothing but the identity operator which is used to true if the operands are not identical.  \n",
        "\n",
        "</h5>"
      ]
    },
    {
      "cell_type": "code",
      "metadata": {
        "colab": {
          "base_uri": "https://localhost:8080/"
        },
        "id": "OQ2LgPaohzA6",
        "outputId": "60bc953a-531c-4ae9-f470-69c2e44f150b"
      },
      "source": [
        "a = 5\n",
        "b = 50 \n",
        "r = b \n",
        "print(a is b)  # false\n",
        "print(a is r)  # false\n",
        "print(b is r)  # true \n",
        "print(a is not b)  #true "
      ],
      "execution_count": null,
      "outputs": [
        {
          "output_type": "stream",
          "name": "stdout",
          "text": [
            "False\n",
            "False\n",
            "True\n",
            "True\n"
          ]
        }
      ]
    },
    {
      "cell_type": "markdown",
      "metadata": {
        "id": "Cxg3kW26lf7v"
      },
      "source": [
        "<h5> 2) Membership Operator </h5> <br>\n",
        "Membership operator is nothing but the symbol or it is one of the type of keyword which is used to test whether a value or varaible is in a sequence. \n",
        "Membership operators are <u>in and not in</u>. \n",
        "<br>\n",
        "in   ----> in is nothing but the membership operator which is used to provide true if value or varaible is found in the given sequence. \n",
        "\n",
        "not in ---> not in is nothing but the membership operator which is used to provide true if value or varaible is not found in the given sequence. \n",
        "\n",
        "\n",
        "</h5>"
      ]
    },
    {
      "cell_type": "code",
      "metadata": {
        "colab": {
          "base_uri": "https://localhost:8080/"
        },
        "id": "2LVC4EgLlNEO",
        "outputId": "b78b42eb-46cc-411a-eb38-cbbeab230ba6"
      },
      "source": [
        "# Example \n",
        "p = 50\n",
        "q = -6\n",
        "L = [9,55,50,-6,-9,100,145,-8,10]\n",
        "if p not in L:\n",
        "  print(\"p is not in the given list [L]\")\n",
        "else:\n",
        "  print(\"p is in the given list [L]\") \n",
        "\n",
        "if q in L:\n",
        "    print(\"q is in the given list [L]\")\n",
        "else:\n",
        "  print(\"q is not in the given list [L]\") \n",
        "\n"
      ],
      "execution_count": null,
      "outputs": [
        {
          "output_type": "stream",
          "name": "stdout",
          "text": [
            "p is in the given list [L]\n",
            "q is in the given list [L]\n"
          ]
        }
      ]
    },
    {
      "cell_type": "markdown",
      "metadata": {
        "id": "hh9Mk7_Cpc3L"
      },
      "source": [
        "<h5> 3) Precedence and Associativity Operators</h5>\n",
        "<br>\n",
        "<h6> Operator Precedence and Associativity determine the priorities of the operator.  <br>\n",
        "\n",
        "a) Operator Precedence <br>\n",
        "Operator precedence is nothing but the technique or method which is used to determine which operation is perform first when in an expression more than one different opertors are present. \n",
        "\n",
        "</h6>"
      ]
    },
    {
      "cell_type": "code",
      "metadata": {
        "colab": {
          "base_uri": "https://localhost:8080/"
        },
        "id": "ZOSiLOdfosq3",
        "outputId": "4a8e8b0c-144b-4d81-f0b6-f34014a117cf"
      },
      "source": [
        "# Example 1\n",
        "exp1 =  50 + 100 / 2 * 10 \n",
        "print(exp1)"
      ],
      "execution_count": null,
      "outputs": [
        {
          "output_type": "stream",
          "name": "stdout",
          "text": [
            "550.0\n"
          ]
        }
      ]
    },
    {
      "cell_type": "code",
      "metadata": {
        "colab": {
          "base_uri": "https://localhost:8080/"
        },
        "id": "VKveT-mgszac",
        "outputId": "7df860e3-cfea-424a-f388-f63046c64ab9"
      },
      "source": [
        "# Example 2\n",
        "name = \"Darshna\"\n",
        "age = 0\n",
        "if name == \"Darshna\" or name==\"bhushan\" and age>=3:\n",
        "  print(\"Bhiyo or Bhano!!! Smjha Kya.....\")\n",
        "else:\n",
        "  print(\"Praaaactice ki jarurat hai!!!!@@@@\")   "
      ],
      "execution_count": null,
      "outputs": [
        {
          "output_type": "stream",
          "name": "stdout",
          "text": [
            "Bhiyo or Bhano!!! Smjha Kya.....\n"
          ]
        }
      ]
    },
    {
      "cell_type": "markdown",
      "metadata": {
        "id": "lJlELoai5xRD"
      },
      "source": [
        "b) Operator Associativity <br>\n",
        "Operator Associativity is nothing but the technique or method which is used to determine expression with same precedence operator which is to be executed first and which is to executed next. It can be either be left ot right or from right to left.  \n"
      ]
    },
    {
      "cell_type": "code",
      "metadata": {
        "id": "e4WkoJ2UuYJg",
        "colab": {
          "base_uri": "https://localhost:8080/"
        },
        "outputId": "b4d10ccf-d3bb-457b-aa6c-09a541889c7a"
      },
      "source": [
        "# Example \n",
        "print(100 / 10 / 2)"
      ],
      "execution_count": null,
      "outputs": [
        {
          "output_type": "stream",
          "name": "stdout",
          "text": [
            "5.0\n"
          ]
        }
      ]
    },
    {
      "cell_type": "code",
      "metadata": {
        "colab": {
          "base_uri": "https://localhost:8080/"
        },
        "id": "PTG46t0s7hFy",
        "outputId": "66a445ad-fd69-4b67-8b4e-013ec25deb3a"
      },
      "source": [
        "# Example \n",
        "print(100 * 10 * 2)"
      ],
      "execution_count": null,
      "outputs": [
        {
          "output_type": "stream",
          "name": "stdout",
          "text": [
            "2000\n"
          ]
        }
      ]
    },
    {
      "cell_type": "markdown",
      "metadata": {
        "id": "gtscge7Y8P4y"
      },
      "source": [
        "<h5> 4) Arithmetic Operators </h5>\n",
        "<br>\n",
        "<h6>\n",
        "Arithmetic Operators  is nothing but the symbol which is used to perform some mathematical operations or manipulations. \n",
        "</h6>\n"
      ]
    },
    {
      "cell_type": "code",
      "metadata": {
        "colab": {
          "base_uri": "https://localhost:8080/"
        },
        "id": "8RnJHO6z7pps",
        "outputId": "caf8b381-29fa-4bfe-f51e-7f6c2a278c26"
      },
      "source": [
        "15 / 7"
      ],
      "execution_count": null,
      "outputs": [
        {
          "output_type": "execute_result",
          "data": {
            "text/plain": [
              "2.142857142857143"
            ]
          },
          "metadata": {},
          "execution_count": 9
        }
      ]
    },
    {
      "cell_type": "code",
      "metadata": {
        "colab": {
          "base_uri": "https://localhost:8080/"
        },
        "id": "2_2FJovZ9QzU",
        "outputId": "c9575444-fe01-4f10-cbd4-a4d4239759c7"
      },
      "source": [
        "15 // 7\n"
      ],
      "execution_count": null,
      "outputs": [
        {
          "output_type": "execute_result",
          "data": {
            "text/plain": [
              "2"
            ]
          },
          "metadata": {},
          "execution_count": 10
        }
      ]
    },
    {
      "cell_type": "code",
      "metadata": {
        "colab": {
          "base_uri": "https://localhost:8080/"
        },
        "id": "CVwL-ZyQ9TRy",
        "outputId": "5ab4d711-d8bd-407d-fd9a-5e8945157564"
      },
      "source": [
        "2 ** 3"
      ],
      "execution_count": null,
      "outputs": [
        {
          "output_type": "execute_result",
          "data": {
            "text/plain": [
              "8"
            ]
          },
          "metadata": {},
          "execution_count": 11
        }
      ]
    },
    {
      "cell_type": "markdown",
      "metadata": {
        "id": "xKcg6myxoki1"
      },
      "source": [
        "<h3> Bitwise Operator </h3>\n",
        "<br>\n",
        "Bitwise Operator is nothing but the symbol which is used to perform opertations on the data at the bit level. Bitwise Operator is nothing but the symbol which is used to perform bitwise opertations it is also called Bit Level Programming. It consists of two digits , either 0 or 1. The main significance of bitwise operator are to make numerical compuatation or calculations faster. There are 6 bitwise operators are there \n",
        "\n",
        "1) & (Bitwise AND) <br>\n",
        "2) | (Bitwise OR) <br>\n",
        "3) ^ (Bitwise EX-OR) <br>\n",
        "4) ~ (Bitwise Complement) <br>\n",
        "5) << (Bitwise Left Shift Operator) <br>\n",
        "6) >> (Bitwise Right Shift Operator) <br>\n"
      ]
    },
    {
      "cell_type": "markdown",
      "metadata": {
        "id": "sX-iNYOFq_uv"
      },
      "source": [
        "<h6> 1) Bitwise AND (&) <br>\n",
        "Bitwise AND (&) is nothing but the symbol which is used to perform bit level operation on the operands, If the corresponding bits of both the operands are 1 then the output are 1 else output would be 0. It is denoted as Single Ampersand (&).\n",
        "<br>\n",
        "For Exmaple :- Consider , we have two variables a and b, a = 6 and b = 4. The binary representation of a = 6 is 0110 and b = 4 is 0100. \n",
        "a = 0110 (This is 4 bit representation)\n",
        "b = 0100 (This is 4 bit representation)\n",
        "\n",
        "We have to represent it in 8 bit...\n",
        "a = 00000110\n",
        "b = 00000100\n",
        "Now, We apply bitwise AND (&) operations on a and b output will be 000001000<br>\n",
        "a =   00000110<br>\n",
        "b = & 00000100<br>\n",
        "_______________\n",
        "4     00000100 <br>\n",
        "</h6>"
      ]
    },
    {
      "cell_type": "code",
      "metadata": {
        "id": "iJrcyn-K-yWu",
        "colab": {
          "base_uri": "https://localhost:8080/"
        },
        "outputId": "4ddcc57a-1767-48b6-cfcf-eb8b0a7158c3"
      },
      "source": [
        "# Example \n",
        "a = 6 \n",
        "b = 4 \n",
        "print(a&b)"
      ],
      "execution_count": 1,
      "outputs": [
        {
          "output_type": "stream",
          "name": "stdout",
          "text": [
            "4\n"
          ]
        }
      ]
    },
    {
      "cell_type": "markdown",
      "metadata": {
        "id": "4ofgT0TBufA4"
      },
      "source": [
        "<h6> 2) Bitwise OR (|) <br>\n",
        "Bitwise OR (|) is nothing but the symbol which is used to perform bit level operation on the operands, If the bit value of any of the operand is 1 then the output is 1 else output would be 0. It is denoted as Single Vertical Sign (|).\n",
        "<br>\n",
        "For Exmaple :- Consider , we have two variables a and b, a = 6 and b = 4. The binary representation of a = 6 is 0110 and b = 4 is 0100. \n",
        "a = 0110 (This is 4 bit representation)\n",
        "b = 0100 (This is 4 bit representation)\n",
        "\n",
        "We have to represent it in 8 bit...\n",
        "a = 00000110\n",
        "b = 00000100\n",
        "Now, We apply bitwise OR (|) operations on a and b output will be 000001000<br>\n",
        "a =   00000110<br>\n",
        "b = | 00000100<br>\n",
        "_______________\n",
        "6     00000110      <br>\n",
        "</h6>"
      ]
    },
    {
      "cell_type": "code",
      "metadata": {
        "colab": {
          "base_uri": "https://localhost:8080/"
        },
        "id": "qWH8yIacuP-5",
        "outputId": "cce2913b-0010-4a9d-f5c5-49f478e62292"
      },
      "source": [
        "# Example \n",
        "a = 6 \n",
        "b = 4 \n",
        "print(a|b)"
      ],
      "execution_count": 2,
      "outputs": [
        {
          "output_type": "stream",
          "name": "stdout",
          "text": [
            "6\n"
          ]
        }
      ]
    },
    {
      "cell_type": "markdown",
      "metadata": {
        "id": "y2l4kv7Qv598"
      },
      "source": [
        "<h6> 3) Bitwise Exclusive OR (^) <br>\n",
        "Bitwise Exculsive OR (^) is nothing but the symbol which is used to perform bit level operation on the operands, If the corresponding bit of any of the operand is 1 then the output is 1 else output would be 0. It is denoted as caret (^).\n",
        "<br>\n",
        "For Exmaple :- Consider , we have two variables a and b, a = 6 and b = 4. The binary representation of a = 6 is 0110 and b = 4 is 0100. \n",
        "a = 0110 (This is 4 bit representation)\n",
        "b = 0100 (This is 4 bit representation)\n",
        "\n",
        "We have to represent it in 8 bit...\n",
        "a = 00000110\n",
        "b = 00000100\n",
        "Now, We apply bitwise Ex-OR (^) operations on a and b output will be 000001000<br>\n",
        "a =   00000110<br>\n",
        "b = ^ 00000100<br>\n",
        "_______________\n",
        "2     00000010      <br>\n",
        "</h6>"
      ]
    },
    {
      "cell_type": "code",
      "metadata": {
        "colab": {
          "base_uri": "https://localhost:8080/"
        },
        "id": "Q0zBiLyfvfeC",
        "outputId": "e6a75d3b-50a0-436a-c83d-833a5773e8a8"
      },
      "source": [
        "# Example \n",
        "a = 6 \n",
        "b = 4 \n",
        "print(a^b)"
      ],
      "execution_count": 3,
      "outputs": [
        {
          "output_type": "stream",
          "name": "stdout",
          "text": [
            "2\n"
          ]
        }
      ]
    },
    {
      "cell_type": "markdown",
      "metadata": {
        "id": "qmDLHUMfxEzY"
      },
      "source": [
        "<h5>4) Bitwise Complement ~ (~)\n",
        "Bitwise Complement (~) is nothing but the symbol which is used to perform bit level operation on the operand. It takes only one operand or variable to perform the operation. When we apply the complement on an operation an operand then any of bits ie 0 becomes 1 1 becomes 0.It is denoted as tilde (~).\n",
        "For Exmaple :- Consider , we have two variables a and b, a = 6. The binary representation of a = 6 is 0110. a = 0110 (This is 4 bit representation) \n",
        "We have to represent it in 8 bit... a = 00000110  Now, We apply bitwise Complement (~) operations on a output will be 11111001\n",
        "a =   00000110\n",
        "~a =  11111001 "
      ]
    },
    {
      "cell_type": "code",
      "metadata": {
        "colab": {
          "base_uri": "https://localhost:8080/"
        },
        "id": "SeitODfZw_pf",
        "outputId": "ae37a6e7-8450-4417-8028-936d60cedb47"
      },
      "source": [
        "# Example \n",
        "a = 6 \n",
        "print(~a)"
      ],
      "execution_count": 4,
      "outputs": [
        {
          "output_type": "stream",
          "name": "stdout",
          "text": [
            "-7\n"
          ]
        }
      ]
    },
    {
      "cell_type": "markdown",
      "metadata": {
        "id": "6QzIKt67yZ-f"
      },
      "source": [
        "<h5> Bitwise Shift Operator </h5>\n",
        "<h6>Bitwise Shift Operator is nothing but the symbol which is used to perform bit level operation on an operand which shifts the bits either left side or right side. There are 2 shift operators Left shift and Right shift </h6>\n",
        "\n",
        "1) Left Shift Operator <br>\n",
        "Left Shift Operator is nothing but the symbol which is used to perform bit level operation on an operand which shifts the number of bits towards the left side. <br>\n",
        "How we used Left Shift Operator? \n",
        "Ans:- Witht the help of follwoing syntax:- \n",
        "\n",
        "Operand  << n\n",
        "\n",
        "Where, \n",
        "Operand is nothing but the interger variable or expression on which we apply the left shift operation. <br>\n",
        "\n",
        "n is nothing but the number of bits to be shifted. \n",
        "<br>\n",
        "\n",
        "In Left Shift, n bits will be shfited on the left side. the n bits on the left side will be poped out and n bits on the right side are filled with 0. <br>\n",
        "\n",
        "For Example :- Consider , a = 5. Then the binary representation of a is 0101. If we want ot left shift the above expression by 2 bits then, <br>\n",
        "\n",
        "  a << 2<br>\n",
        "\n",
        "00000101 << 2   \n",
        "\n",
        "\n",
        "\n",
        "\n",
        "\n"
      ]
    },
    {
      "cell_type": "code",
      "metadata": {
        "colab": {
          "base_uri": "https://localhost:8080/"
        },
        "id": "S7rjzRkayWu_",
        "outputId": "2912e821-042b-48b3-f8a9-b8b991c1abac"
      },
      "source": [
        "#Example \n",
        "a = 5 \n",
        "print(a<<2)"
      ],
      "execution_count": 5,
      "outputs": [
        {
          "output_type": "stream",
          "name": "stdout",
          "text": [
            "20\n"
          ]
        }
      ]
    },
    {
      "cell_type": "markdown",
      "metadata": {
        "id": "KzjJWzZm2ENW"
      },
      "source": [
        "2) Right Shift Operator <br>\n",
        "Right Shift Operator is nothing but the symbol which is used to perform bit level operation on an operand which shifts the number of bits towards the Right side. <br>\n",
        "How we used Right Shift Operator? \n",
        "Ans:- Witht the help of follwoing syntax:- \n",
        "\n",
        "Operand  >> n\n",
        "\n",
        "Where, \n",
        "Operand is nothing but the interger variable or expression on which we apply the left shift operation. <br>\n",
        "\n",
        "n is nothing but the number of bits to be shifted. \n",
        "<br>\n",
        "\n",
        "In Right Shift, n bits will be shfited on the Right side. the n bits on the Right side will be poped out and n bits on the Left side are filled with 0. <br>\n",
        "\n",
        "For Example :- Consider , a = 5. Then the binary representation of a is 0101. If we want ot right shift the above expression by 2 bits then, <br>\n",
        "\n",
        "  a >> 2<br>\n",
        "\n",
        "00000101 >> 2 "
      ]
    },
    {
      "cell_type": "code",
      "metadata": {
        "colab": {
          "base_uri": "https://localhost:8080/"
        },
        "id": "5zU1itO82Bi8",
        "outputId": "88d3709e-fc6a-4a9d-ad69-a84882db000f"
      },
      "source": [
        "# Example \n",
        "a = 5\n",
        "print(a>>2)"
      ],
      "execution_count": 6,
      "outputs": [
        {
          "output_type": "stream",
          "name": "stdout",
          "text": [
            "1\n"
          ]
        }
      ]
    },
    {
      "cell_type": "code",
      "metadata": {
        "id": "DTiHxefl267C"
      },
      "source": [
        ""
      ],
      "execution_count": null,
      "outputs": []
    }
  ]
}
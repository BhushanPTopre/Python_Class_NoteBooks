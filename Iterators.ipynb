{
 "cells": [
  {
   "cell_type": "markdown",
   "metadata": {},
   "source": [
    "<h2>Iterators in Python </h2>"
   ]
  },
  {
   "cell_type": "markdown",
   "metadata": {},
   "source": [
    "<h4> What is Iterator in python? </h4>"
   ]
  },
  {
   "cell_type": "markdown",
   "metadata": {},
   "source": [
    "<pre>\n",
    "Ans:- Iterator in python is nothing but the object which is used to iterate over the iterable objects like lists, tuples  , dictionary and sets. Iterator objects is initalized using iter() method. It uses next() for iteration.  \n",
    "</pre>"
   ]
  },
  {
   "cell_type": "markdown",
   "metadata": {},
   "source": [
    "<pre>\n",
    "1) __iter(iterable)__ :- It is method that is called for the initalization of an iterator. This method returns an iterator object. \n",
    "\n",
    "2) next(__next__) :- It is method which returns next value from the ieterable. When we use for loop to traverse the any iterable object, internally it uses iter() method to get iterator object which further used next() to iterate the objects. This method raises a StopIteration to signal the end of the iteration.  \n",
    "</pre>"
   ]
  },
  {
   "cell_type": "code",
   "execution_count": 3,
   "metadata": {},
   "outputs": [
    {
     "name": "stdout",
     "output_type": "stream",
     "text": [
      "H\n",
      "i\n",
      "-\n",
      "T\n",
      "e\n",
      "c\n",
      "h\n"
     ]
    },
    {
     "ename": "StopIteration",
     "evalue": "",
     "output_type": "error",
     "traceback": [
      "\u001b[1;31m---------------------------------------------------------------------------\u001b[0m",
      "\u001b[1;31mStopIteration\u001b[0m                             Traceback (most recent call last)",
      "\u001b[1;32m<ipython-input-3-0b6cb9291041>\u001b[0m in \u001b[0;36m<module>\u001b[1;34m\u001b[0m\n\u001b[0;32m      3\u001b[0m \u001b[0mobj\u001b[0m \u001b[1;33m=\u001b[0m \u001b[0miter\u001b[0m\u001b[1;33m(\u001b[0m\u001b[0mval\u001b[0m\u001b[1;33m)\u001b[0m\u001b[1;33m\u001b[0m\u001b[1;33m\u001b[0m\u001b[0m\n\u001b[0;32m      4\u001b[0m \u001b[1;32mwhile\u001b[0m \u001b[1;32mTrue\u001b[0m\u001b[1;33m:\u001b[0m\u001b[1;33m\u001b[0m\u001b[1;33m\u001b[0m\u001b[0m\n\u001b[1;32m----> 5\u001b[1;33m     \u001b[0mvalues\u001b[0m \u001b[1;33m=\u001b[0m \u001b[0mnext\u001b[0m\u001b[1;33m(\u001b[0m\u001b[0mobj\u001b[0m\u001b[1;33m)\u001b[0m\u001b[1;33m\u001b[0m\u001b[1;33m\u001b[0m\u001b[0m\n\u001b[0m\u001b[0;32m      6\u001b[0m     \u001b[0mprint\u001b[0m\u001b[1;33m(\u001b[0m\u001b[0mvalues\u001b[0m\u001b[1;33m)\u001b[0m\u001b[1;33m\u001b[0m\u001b[1;33m\u001b[0m\u001b[0m\n",
      "\u001b[1;31mStopIteration\u001b[0m: "
     ]
    }
   ],
   "source": [
    "# How Iterator works in python? \n",
    "val = 'Hi-Tech'    # Iterable Object\n",
    "obj = iter(val)    # Iterator Object \n",
    "while True:\n",
    "    values = next(obj)    # Traverse or visist or accessing the next element or value\n",
    "    print(values)"
   ]
  },
  {
   "cell_type": "code",
   "execution_count": 6,
   "metadata": {},
   "outputs": [
    {
     "name": "stdout",
     "output_type": "stream",
     "text": [
      "K L Rahul\n",
      "Yuvaraj\n",
      "Rishabh\n",
      "Vynaktesh\n"
     ]
    }
   ],
   "source": [
    "# Example to understand Iterator \n",
    "Player_Names = ['K L Rahul','Yuvaraj','Rishabh','Vynaktesh']    # Iterable Object\n",
    "obj = iter(Player_Names)    # Iterator Object \n",
    "while True:\n",
    "    try:\n",
    "        values = next(obj)\n",
    "        print(values)\n",
    "    except StopIteration:\n",
    "        break        "
   ]
  },
  {
   "cell_type": "code",
   "execution_count": 8,
   "metadata": {},
   "outputs": [
    {
     "name": "stdout",
     "output_type": "stream",
     "text": [
      "K L Rahul\n",
      "Yuvaraj\n",
      "Rishabh\n",
      "Vynaktesh\n"
     ]
    }
   ],
   "source": [
    "Player_Names = ['K L Rahul','Yuvaraj','Rishabh','Vynaktesh']    # Iterable Object\n",
    "for values in Player_Names:\n",
    "    print(values)"
   ]
  },
  {
   "cell_type": "markdown",
   "metadata": {},
   "source": [
    "<pre>\n",
    "Program to demo working of interator by using one example type which iterates from 500 to given value.\n",
    "</pre>"
   ]
  },
  {
   "cell_type": "code",
   "execution_count": 3,
   "metadata": {},
   "outputs": [
    {
     "name": "stdout",
     "output_type": "stream",
     "text": [
      "500\n",
      "501\n",
      "502\n",
      "503\n",
      "504\n",
      "505\n"
     ]
    }
   ],
   "source": [
    "# iterable user defined type \n",
    "class Check:\n",
    "    # constructor \n",
    "    def __init__(self,limit):\n",
    "        self.limit = limit \n",
    "        \n",
    "    # create iterator object and it is called when iteration is initalized \n",
    "    def __iter__(self):\n",
    "        self.x = 500 \n",
    "        return self \n",
    "    \n",
    "    # To access the next value or element and in python 3 we replace next with __next__().\n",
    "    def __next__(self):\n",
    "        # we store current value of x\n",
    "        x = self.x\n",
    "        \n",
    "        # if limit is reached then we called stopiteration\n",
    "        if x > self.limit:\n",
    "            raise StopIteration\n",
    "        #else increment the value of x and provide the old value \n",
    "        else:\n",
    "            self.x = x + 1 \n",
    "            return x\n",
    "    \n",
    "\n",
    "# Print numbers from 500 to 505 \n",
    "for i in Check(505):\n",
    "    print(i)   \n"
   ]
  },
  {
   "cell_type": "code",
   "execution_count": null,
   "metadata": {},
   "outputs": [],
   "source": []
  }
 ],
 "metadata": {
  "kernelspec": {
   "display_name": "Python 3",
   "language": "python",
   "name": "python3"
  },
  "language_info": {
   "codemirror_mode": {
    "name": "ipython",
    "version": 3
   },
   "file_extension": ".py",
   "mimetype": "text/x-python",
   "name": "python",
   "nbconvert_exporter": "python",
   "pygments_lexer": "ipython3",
   "version": "3.7.6"
  }
 },
 "nbformat": 4,
 "nbformat_minor": 4
}

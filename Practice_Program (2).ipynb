{
  "nbformat": 4,
  "nbformat_minor": 0,
  "metadata": {
    "colab": {
      "name": "Practice_Program.ipynb",
      "provenance": [],
      "collapsed_sections": []
    },
    "kernelspec": {
      "name": "python3",
      "display_name": "Python 3"
    },
    "language_info": {
      "name": "python"
    }
  },
  "cells": [
    {
      "cell_type": "markdown",
      "metadata": {
        "id": "iq_edYsI-rcj"
      },
      "source": [
        "<h1> Practice Programming in Python  </h1>"
      ]
    },
    {
      "cell_type": "markdown",
      "metadata": {
        "id": "NJLfMp0t-21V"
      },
      "source": [
        "<h4> 1) WAP to generate Random number  </h4> \n",
        "\n",
        "random ----> random is nothing but the predefined module  or method in python which is used to generate float number between o and 1. \n",
        "\n",
        "import ---> import is nothing but the predefined keyword in python which is used to extract functionalities like the packages or libraries or module etc.\n",
        "\n",
        "random()   ---> random() is nothing but the predefined method which is present in the random module which is used to float number between o and 1.  \n",
        "\n",
        "import random  ---> It is the instruction given by user to the python the interpreter it tells to python interperter that extract the functionaliites like random and placed or given permission to utilized it in the notebook or cell. "
      ]
    },
    {
      "cell_type": "code",
      "metadata": {
        "colab": {
          "base_uri": "https://localhost:8080/"
        },
        "id": "RmU9YPMX-00T",
        "outputId": "f7c56b2b-e81b-4951-ffea-036d8e883a7e"
      },
      "source": [
        "import random \n",
        "x = random.random()\n",
        "print(x)\n",
        "# If we run the cod eagin and again we will get different outputs. "
      ],
      "execution_count": null,
      "outputs": [
        {
          "output_type": "stream",
          "name": "stdout",
          "text": [
            "0.3510892449787061\n"
          ]
        }
      ]
    },
    {
      "cell_type": "markdown",
      "metadata": {
        "id": "3XgIPMzL-2MV"
      },
      "source": [
        "randint() -----> randint() is nothing but the predefined method present in the random module which is used to genrate integer number within the specific range. randint() having two arguments that can can be pass when it call for providing range.  "
      ]
    },
    {
      "cell_type": "code",
      "metadata": {
        "colab": {
          "base_uri": "https://localhost:8080/"
        },
        "id": "1eLZ7zspEKWo",
        "outputId": "cee5f50b-55c5-4419-904e-303ace9184f8"
      },
      "source": [
        "import random \n",
        "z = random.randint(0,30)\n",
        "print(z)\n",
        "# If we run the cod eagin and again we will get different outputs."
      ],
      "execution_count": null,
      "outputs": [
        {
          "output_type": "stream",
          "name": "stdout",
          "text": [
            "26\n"
          ]
        }
      ]
    },
    {
      "cell_type": "markdown",
      "metadata": {
        "id": "LZ83gR8cEpR8"
      },
      "source": [
        "<h5> WAP to generate random number and stored it in the list. </h5>\n",
        "\n",
        "append() ----> append() is  is nothing but the predefined method which is used add the specified element or item into specified the sequence.  "
      ]
    },
    {
      "cell_type": "code",
      "metadata": {
        "colab": {
          "base_uri": "https://localhost:8080/"
        },
        "id": "CuTrFwE4EcTP",
        "outputId": "42029565-cf2e-4115-e184-d42f549e2e29"
      },
      "source": [
        "import random \n",
        "L_rand_num = []\n",
        "for x in range(0,10):\n",
        "  num = random.randint(1,30)\n",
        "  L_rand_num.append(num)\n",
        "\n",
        "print(L_rand_num) \n"
      ],
      "execution_count": null,
      "outputs": [
        {
          "output_type": "stream",
          "name": "stdout",
          "text": [
            "[24, 16, 22, 13, 17, 25, 16, 10, 25, 10]\n"
          ]
        }
      ]
    },
    {
      "cell_type": "markdown",
      "metadata": {
        "id": "YydcyQpDGbZX"
      },
      "source": [
        "<h5> \n",
        "sample()  ---> sample() is nothing but the predefined method in python which is present in the random module which is used to generate list of random numbers.  \n",
        "\n",
        "sample() method having two arguments that can be pass when it called , so first argument belongs to range of the random number generator and second is the number of random number.  </h5>"
      ]
    },
    {
      "cell_type": "code",
      "metadata": {
        "colab": {
          "base_uri": "https://localhost:8080/"
        },
        "id": "4Qk_hDmKGSRa",
        "outputId": "298e3a20-1ffc-4f8b-a90f-fa7affc24d68"
      },
      "source": [
        "import random \n",
        "rnlist = random.sample(range(5,20),5)\n",
        "print(rnlist)"
      ],
      "execution_count": null,
      "outputs": [
        {
          "output_type": "stream",
          "name": "stdout",
          "text": [
            "[9, 6, 19, 18, 7]\n"
          ]
        }
      ]
    },
    {
      "cell_type": "markdown",
      "metadata": {
        "id": "D2Lh5XzQJXT7"
      },
      "source": [
        "<h4> WAP to convert km to miles or WAP to convert miles to km </h4>\n",
        "\n",
        "Logic :- 1 km = 0.62137 miles  \n",
        "\n",
        "Miles = km * 0.62137\n",
        "\n",
        "Km = Miles / 0.62137 "
      ]
    },
    {
      "cell_type": "code",
      "metadata": {
        "colab": {
          "base_uri": "https://localhost:8080/"
        },
        "id": "Q-I251ldIzgI",
        "outputId": "a01e8800-225b-44c9-c60d-dada53b7282c"
      },
      "source": [
        "# Example 1\n",
        "km = float(input(\"Enter the kelometer:\"))\n",
        "miles = km * 0.62137\n",
        "print(\"{}km means {}miles\".format(km,miles))"
      ],
      "execution_count": null,
      "outputs": [
        {
          "output_type": "stream",
          "name": "stdout",
          "text": [
            "Enter the kelometer:10\n",
            "10.0km means 6.213699999999999miles\n"
          ]
        }
      ]
    },
    {
      "cell_type": "code",
      "metadata": {
        "colab": {
          "base_uri": "https://localhost:8080/"
        },
        "id": "7rxSPlJmKZas",
        "outputId": "71c016af-3264-48ee-dd10-1829c75dbf28"
      },
      "source": [
        "# Example 2\n",
        "miles = float(input(\"Enter the miles:\"))\n",
        "km = miles / 0.62137\n",
        "print(\"{}miles means {}km\".format(miles,km))"
      ],
      "execution_count": null,
      "outputs": [
        {
          "output_type": "stream",
          "name": "stdout",
          "text": [
            "Enter the miles:6.213699999999999\n",
            "6.213699999999999miles means 10.0km\n"
          ]
        }
      ]
    },
    {
      "cell_type": "markdown",
      "metadata": {
        "id": "qUo8hnN0K8Mm"
      },
      "source": [
        "<h4> Calendar \n",
        "calendar is nothign but the predefined module in the python which is used to display the calendar in python. \n",
        "\n",
        "month(yy,mm) ----> month(yy,mm) is nothing but the predefined method in python whcih is present in the calendar module which is used to display the year and month.</h4>"
      ]
    },
    {
      "cell_type": "code",
      "metadata": {
        "colab": {
          "base_uri": "https://localhost:8080/"
        },
        "id": "_c3Eygk_KuMm",
        "outputId": "3633a556-167d-49fe-a6b8-27ca71cf2e1e"
      },
      "source": [
        "import calendar\n",
        "yy = int(input(\"Enter the year:\"))\n",
        "mm = int(input(\"Enter the month:\"))\n",
        "print(calendar.month(yy,mm))"
      ],
      "execution_count": null,
      "outputs": [
        {
          "output_type": "stream",
          "name": "stdout",
          "text": [
            "Enter the year:21\n",
            "Enter the month:10\n",
            "     October 21\n",
            "Mo Tu We Th Fr Sa Su\n",
            "             1  2  3\n",
            " 4  5  6  7  8  9 10\n",
            "11 12 13 14 15 16 17\n",
            "18 19 20 21 22 23 24\n",
            "25 26 27 28 29 30 31\n",
            "\n"
          ]
        }
      ]
    },
    {
      "cell_type": "markdown",
      "metadata": {
        "id": "u0TzSenqFS66"
      },
      "source": [
        "<h5> WAP to print the FIBONACII Series </h5>\n",
        "---Logic---\n",
        "\n",
        "Binary number --> 0 and 1  \n",
        "\n",
        " 0    1   1    2    3     5   ......             \n",
        " \n",
        "n1   n2   n3   \n",
        "     n1   n2   n3\n",
        "          n1   n2   n3\n",
        "               n1   n2    n3  "
      ]
    },
    {
      "cell_type": "code",
      "metadata": {
        "colab": {
          "base_uri": "https://localhost:8080/"
        },
        "id": "o-i4ga0-JCfu",
        "outputId": "ad56e7d9-0395-4803-ae5a-fc3880e4d150"
      },
      "source": [
        "n1 = 0\n",
        "n2 = 1 \n",
        "n = int(input(\"Enter the value of n:\"))\n",
        "print(\"Fobonacii Series {} upto\".format(n),end=\"\\n\\n\")\n",
        "print(n1,end=\" \")\n",
        "print(n2,end=\" \")\n",
        "for i in range(1,n+1):\n",
        "  n3 = n1 + n2\n",
        "  print(n3,end=\" \")\n",
        "  n1 = n2\n",
        "  n2 = n3 "
      ],
      "execution_count": null,
      "outputs": [
        {
          "output_type": "stream",
          "name": "stdout",
          "text": [
            "Enter the value of n:6\n",
            "Fobonacii Series 6 upto\n",
            "\n",
            "0 1 1 2 3 5 8 13 "
          ]
        }
      ]
    },
    {
      "cell_type": "markdown",
      "metadata": {
        "id": "39406w3Fo1fS"
      },
      "source": [
        "<h4> \n",
        "WAP to check whether inputed year is leap year or not\n",
        "</h4>"
      ]
    },
    {
      "cell_type": "code",
      "metadata": {
        "id": "MWNA1jMdJloC",
        "colab": {
          "base_uri": "https://localhost:8080/"
        },
        "outputId": "088163e8-b048-4187-b151-8fa76447a920"
      },
      "source": [
        "year = int(input(\"Enter the year:\"))\n",
        "if ((year % 400 == 0) or (year % 100 != 0) and (year % 4 == 0)):\n",
        "  print(\"Inputted Year is Leap year!\")\n",
        "else:\n",
        "   print(\"Inputted Year is not Leap year!\")\n",
        "      \n",
        "   "
      ],
      "execution_count": null,
      "outputs": [
        {
          "output_type": "stream",
          "name": "stdout",
          "text": [
            "Enter the year:2020\n",
            "Inputted Year is Leap year!\n"
          ]
        }
      ]
    },
    {
      "cell_type": "markdown",
      "metadata": {
        "id": "8LU0MFYYsJuT"
      },
      "source": [
        "<h4> \n",
        "Armstrong Number \n",
        "\n",
        "A number is called as Armstrong number if it is equal to the sum of the cubes of its won digits. \n",
        "\n",
        "A armstromng number is also called as <b> narcisitic number </b>.\n",
        "\n",
        "153 = 1*1*1 + 5*5*5 + 3*3*3 \n",
        "     = 1 + 125 + 27\n",
        "     = 153  \n",
        "</h4>"
      ]
    },
    {
      "cell_type": "code",
      "metadata": {
        "colab": {
          "base_uri": "https://localhost:8080/"
        },
        "id": "fW7NcraKqpGf",
        "outputId": "b527142d-16a8-40d0-a43b-4c1b390547aa"
      },
      "source": [
        "n = int(input(\"Enter the number:\"))\n",
        "sum = 0\n",
        "x = n \n",
        "while(x>0):\n",
        "  d  = x % 10\n",
        "  sum = sum + d**3\n",
        "  x = x // 10\n",
        "\n",
        "if n == sum:\n",
        "  print(\"Inputted number is Armstrong number!\")\n",
        "else:\n",
        "  print(\"Inputted number is not Armstrong number!\") "
      ],
      "execution_count": null,
      "outputs": [
        {
          "output_type": "stream",
          "name": "stdout",
          "text": [
            "Enter the number:125\n",
            "Inputted number is not Armstrong number!\n"
          ]
        }
      ]
    },
    {
      "cell_type": "markdown",
      "metadata": {
        "id": "jyiiQrJjkL9-"
      },
      "source": [
        "<h4>\n",
        "WAP to find smallest number in the list. \n",
        "</h4>"
      ]
    },
    {
      "cell_type": "code",
      "metadata": {
        "id": "HQS-NT0qwMbS",
        "colab": {
          "base_uri": "https://localhost:8080/"
        },
        "outputId": "99a7881d-54f4-4321-e1ed-3ef059986e41"
      },
      "source": [
        "# Approach 1 \n",
        "# sort() ---> sort() method is nothing but the predefined method which is used to arragen the elements in perticular order from sequence.\n",
        "L = [10,20,50,6,8,9]\n",
        "L.sort()\n",
        "print(\"Samallest element is:\",*L[:1])  # It provides us Integer type value\n",
        "print(\"Samallest element is:\",L[:1])   # It provides us list type value \n",
        "print(\"Samallest element is:\",L[0]) \n",
        "x = len(L)\n",
        "print(\"Samallest element is:\",L[-x]) \n",
        "\n"
      ],
      "execution_count": null,
      "outputs": [
        {
          "output_type": "stream",
          "name": "stdout",
          "text": [
            "Samallest element is: 6\n",
            "Samallest element is: [6]\n",
            "Samallest element is: 6\n",
            "Samallest element is: 6\n"
          ]
        }
      ]
    },
    {
      "cell_type": "code",
      "metadata": {
        "id": "SdeoIsEFwQIz",
        "colab": {
          "base_uri": "https://localhost:8080/"
        },
        "outputId": "f21fb123-e0f2-4d8f-fe21-c8cad271dacf"
      },
      "source": [
        "# Approach 2 \n",
        "# min()  ---> min() is nothing but the predefined method which is used to extract the minimum value from the given sequence\n",
        "L = [10,20,50,6,8,9]\n",
        "print(\"Smallest element is :\",min(L))\n"
      ],
      "execution_count": null,
      "outputs": [
        {
          "output_type": "stream",
          "name": "stdout",
          "text": [
            "Smallest element is : 6\n"
          ]
        }
      ]
    },
    {
      "cell_type": "code",
      "metadata": {
        "colab": {
          "base_uri": "https://localhost:8080/"
        },
        "id": "NT_f6kRZo2m-",
        "outputId": "60ea2ebc-412f-4c52-de06-77f387511920"
      },
      "source": [
        "# Approach 3 \n",
        "# append()  ---> append() is nothing but the predefined method which is used to add the perticular element in to the into perticula sequence. \n",
        "Li = [] \n",
        "n = int(input(\"How many number do you want to input in the list?\"))\n",
        "for i in range(1,n+1):\n",
        "  inp = int(input(\"Enter element:\"))\n",
        "  Li.append(inp)\n",
        "\n",
        "print(\"Samllest element is :\",min(Li))\n"
      ],
      "execution_count": null,
      "outputs": [
        {
          "output_type": "stream",
          "name": "stdout",
          "text": [
            "How many number do you want to input in the list?4\n",
            "Enter element:10\n",
            "Enter element:5\n",
            "Enter element:20\n",
            "Enter element:2\n",
            "Samllest element is : 2\n"
          ]
        }
      ]
    },
    {
      "cell_type": "code",
      "metadata": {
        "colab": {
          "base_uri": "https://localhost:8080/",
          "height": 131
        },
        "id": "tp_0NM7lqdSP",
        "outputId": "94f8d4fa-4f81-4fc0-8340-e0e5df85e4b4"
      },
      "source": [
        "# Appraoch 4 \n",
        "# n = int(input(\"How many number do you want to input in the list?\"))\n",
        "l=[]\n",
        "l.append(int(l) for l in input(\"List :\"),split(\",\"))\n",
        "\n",
        "print(\"Inputted List is :\",l)\n"
      ],
      "execution_count": null,
      "outputs": [
        {
          "output_type": "error",
          "ename": "SyntaxError",
          "evalue": "ignored",
          "traceback": [
            "\u001b[0;36m  File \u001b[0;32m\"<ipython-input-21-eceb8bcbe93e>\"\u001b[0;36m, line \u001b[0;32m4\u001b[0m\n\u001b[0;31m    l.append(int(l) for l in input(\"List :\"),split(\",\"))\u001b[0m\n\u001b[0m            ^\u001b[0m\n\u001b[0;31mSyntaxError\u001b[0m\u001b[0;31m:\u001b[0m Generator expression must be parenthesized\n"
          ]
        }
      ]
    },
    {
      "cell_type": "code",
      "metadata": {
        "colab": {
          "base_uri": "https://localhost:8080/"
        },
        "id": "j7V_QdDKtR56",
        "outputId": "3ceba131-0044-4f7a-a808-f71dc41b2d41"
      },
      "source": [
        ""
      ],
      "execution_count": null,
      "outputs": [
        {
          "name": "stdout",
          "output_type": "stream",
          "text": [
            "23\n"
          ]
        }
      ]
    },
    {
      "cell_type": "markdown",
      "metadata": {
        "id": "fz1yNUaeVHqd"
      },
      "source": [
        "<h5>WAP to print sum of all the elements in a list\n",
        "</h5>\n",
        "\n"
      ]
    },
    {
      "cell_type": "code",
      "metadata": {
        "id": "RAU7oI2zySdx",
        "colab": {
          "base_uri": "https://localhost:8080/"
        },
        "outputId": "c665646b-a7c2-4aaa-9088-8568043c502f"
      },
      "source": [
        "items = []\n",
        "sum = 0\n",
        "n = int(input(\"How many elements do you want to input in the list?\"))\n",
        "for i in range(1,n+1):\n",
        "  inp = int(input(\"Enter List element:\"))\n",
        "  items.append(inp)\n",
        "  sum+=i  # sum = sum + i\n",
        " \n",
        "print(\"The List is \",items)\n",
        "print(\"Sum of List elements is \",sum)  "
      ],
      "execution_count": null,
      "outputs": [
        {
          "output_type": "stream",
          "name": "stdout",
          "text": [
            "How many elements do you want to input in the list?5\n",
            "Enter List element:45\n",
            "Enter List element:5\n",
            "Enter List element:15\n",
            "Enter List element:60\n",
            "Enter List element:10\n",
            "The List is  [45, 5, 15, 60, 10]\n",
            "Sum of List elements is  135\n"
          ]
        }
      ]
    },
    {
      "cell_type": "markdown",
      "metadata": {
        "id": "JZ2besoAYdkC"
      },
      "source": [
        "<h5>\n",
        "  WAP to print largest and smallest element from the list.\n",
        "</h5>"
      ]
    },
    {
      "cell_type": "code",
      "metadata": {
        "colab": {
          "base_uri": "https://localhost:8080/"
        },
        "id": "2neIh-YpXc4H",
        "outputId": "da7f0b36-99c0-4259-d19f-f85af8bcaf1f"
      },
      "source": [
        "items = []\n",
        "sum = 0\n",
        "n = int(input(\"How many elements do you want to input in the list?\"))\n",
        "for i in range(1,n+1):\n",
        "  inp = int(input(\"Enter List element:\"))\n",
        "  items.append(inp)\n",
        "\n",
        "gret = smal = items[0]\n",
        "for i in items:\n",
        "  if i > gret:\n",
        "       gret = i\n",
        "  if i < smal:\n",
        "       smal = i     \n",
        "\n",
        "print(\"Greater number among the list is \",gret)\n",
        "print(\"Smaller number among the list is \",smal)\n"
      ],
      "execution_count": null,
      "outputs": [
        {
          "output_type": "stream",
          "name": "stdout",
          "text": [
            "How many elements do you want to input in the list?5\n",
            "Enter List element:45\n",
            "Enter List element:5\n",
            "Enter List element:60\n",
            "Enter List element:15\n",
            "Enter List element:100\n",
            "Greater number among the list is  100\n",
            "Smaller number among the list is  5\n"
          ]
        }
      ]
    },
    {
      "cell_type": "markdown",
      "metadata": {
        "id": "vYuSVQQ6a7-o"
      },
      "source": [
        "<h5>WAP to count the number of string where string length is 2 or more and the first and last charcater are same from the inputted list of strings. \n",
        "\n",
        "Sample Input ---> ['abc','xyz','aba','a33a','1221']\n",
        "Required Output ---> 3\n",
        "</h5>"
      ]
    },
    {
      "cell_type": "code",
      "metadata": {
        "colab": {
          "base_uri": "https://localhost:8080/"
        },
        "id": "mYRljAXyaVbQ",
        "outputId": "9da78108-ba3d-4aad-bdba-42dfef635007"
      },
      "source": [
        "items = []\n",
        "count = 0\n",
        "n = int(input(\"How many elements do you want to input in the list?\"))\n",
        "for i in range(1,n+1):\n",
        "  inp = input(\"Enter List element:\")\n",
        "  items.append(inp)\n",
        "\n",
        "print(\"The list is \",items)\n",
        "for i in items: \n",
        "  if len(i) > 1 and i[0] == i[-1]:\n",
        "    count += 1\n",
        "\n",
        "print(\"formatted String is \",count)"
      ],
      "execution_count": null,
      "outputs": [
        {
          "output_type": "stream",
          "name": "stdout",
          "text": [
            "How many elements do you want to input in the list?4\n",
            "Enter List element:bhushan\n",
            "Enter List element:a221\n",
            "Enter List element:1331\n",
            "Enter List element:run\n",
            "The list is  ['bhushan', 'a221', '1331', 'run']\n",
            "formatted String is  1\n"
          ]
        }
      ]
    },
    {
      "cell_type": "markdown",
      "metadata": {
        "id": "TyUN19Xte3a3"
      },
      "source": [
        "<h5>\n",
        "WAP to input the list , sorted in increasing order by the last element in each tuple from the given list of non empty tuples. \n",
        "\n",
        "Sample Input --> [(2,5),(1,2),(4,4),(2,3),(2,1)]\n",
        "\n",
        "Req Output ----> [(2,1),(1,2),(2,3),(4,4),(2,5)] \n",
        "</h5>"
      ]
    },
    {
      "cell_type": "markdown",
      "metadata": {
        "id": "tgrZM1sVglTo"
      },
      "source": [
        "<h5>\n",
        "WAP to remove the duplicates from the list. \n",
        "</h5>"
      ]
    },
    {
      "cell_type": "code",
      "metadata": {
        "id": "lgZVQroDb_ug"
      },
      "source": [
        ""
      ],
      "execution_count": null,
      "outputs": []
    }
  ]
}
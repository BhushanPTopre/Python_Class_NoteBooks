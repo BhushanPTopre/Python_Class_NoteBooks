{
 "cells": [
  {
   "cell_type": "markdown",
   "metadata": {},
   "source": [
    "<h1> Function in Python </h1>"
   ]
  },
  {
   "cell_type": "markdown",
   "metadata": {},
   "source": [
    "<h4>Function is nothing but the block of code or self contained program that carried out well defined task if we have to perform that task repetedly then we called as Function. </h4>\n",
    "<br>\n",
    "<br>Now , there are two types of functions or block of code \n",
    "\n",
    "1) User defined  ----> which is defined by user <br>\n",
    "\n",
    "2) Predefined     ----> which are already defined <br>\n",
    "\n",
    "a) Functions      -----> block of code outside the class <br>\n",
    "\n",
    "b) Method         -----> block of code inside the class <br>"
   ]
  },
  {
   "cell_type": "markdown",
   "metadata": {},
   "source": [
    "<h5> A] Function  Definition in Python or Function called </h5>\n",
    "\n",
    "<h6> a] How we define function in Python? </h6> <br>\n",
    "\n",
    "Ans:- With the help of follwoing syntax:\n",
    "<br>\n",
    "\n",
    "<br>      p]  def  function_name(arguments_list):\n",
    "                 #statements\n",
    "\n",
    "Where,<br>\n",
    "\n",
    "<br>def  ---> def is nothing but the keyword which is used to provide special meaning to the given name that is block of code (Function) <br>\n",
    "\n",
    "<br>function_name ---> function_name is nothing but the set of charcaters which is used to reporesents task of the function (it means name of function) <br>\n",
    "\n",
    "<br> arguments list or parameters list ----->    arguments list or parameters list is nothing but the variable whichis used to recieve the value which is sends by the actual arguements.It is optional.<br>   \n",
    "    \n",
    "<br>for example :- \n",
    "    <br>       q]   def  Addition():\n",
    "        <br>             print(a+b)\n",
    "       \n",
    "<br>\n",
    "<br>Meaning P]  It is the instruction given by user to the python interpreter it tells to python interpreter that\n",
    "                       define the task of the function.  \n",
    "\n",
    "<br>Meaning q]  It is the instruction given by user to the python interpreter it tells to python interpreter that\n",
    "                       define the task of the Addition function.  \n"
   ]
  },
  {
   "cell_type": "markdown",
   "metadata": {},
   "source": [
    "<pre> \n",
    "B] Function Call in python or calling function\n",
    "\n",
    "a) How we call the function in python ? \n",
    "Ans:- witht the help of following syntax:- \n",
    "p)  function_name(arguemnts)\n",
    "\n",
    "for example \n",
    "\n",
    "q)  Addition() \n",
    "\n",
    "Meaning p]   It is the instruction given by user to the python interpreter it tells to python interpreter that\n",
    "                        execute the perticular function. \n",
    "\n",
    "Meaning q]   It is the instruction given by user to the python interpreter it tells to python interpreter that\n",
    "                        execute the Addition function definition. </pre>"
   ]
  },
  {
   "cell_type": "code",
   "execution_count": 1,
   "metadata": {},
   "outputs": [
    {
     "name": "stdout",
     "output_type": "stream",
     "text": [
      "Percentage of student is  86.6\n"
     ]
    }
   ],
   "source": [
    "# WAP to calculate percentage of student using UDfunction \n",
    "def Percentage(om,tm):\n",
    "    per = (om/tm)*100\n",
    "    print(\"Percentage of student is \",per)\n",
    "    \n",
    "Percentage(433,500)   # Function call or calling function"
   ]
  },
  {
   "cell_type": "code",
   "execution_count": 2,
   "metadata": {},
   "outputs": [
    {
     "name": "stdout",
     "output_type": "stream",
     "text": [
      "Enter the obtained marks of student:433\n",
      "Enter the total marks of student:500\n",
      "Percentage of student is  86.6\n"
     ]
    }
   ],
   "source": [
    "def Percentage(om,tm):\n",
    "    per = (om/tm)*100\n",
    "    print(\"Percentage of student is \",per)\n",
    "    \n",
    "o = int(input(\"Enter the obtained marks of student:\"))\n",
    "t = int(input(\"Enter the total marks of student:\"))\n",
    "Percentage(o,t)   # Function call or calling function"
   ]
  },
  {
   "cell_type": "code",
   "execution_count": 3,
   "metadata": {},
   "outputs": [
    {
     "name": "stdout",
     "output_type": "stream",
     "text": [
      "Percentage of student is  86.6\n"
     ]
    }
   ],
   "source": [
    "def Percentage():\n",
    "    om=433\n",
    "    tm=500\n",
    "    per = (om/tm)*100\n",
    "    print(\"Percentage of student is \",per)\n",
    "    \n",
    "Percentage()   # Function call or calling function"
   ]
  },
  {
   "cell_type": "markdown",
   "metadata": {},
   "source": [
    "<h5> WAP to interhcnage the values of two inputted value in the variable (Swapping) </h5>"
   ]
  },
  {
   "cell_type": "code",
   "execution_count": 1,
   "metadata": {},
   "outputs": [
    {
     "name": "stdout",
     "output_type": "stream",
     "text": [
      "Enter the value of a:45\n",
      "Enter the value of b:50\n",
      "Before Swapping---> x = 45 and y = 50\n",
      "After Swapping---> x = 50 and y = 45\n"
     ]
    }
   ],
   "source": [
    "def Swap(x,y): # Function Definition [x and y are the formal arguments or parameter]\n",
    "    print(\"Before Swapping---> x = {} and y = {}\".format(x,y))\n",
    "    x,y = y,x \n",
    "    print(\"After Swapping---> x = {} and y = {}\".format(x,y))\n",
    "    \n",
    "a = int(input(\"Enter the value of a:\"))\n",
    "b = int(input(\"Enter the value of b:\"))\n",
    "Swap(a,b)  # Function Call [a and b are the actual arguements or Arguments]      "
   ]
  },
  {
   "cell_type": "markdown",
   "metadata": {},
   "source": [
    "<h5> Arbitary Arguments (*args) </h5>\n",
    "\n",
    "<h6>Arbitary arguemnts is nothing but the variable or arguments in case if you do not know how many arguments that will be passed into your function then add * in front of parametrs inside the function definition.   </h6>\n",
    "\n",
    "<h6> Function will recieve a tuple of arguments and can access the elements accordingly </h6>"
   ]
  },
  {
   "cell_type": "code",
   "execution_count": 5,
   "metadata": {},
   "outputs": [
    {
     "name": "stdout",
     "output_type": "stream",
     "text": [
      "BCA   BSC\n"
     ]
    }
   ],
   "source": [
    "def Course_names(*args):\n",
    "    print(args[0],\" \",args[1])\n",
    "    \n",
    "Course_names(\"BCA\",\"BSC\")"
   ]
  },
  {
   "cell_type": "markdown",
   "metadata": {},
   "source": [
    "<h5> Keyword Arguments</h5>"
   ]
  },
  {
   "cell_type": "markdown",
   "metadata": {},
   "source": [
    "<h6>Keyword Arguments is nothing but the arguments or variable that are send or pass like key value pair or syntax. Keyword Arguments does not worry about the order of the arguments.</h6>"
   ]
  },
  {
   "cell_type": "code",
   "execution_count": 7,
   "metadata": {},
   "outputs": [
    {
     "name": "stdout",
     "output_type": "stream",
     "text": [
      "Course 1:  MS\n",
      "Course 4 : ML/AI\n"
     ]
    }
   ],
   "source": [
    "def Course_name(course1,course2,course3,course4):\n",
    "    print(\"Course 1: \",course1)\n",
    "    print(\"Course 4 :\",course4)\n",
    "    \n",
    "Course_name(course1=\"MS\",course2=\"MTECH\",course3=\"PGDDS\",course4=\"ML/AI\")"
   ]
  },
  {
   "cell_type": "code",
   "execution_count": 8,
   "metadata": {},
   "outputs": [
    {
     "name": "stdout",
     "output_type": "stream",
     "text": [
      "Course 1:  MS\n",
      "Course 4 : ML/AI\n"
     ]
    }
   ],
   "source": [
    "# Keyword Arguments does not worry about the order of the arguments.\n",
    "def Course_name(course3,course2,course1,course4):\n",
    "    print(\"Course 1: \",course1)\n",
    "    print(\"Course 4 :\",course4)\n",
    "    \n",
    "Course_name(course1=\"MS\",course2=\"MTECH\",course3=\"PGDDS\",course4=\"ML/AI\")"
   ]
  },
  {
   "cell_type": "markdown",
   "metadata": {},
   "source": [
    "<h5> Keyword Arbitary arguments </h5>"
   ]
  },
  {
   "cell_type": "markdown",
   "metadata": {},
   "source": [
    "<h6>Keyword Arbitary arguments is nothing but the variable or arguments in case if you do not know how many arguments are passed into the function that argument follows the key value syntax then you can specify ** in front args. </h6>\n",
    "Note:- Keyword arbitary arguments when pass the function then function will recieve the arguments like dictionary and access these arguments as per dictionary or accordingly..."
   ]
  },
  {
   "cell_type": "code",
   "execution_count": 1,
   "metadata": {},
   "outputs": [
    {
     "name": "stdout",
     "output_type": "stream",
     "text": [
      "Car name whose belongs to mahindra: XUV300\n"
     ]
    }
   ],
   "source": [
    "def cars(**args):\n",
    "    print(\"Car name whose belongs to mahindra:\",args[\"Mahindra\"])\n",
    "    \n",
    "    \n",
    "cars(tata=\"Punch\",Maruti=\"Brezza\",Ranault=\"Duster\",Mahindra=\"XUV300\")    "
   ]
  },
  {
   "cell_type": "markdown",
   "metadata": {},
   "source": [
    "<h5> Defualt Parameter Value </h5> "
   ]
  },
  {
   "cell_type": "markdown",
   "metadata": {},
   "source": [
    "Defualt Parameter value is nothing but the value or literal which are assign to the parameter when we call the function without using actual argument that time that value assign towards the parameter. "
   ]
  },
  {
   "cell_type": "code",
   "execution_count": 6,
   "metadata": {},
   "outputs": [
    {
     "name": "stdout",
     "output_type": "stream",
     "text": [
      "Employee belongs to  Maharashtra\n",
      "Employee belongs to  Telangana\n",
      "Employee belongs to  UP\n",
      "Employee belongs to  Karnataka\n"
     ]
    }
   ],
   "source": [
    "def emp_city(state=\"UP\"):\n",
    "    print(\"Employee belongs to \",state)\n",
    "    \n",
    "emp_city(\"Maharashtra\")\n",
    "emp_city(\"Telangana\")\n",
    "emp_city()\n",
    "emp_city(\"Karnataka\")"
   ]
  },
  {
   "cell_type": "markdown",
   "metadata": {},
   "source": [
    "<h5> Passing List as an Arguments </h5>"
   ]
  },
  {
   "cell_type": "markdown",
   "metadata": {},
   "source": [
    "<h6> when we call the function the we sends the list as an actual arguments as well as we send string,tuple,dictionary,number,list etc </h6>"
   ]
  },
  {
   "cell_type": "code",
   "execution_count": 7,
   "metadata": {},
   "outputs": [
    {
     "name": "stdout",
     "output_type": "stream",
     "text": [
      "PBM\n",
      "Veg Kolhapuri\n",
      "Masala Baingan\n",
      "Panner Kaju kari\n"
     ]
    }
   ],
   "source": [
    "def Menu(dish):\n",
    "    for i in dish:\n",
    "        print(i)        \n",
    "\n",
    "d = [\"PBM\",\"Veg Kolhapuri\",\"Masala Baingan\",\"Panner Kaju kari\"]\n",
    "Menu(d)\n",
    "    "
   ]
  },
  {
   "cell_type": "markdown",
   "metadata": {},
   "source": [
    "<h5> Return from function </h5>"
   ]
  },
  {
   "cell_type": "markdown",
   "metadata": {},
   "source": [
    "<h6> Return expression is nothing but intruction given by user to the pythin interpreter it tells to python interpreter that which type of value should this function provide us and where it is kept. </h6>"
   ]
  },
  {
   "cell_type": "code",
   "execution_count": 9,
   "metadata": {},
   "outputs": [
    {
     "name": "stdout",
     "output_type": "stream",
     "text": [
      "Cube of 2 is 8\n"
     ]
    }
   ],
   "source": [
    "def cube(x):\n",
    "    return(x*x*x)\n",
    "\n",
    "print(\"Cube of 2 is\",cube(2))"
   ]
  },
  {
   "cell_type": "code",
   "execution_count": null,
   "metadata": {},
   "outputs": [],
   "source": []
  }
 ],
 "metadata": {
  "kernelspec": {
   "display_name": "Python 3",
   "language": "python",
   "name": "python3"
  },
  "language_info": {
   "codemirror_mode": {
    "name": "ipython",
    "version": 3
   },
   "file_extension": ".py",
   "mimetype": "text/x-python",
   "name": "python",
   "nbconvert_exporter": "python",
   "pygments_lexer": "ipython3",
   "version": "3.7.6"
  }
 },
 "nbformat": 4,
 "nbformat_minor": 4
}

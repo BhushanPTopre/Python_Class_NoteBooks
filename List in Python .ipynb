{
 "cells": [
  {
   "cell_type": "markdown",
   "metadata": {},
   "source": [
    "<h1> List in Python </h1> "
   ]
  },
  {
   "cell_type": "markdown",
   "metadata": {},
   "source": [
    "<h3> List is nothing but the ordered collection of different data elements. Lists is just like arrays, declared in other languages. IT is very flexible as the items in a list do not need to be the same type. \n",
    "\n",
    "List is nothing but the kind of sequece type or data type which is ised to collect different data elements in perticular order. \n",
    "\n",
    "How we create the list? \n",
    "Ans:- With the help of following syntax:- \n",
    "List in the python can be created sequence inside the square brackets [] .\n",
    " Syntax:-   List_name =[List of values seperated by comma's]\n",
    "\n",
    " Example:- fruits_name=['apple','orange','watermelon']\n",
    "  </h3>"
   ]
  },
  {
   "cell_type": "code",
   "execution_count": 2,
   "metadata": {},
   "outputs": [
    {
     "name": "stdout",
     "output_type": "stream",
     "text": [
      "Initially List is Empty\n",
      "<class 'list'>\n"
     ]
    }
   ],
   "source": [
    "# Example 1\n",
    "x = []\n",
    "print(\"Initially List is Empty\")\n",
    "print(type(x))"
   ]
  },
  {
   "cell_type": "code",
   "execution_count": 3,
   "metadata": {},
   "outputs": [
    {
     "name": "stdout",
     "output_type": "stream",
     "text": [
      "['Orange', 'WaterMelon', 'Grapes']\n"
     ]
    }
   ],
   "source": [
    "# Example 2\n",
    "x = ['Orange','WaterMelon','Grapes']\n",
    "print(x)"
   ]
  },
  {
   "cell_type": "code",
   "execution_count": 4,
   "metadata": {},
   "outputs": [
    {
     "name": "stdout",
     "output_type": "stream",
     "text": [
      "Grapes\n"
     ]
    }
   ],
   "source": [
    "# Example 3 (Accessing the List element)\n",
    "print(x[2])"
   ]
  },
  {
   "cell_type": "code",
   "execution_count": 9,
   "metadata": {},
   "outputs": [
    {
     "name": "stdout",
     "output_type": "stream",
     "text": [
      "['ORange', 'Pineapple', [250, 450], 'Grapes', [33, 44, 55, 66]]\n",
      "Grapes\n",
      "[250, 450]\n",
      "250\n",
      "55\n"
     ]
    }
   ],
   "source": [
    "# Example 4\n",
    "x = ['ORange','Pineapple',[250,450],'Grapes',[33,44,55,66]]\n",
    "print(x)\n",
    "print(x[3])\n",
    "print(x[2])\n",
    "print(x[2][0])\n",
    "print(x[4][2])"
   ]
  },
  {
   "cell_type": "code",
   "execution_count": 14,
   "metadata": {},
   "outputs": [
    {
     "name": "stdout",
     "output_type": "stream",
     "text": [
      "BCA\n",
      "['BE', 'BCOM', 'MCA', 'MBA']\n",
      "['BCA', 'BSC', 'BE', 'BCOM']\n",
      "['MCA', 'MBA', 'ME', 'BTECH', 'MTECH']\n",
      "['MBA', 'ME', 'BTECH']\n"
     ]
    }
   ],
   "source": [
    "# Example 5\n",
    "L = [\"BCA\",\"BSC\",\"BE\",\"BCOM\",\"MCA\",\"MBA\",\"ME\",\"BTECH\",\"MTECH\"]\n",
    "print(L[-9])\n",
    "print(L[2:6])\n",
    "print(L[:4])\n",
    "print(L[4:])\n",
    "print(L[-4:-1])"
   ]
  },
  {
   "cell_type": "code",
   "execution_count": 16,
   "metadata": {},
   "outputs": [
    {
     "name": "stdout",
     "output_type": "stream",
     "text": [
      "Sum of List element is  243\n"
     ]
    }
   ],
   "source": [
    "# Example 6 \n",
    "# WAP to print sum of all element in the list \n",
    "Num = [12,34,45,65,87]\n",
    "print(\"Sum of List element is\",Num[0]+Num[1]+Num[2]+Num[3]+Num[4])"
   ]
  },
  {
   "cell_type": "code",
   "execution_count": 17,
   "metadata": {},
   "outputs": [
    {
     "name": "stdout",
     "output_type": "stream",
     "text": [
      "[12, 34, 45, 65, 87, 23]\n"
     ]
    }
   ],
   "source": [
    "# Example 7\n",
    "# append() is nothing but the predefined function in python which is used to add given element or elements in to the sequence(List). If this is happen the we called as List is Mutable.(Modifiable) \n",
    "Num = [12,34,45,65,87] \n",
    "Num.append(23)   # Example of Mutable\n",
    "print(Num)"
   ]
  },
  {
   "cell_type": "code",
   "execution_count": 18,
   "metadata": {},
   "outputs": [
    {
     "name": "stdout",
     "output_type": "stream",
     "text": [
      "[12, 34, 45, 65, 87, [4, 3, 9]]\n"
     ]
    }
   ],
   "source": [
    "# Example 8\n",
    "# append() is nothing but the predefined function in python which is used to add given element or elements in to the sequence(List). If this is happen the we called as List is Mutable.(Modifiable) \n",
    "Num = [12,34,45,65,87] \n",
    "n1 = [4,3,9]\n",
    "Num.append(n1)   # Example of Mutable\n",
    "print(Num)"
   ]
  },
  {
   "cell_type": "code",
   "execution_count": null,
   "metadata": {},
   "outputs": [],
   "source": []
  }
 ],
 "metadata": {
  "kernelspec": {
   "display_name": "Python 3",
   "language": "python",
   "name": "python3"
  },
  "language_info": {
   "codemirror_mode": {
    "name": "ipython",
    "version": 3
   },
   "file_extension": ".py",
   "mimetype": "text/x-python",
   "name": "python",
   "nbconvert_exporter": "python",
   "pygments_lexer": "ipython3",
   "version": "3.7.6"
  }
 },
 "nbformat": 4,
 "nbformat_minor": 4
}

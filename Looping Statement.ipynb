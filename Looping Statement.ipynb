{
 "cells": [
  {
   "cell_type": "markdown",
   "metadata": {},
   "source": [
    "<h1> Looping Statements </h1>"
   ]
  },
  {
   "cell_type": "markdown",
   "metadata": {},
   "source": [
    "<h3>Looping Statements Looping statements is nothing but the predefined statement in \n",
    "python which is used to execute the perticular instruction number of times. There are\n",
    " various types of looping instructions or statement are as follows:- <br>\n",
    "\n",
    "1) for loop for loop is nothing but the looping statment which is used to execute\n",
    " perticular instrction number of times. In python for loop is genrally used for \n",
    "sequential traversal, iteration and collection based iteration.\n",
    "\n",
    "<br>How we use for loop in python? Ans:- With the help of follwoing syntax:-\n",
    "\n",
    "<br>Synatx:- <br>for variable_name in iterable:\n",
    "\n",
    "        #statements\n",
    "<br>Where, for ----> for is nothing but the predefined keyword in python which is instruct \n",
    "the interpreter start the iterations.\n",
    "\n",
    "<br>Variable_name ---> it is kind of place holder or setof charcaaters which is used to store\n",
    " the value.\n",
    "\n",
    "<br>in -----> in is nothing but the predefined keyword in python which is used from where\n",
    " value is to be search.\n",
    "\n",
    "<br>iterable ---> iterable is any kind of collections or objects from where we have to search\n",
    " elements or values or items.\n",
    "\n",
    "<br>#statements --> It is the userdefined instructions</h3>"
   ]
  },
  {
   "cell_type": "code",
   "execution_count": 6,
   "metadata": {},
   "outputs": [
    {
     "name": "stdout",
     "output_type": "stream",
     "text": [
      "23 45 65 "
     ]
    }
   ],
   "source": [
    "for x in (23,45,65):\n",
    "    print(x,end=\" \")"
   ]
  },
  {
   "cell_type": "code",
   "execution_count": 8,
   "metadata": {},
   "outputs": [
    {
     "name": "stdout",
     "output_type": "stream",
     "text": [
      "TCS WIPRO HP Infy NVDI "
     ]
    }
   ],
   "source": [
    "comp_name = [\"TCS\",\"WIPRO\",\"HP\",\"Infy\",\"NVDI\"]\n",
    "for i in comp_name:\n",
    "    print(i,end=\" \")"
   ]
  },
  {
   "cell_type": "code",
   "execution_count": 7,
   "metadata": {},
   "outputs": [
    {
     "name": "stdout",
     "output_type": "stream",
     "text": [
      "M   S   D h o n i "
     ]
    }
   ],
   "source": [
    "for j in \"M S Dhoni\":\n",
    "    print(j,end=\" \")"
   ]
  },
  {
   "cell_type": "markdown",
   "metadata": {},
   "source": [
    "<h3>\n",
    "  range method in for loop \n",
    "</h3>"
   ]
  },
  {
   "cell_type": "markdown",
   "metadata": {},
   "source": [
    "<h4> range() method \n",
    "    \n",
    "    range() method is nothing but predefined method which is used to generate the series of the collections or objects or iterable or numbers from min to max. There are three parameters of the range() :- \n",
    "    \n",
    "1) start :- start is nothing but the parameter of range() which is used to provide the starting value or inital value of the perticual series or sequence.   \n",
    "2) stop :- stop is nothing but the parameter of range() which is used to provide end end value or last value of the of the perticual series or sequence. \n",
    "    \n",
    "3) step :- step is nothing but the parameter of range() which is used to provide increment or decrement of the elements in the series or sequence.\n",
    "\n",
    "</h4>"
   ]
  },
  {
   "cell_type": "code",
   "execution_count": 1,
   "metadata": {},
   "outputs": [
    {
     "name": "stdout",
     "output_type": "stream",
     "text": [
      "1\n",
      "2\n",
      "3\n",
      "4\n"
     ]
    }
   ],
   "source": [
    "# Example 1 \n",
    "for i in range(1,5,1):\n",
    "    print(i)"
   ]
  },
  {
   "cell_type": "code",
   "execution_count": 2,
   "metadata": {},
   "outputs": [
    {
     "name": "stdout",
     "output_type": "stream",
     "text": [
      "1\n",
      "2\n",
      "3\n",
      "4\n"
     ]
    }
   ],
   "source": [
    "# Example 2 by defualt step value is 1 \n",
    "for i in range(1,5):\n",
    "    print(i)"
   ]
  },
  {
   "cell_type": "code",
   "execution_count": 3,
   "metadata": {},
   "outputs": [
    {
     "name": "stdout",
     "output_type": "stream",
     "text": [
      "1 4 7 10 13 "
     ]
    }
   ],
   "source": [
    "# Exmaple 3 \n",
    "for i in range(1,15,3):\n",
    "    print(i,end=\" \")"
   ]
  },
  {
   "cell_type": "code",
   "execution_count": 5,
   "metadata": {},
   "outputs": [
    {
     "name": "stdout",
     "output_type": "stream",
     "text": [
      "100,110,120,130,140,150,160,170,180,190,"
     ]
    }
   ],
   "source": [
    "# Exmaple  4\n",
    "for i in range(100,200,10):\n",
    "    print(i,end=\",\")"
   ]
  },
  {
   "cell_type": "code",
   "execution_count": 7,
   "metadata": {},
   "outputs": [
    {
     "name": "stdout",
     "output_type": "stream",
     "text": [
      "200,190,180,170,160,150,140,130,120,110,"
     ]
    }
   ],
   "source": [
    "# exmaple 5\n",
    "for i in range(200,100,-10):\n",
    "    print(i,end=\",\")"
   ]
  },
  {
   "cell_type": "code",
   "execution_count": 9,
   "metadata": {},
   "outputs": [
    {
     "name": "stdout",
     "output_type": "stream",
     "text": [
      "BCA BSC BTECH BE "
     ]
    }
   ],
   "source": [
    "# Exmaple 6  Iterate over the List \n",
    "Courses = [\"BCA\",\"BSC\",\"BTECH\",\"BE\"]\n",
    "for x in Courses:\n",
    "    print(x,end=\" \")"
   ]
  },
  {
   "cell_type": "code",
   "execution_count": 15,
   "metadata": {},
   "outputs": [
    {
     "name": "stdout",
     "output_type": "stream",
     "text": [
      "Name\n",
      "Education\n",
      "Experience\n"
     ]
    }
   ],
   "source": [
    "# Example 7 Iterate over the Dictionary\n",
    "D = {'Name':\"Bhushan \", 'Education':\"MCA\",'Experience':\"8\"}\n",
    "for s in D:\n",
    "    print(s)"
   ]
  },
  {
   "cell_type": "code",
   "execution_count": 17,
   "metadata": {},
   "outputs": [
    {
     "name": "stdout",
     "output_type": "stream",
     "text": [
      "{'Name': 'Bhushan ', 'Education': 'MCA', 'Experience': '8'}\n",
      "(23, 34, 45)\n"
     ]
    }
   ],
   "source": [
    "# Example 7 Iterate over the Dictionary and tuple in single list\n",
    "D = [{'Name':\"Bhushan \", 'Education':\"MCA\",'Experience':\"8\"},(23,34,45)]\n",
    "for s in D:\n",
    "    print(s)"
   ]
  },
  {
   "cell_type": "code",
   "execution_count": 19,
   "metadata": {},
   "outputs": [
    {
     "name": "stdout",
     "output_type": "stream",
     "text": [
      "0 1 2 3 4 5 6 "
     ]
    }
   ],
   "source": [
    "# Example 8\n",
    "# Note :- By defualt , starting value of the range() is 0 if not specified. \n",
    "# Note :- If in range method only one value or parameter is  specified then is considered as stop value. \n",
    "for i in range(7):\n",
    "    print(i,end=\" \")\n",
    "    "
   ]
  },
  {
   "cell_type": "code",
   "execution_count": 22,
   "metadata": {},
   "outputs": [
    {
     "name": "stdout",
     "output_type": "stream",
     "text": [
      "3 4 5 6 7 8 "
     ]
    }
   ],
   "source": [
    "#Example 9\n",
    "for x in range(3,9):\n",
    "    print(x,end=\" \")"
   ]
  },
  {
   "cell_type": "code",
   "execution_count": 24,
   "metadata": {},
   "outputs": [
    {
     "name": "stdout",
     "output_type": "stream",
     "text": [
      "0 1 2 3 4 5 6 7 All done!\n"
     ]
    }
   ],
   "source": [
    "# Example 10 [We can use else with for loop ]\n",
    "# else is nothing but the keyword which is specified with for loop when if we want to execute block of code or method after exectuing the for loop. \n",
    "for x in range(8):\n",
    "    print(x,end=\" \")\n",
    "else:\n",
    "    print(\"All done!\") "
   ]
  },
  {
   "cell_type": "code",
   "execution_count": 25,
   "metadata": {},
   "outputs": [],
   "source": [
    "# Example 11 [Pass Statement or Keyword]\n",
    "# Pass is used with for loop when if we want to specify for loop cannot be empty but some reason we have to specifty for with no content that we use pass keyword\n",
    "for z in [2,3,4]:\n",
    "    pass "
   ]
  },
  {
   "cell_type": "code",
   "execution_count": 29,
   "metadata": {},
   "outputs": [
    {
     "name": "stdout",
     "output_type": "stream",
     "text": [
      "Enter the value of n:8\n",
      "Factorial of 8 is 40320\n"
     ]
    }
   ],
   "source": [
    "# WAP to print the factorial of number\n",
    "n = int(input(\"Enter the value of n:\"))\n",
    "f = 1\n",
    "for j in range(1,n+1,1):\n",
    "    f = f * j\n",
    "\n",
    "print(\"Factorial of {} is {}\".format(n,f))"
   ]
  },
  {
   "cell_type": "markdown",
   "metadata": {},
   "source": [
    "<h3> While Loop in Python </h3>"
   ]
  },
  {
   "cell_type": "markdown",
   "metadata": {},
   "source": [
    "<h4> \n",
    "   While loop in nothing but looping statement which is used to execute perticular instructions number of times. In Python , while loop is used for to iterate over the block of code until the test expression is true. <br>\n",
    "    \n",
    "How we use while loop? <br>\n",
    "Ans:- With the help of follwing syntax:- \n",
    "    \n",
    "  while test_expression:\n",
    "      #statements\n",
    "      inc/dec  \n",
    " \n",
    "while ---> while is keyword or reserve word in python which is used to check perticular test expression it means until test expression is true then execute the block else not.      \n",
    "\n",
    "Test_expression ---->   Test_expression is nothing but the condition or epression which programmers want to check. \n",
    "    \n",
    "#Statements ---> #statements is nothing but the user defined instructions. \n",
    "    \n",
    "inc/dec  ---> increae the value by one or decrease the value by 1. \n",
    "    \n",
    "<br>\n",
    "    \n",
    "Example :  <br> \n",
    "    \n",
    "    while i<=5:\n",
    "       print(\"Welcome\")\n",
    "       i = i + 1\n",
    "          \n",
    " </h4> "
   ]
  },
  {
   "cell_type": "code",
   "execution_count": 2,
   "metadata": {},
   "outputs": [
    {
     "name": "stdout",
     "output_type": "stream",
     "text": [
      "Welcome in Hi-Tech\n",
      "Welcome in Hi-Tech\n",
      "Welcome in Hi-Tech\n",
      "Welcome in Hi-Tech\n",
      "Welcome in Hi-Tech\n"
     ]
    }
   ],
   "source": [
    "# Example 1 \n",
    "i = 1\n",
    "while i<=5:\n",
    "    print(\"Welcome in Hi-Tech\")\n",
    "    i = i + 1"
   ]
  },
  {
   "cell_type": "code",
   "execution_count": 5,
   "metadata": {},
   "outputs": [
    {
     "name": "stdout",
     "output_type": "stream",
     "text": [
      "Enter the value of n:4\n",
      "Factorial of 4 is 24\n"
     ]
    }
   ],
   "source": [
    "# Example 2 \n",
    "# WAP to calculate the factorial of number \n",
    "f = 1\n",
    "i = 1\n",
    "n = int(input(\"Enter the value of n:\"))\n",
    "while i<=n:\n",
    "    f = f * i\n",
    "    i+=1    # i = i +1\n",
    "print(\"Factorial of {} is {}\".format(n,f))"
   ]
  },
  {
   "cell_type": "code",
   "execution_count": 10,
   "metadata": {},
   "outputs": [
    {
     "name": "stdout",
     "output_type": "stream",
     "text": [
      "Enter the value of n:(>10)13\n",
      "10 100\n",
      "11 121\n",
      "12 144\n",
      "13 169\n",
      "{10: 100, 11: 121, 12: 144, 13: 169}\n"
     ]
    }
   ],
   "source": [
    "# Example 3 WAP to create the empty dictionary and add elemnts and its square as key value pair inside the dictionary using while loop\n",
    "n = int(input(\"Enter the value of n:(>10)\"))\n",
    "D = dict()\n",
    "i = 10\n",
    "while i<=n:\n",
    "    D[i] = i*i    \n",
    "    print(\"%d %d\"%(i,D[i])) \n",
    "    i = i + 1    \n",
    "print(D)"
   ]
  },
  {
   "cell_type": "code",
   "execution_count": 23,
   "metadata": {},
   "outputs": [
    {
     "name": "stdout",
     "output_type": "stream",
     "text": [
      "100,105,110,115,120,125,130,135,140,145,150,155,160,165,170,175,180,185,190,195,200,"
     ]
    }
   ],
   "source": [
    "# Example 4 WAP to print number is divisible by 5 in between 100 to 200. \n",
    "n = 100\n",
    "while n <= 200:\n",
    "    if n % 5 ==0:\n",
    "        print(n,end=\",\")\n",
    "    n = n + 1"
   ]
  },
  {
   "cell_type": "code",
   "execution_count": null,
   "metadata": {},
   "outputs": [],
   "source": []
  }
 ],
 "metadata": {
  "kernelspec": {
   "display_name": "Python 3",
   "language": "python",
   "name": "python3"
  },
  "language_info": {
   "codemirror_mode": {
    "name": "ipython",
    "version": 3
   },
   "file_extension": ".py",
   "mimetype": "text/x-python",
   "name": "python",
   "nbconvert_exporter": "python",
   "pygments_lexer": "ipython3",
   "version": "3.7.6"
  }
 },
 "nbformat": 4,
 "nbformat_minor": 4
}

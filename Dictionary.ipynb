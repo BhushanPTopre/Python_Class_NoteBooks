{
 "cells": [
  {
   "cell_type": "markdown",
   "metadata": {},
   "source": [
    "<h1> Dictionary in Python </h1>"
   ]
  },
  {
   "cell_type": "markdown",
   "metadata": {},
   "source": [
    "<h4>\n",
    "    Dictonary is nothing but the unordered collection of data values in the single unit. Dictionary holds the multiple value to optimized the data which is called as key value pair. Where as other data types has single value optimization.Each key value is specify with the help of colon :. It has following syntax key : value . If you want to take multiples values in the dictionary then it must be seperated by comma's.\n",
    "\n",
    "In python, Dictionary can created by placing a sequence of elements within culry braces , sperated by comma's. Values in a dictionary can be of any data type and can be duplicated, where as keys can't be repeated and mus be immuatble. Dictionary can also of created by using built-in function dict(). An empty dictionary can be created by just palcing it to curly braces{}.\n",
    "\n",
    "Key ----> Key in nothing but the value of type int,string,float class which is used to identify each data value in the dictionary uniquely.\n",
    "\n",
    "Value -----> Value is nothing data of any type.\n",
    "\n",
    "Note:- Dictionary keys are case sensitive, same name but differnet in cases of key will be treated as distinct.\n",
    "</h4>    "
   ]
  },
  {
   "cell_type": "code",
   "execution_count": 2,
   "metadata": {},
   "outputs": [
    {
     "name": "stdout",
     "output_type": "stream",
     "text": [
      "<class 'dict'>\n",
      "<class 'dict'>\n"
     ]
    }
   ],
   "source": [
    "#Exmaple 1 (Empty Dictionary)\n",
    "d = dict()\n",
    "print(type(d))\n",
    "D = {}\n",
    "print(type(D))"
   ]
  },
  {
   "cell_type": "code",
   "execution_count": 5,
   "metadata": {},
   "outputs": [
    {
     "name": "stdout",
     "output_type": "stream",
     "text": [
      "{1: 'Anjali', 2: 'Bhushan', 3: 'Pooja'}\n",
      "<class 'dict'>\n"
     ]
    }
   ],
   "source": [
    "#Example 2  (Key:Value) Pair\n",
    "s = {1:\"Anjali\",2:\"Bhushan\",3:\"Pooja\"} \n",
    "print(s)\n",
    "print(type(s))"
   ]
  },
  {
   "cell_type": "code",
   "execution_count": 6,
   "metadata": {},
   "outputs": [
    {
     "name": "stdout",
     "output_type": "stream",
     "text": [
      "{'company': 'Tata', 'Model': 'Nexon', 'Price': 855000}\n"
     ]
    }
   ],
   "source": [
    "# Example 3 \n",
    "car = {\"company\":\"Tata\",\"Model\":\"Nexon\",\"Price\":855000}\n",
    "print(car)"
   ]
  },
  {
   "cell_type": "code",
   "execution_count": 8,
   "metadata": {},
   "outputs": [
    {
     "name": "stdout",
     "output_type": "stream",
     "text": [
      "Nexon\n",
      "855000\n"
     ]
    }
   ],
   "source": [
    "# Example 4 How to access the Dictionary\n",
    "print(car[\"Model\"])\n",
    "print(car[\"Price\"])"
   ]
  },
  {
   "cell_type": "code",
   "execution_count": 9,
   "metadata": {},
   "outputs": [
    {
     "name": "stdout",
     "output_type": "stream",
     "text": [
      "{'company': 'Tata', 'Model': 'Nexon', 'Price': 855000, 'price': 777000}\n"
     ]
    }
   ],
   "source": [
    "# Example 5 Dictionary keys are case sensitive\n",
    "car = {\"company\":\"Tata\",\"Model\":\"Nexon\",\"Price\":855000,\"price\":777000}\n",
    "print(car)"
   ]
  },
  {
   "cell_type": "code",
   "execution_count": 10,
   "metadata": {},
   "outputs": [
    {
     "name": "stdout",
     "output_type": "stream",
     "text": [
      "{'company': 'Tata', 'Model': 'Nexon', 'price': 777000}\n"
     ]
    }
   ],
   "source": [
    "# Example 6 In Dictionary, if keys are duplicates then its values overwrite with existing value (Store recent value)\n",
    "car = {\"company\":\"Tata\",\"Model\":\"Nexon\",\"price\":855000,\"price\":777000}\n",
    "print(car)"
   ]
  },
  {
   "cell_type": "code",
   "execution_count": 11,
   "metadata": {},
   "outputs": [
    {
     "name": "stdout",
     "output_type": "stream",
     "text": [
      "3\n"
     ]
    }
   ],
   "source": [
    "# Example 7 Number elements or itemm inside the dictionary \n",
    "print(len(car))"
   ]
  },
  {
   "cell_type": "code",
   "execution_count": 12,
   "metadata": {},
   "outputs": [
    {
     "name": "stdout",
     "output_type": "stream",
     "text": [
      "{'company': 'Tata', 'Model': 'Nexon', 'price': 777000, 'colors': ['White', 'Black', 'Navy Blue']}\n"
     ]
    }
   ],
   "source": [
    "# Example 8 Dictionary having different data values\n",
    "car = {\"company\":\"Tata\",\"Model\":\"Nexon\",\"price\":855000,\"price\":777000,\"colors\":[\"White\",\"Black\",\"Navy Blue\"]}\n",
    "print(car)"
   ]
  },
  {
   "cell_type": "code",
   "execution_count": 13,
   "metadata": {},
   "outputs": [
    {
     "name": "stdout",
     "output_type": "stream",
     "text": [
      "['White', 'Black', 'Navy Blue']\n",
      "Tata\n"
     ]
    }
   ],
   "source": [
    "# Example 9 get() --> get() is nothing but the predefined method in python which is used extract the data value as per given key from the respecitve dictionary \n",
    "# Accessing by using get()\n",
    "print(car.get(\"colors\"))\n",
    "print(car.get('company'))"
   ]
  },
  {
   "cell_type": "code",
   "execution_count": 16,
   "metadata": {},
   "outputs": [
    {
     "name": "stdout",
     "output_type": "stream",
     "text": [
      "{1: 'apple', 2: 'ball'}\n",
      "<class 'dict'>\n"
     ]
    }
   ],
   "source": [
    "# Example 10 List is converted into dictionary by using dict()\n",
    "# sequece having each item as pair\n",
    "P = dict([(1,'apple'),(2,'ball')])\n",
    "print(P)\n",
    "print(type(P))"
   ]
  },
  {
   "cell_type": "code",
   "execution_count": 18,
   "metadata": {},
   "outputs": [
    {
     "name": "stdout",
     "output_type": "stream",
     "text": [
      "{'company': 'KIA', 'Model': 'Seltois', 'price': 777000, 'colors': ['White', 'Black', 'Navy Blue']}\n"
     ]
    }
   ],
   "source": [
    "# Exxample 11 \n",
    "car = {\"company\":\"Tata\",\"Model\":\"Nexon\",\"price\":855000,\"price\":777000,\"colors\":[\"White\",\"Black\",\"Navy Blue\"]}\n",
    "# How we update the Dictionary value \n",
    "car['company'] = \"KIA\"\n",
    "car['Model'] = \"Seltois\"\n",
    "print(car)"
   ]
  },
  {
   "cell_type": "code",
   "execution_count": 19,
   "metadata": {},
   "outputs": [
    {
     "name": "stdout",
     "output_type": "stream",
     "text": [
      "{'company': 'KIA', 'Model': 'Seltois', 'price': 777000, 'colors': ['White', 'Black', 'Navy Blue'], 'variant': 'Zeeta'}\n"
     ]
    }
   ],
   "source": [
    "# Example 12 How we add the key value in the existing dictionary \n",
    "car['variant']=\"Zeeta\"\n",
    "print(car)"
   ]
  },
  {
   "cell_type": "code",
   "execution_count": 22,
   "metadata": {},
   "outputs": [
    {
     "ename": "KeyError",
     "evalue": "'variant'",
     "output_type": "error",
     "traceback": [
      "\u001b[1;31m---------------------------------------------------------------------------\u001b[0m",
      "\u001b[1;31mKeyError\u001b[0m                                  Traceback (most recent call last)",
      "\u001b[1;32m<ipython-input-22-56b5d8223f5b>\u001b[0m in \u001b[0;36m<module>\u001b[1;34m\u001b[0m\n\u001b[0;32m      1\u001b[0m \u001b[1;31m# Example 13 How we delete the value from the dictionary\u001b[0m\u001b[1;33m\u001b[0m\u001b[1;33m\u001b[0m\u001b[1;33m\u001b[0m\u001b[0m\n\u001b[1;32m----> 2\u001b[1;33m \u001b[0mprint\u001b[0m\u001b[1;33m(\u001b[0m\u001b[0mcar\u001b[0m\u001b[1;33m.\u001b[0m\u001b[0mpop\u001b[0m\u001b[1;33m(\u001b[0m\u001b[1;34m'variant'\u001b[0m\u001b[1;33m)\u001b[0m\u001b[1;33m)\u001b[0m\u001b[1;33m\u001b[0m\u001b[1;33m\u001b[0m\u001b[0m\n\u001b[0m",
      "\u001b[1;31mKeyError\u001b[0m: 'variant'"
     ]
    }
   ],
   "source": [
    "# Example 13 How we delete the value from the dictionary \n",
    "print(car.pop('variant'))"
   ]
  },
  {
   "cell_type": "code",
   "execution_count": 23,
   "metadata": {},
   "outputs": [
    {
     "name": "stdout",
     "output_type": "stream",
     "text": [
      "{'company': 'KIA', 'Model': 'Seltois', 'price': 777000, 'colors': ['White', 'Black', 'Navy Blue']}\n"
     ]
    }
   ],
   "source": [
    "print(car)"
   ]
  },
  {
   "cell_type": "code",
   "execution_count": 25,
   "metadata": {},
   "outputs": [
    {
     "name": "stdout",
     "output_type": "stream",
     "text": [
      "('colors', ['White', 'Black', 'Navy Blue'])\n"
     ]
    }
   ],
   "source": [
    "# example 14 \\\n",
    "print(car.popitem())"
   ]
  },
  {
   "cell_type": "code",
   "execution_count": 26,
   "metadata": {},
   "outputs": [
    {
     "name": "stdout",
     "output_type": "stream",
     "text": [
      "{'company': 'KIA', 'Model': 'Seltois', 'price': 777000}\n"
     ]
    }
   ],
   "source": [
    "print(car)"
   ]
  },
  {
   "cell_type": "code",
   "execution_count": null,
   "metadata": {},
   "outputs": [],
   "source": []
  }
 ],
 "metadata": {
  "kernelspec": {
   "display_name": "Python 3",
   "language": "python",
   "name": "python3"
  },
  "language_info": {
   "codemirror_mode": {
    "name": "ipython",
    "version": 3
   },
   "file_extension": ".py",
   "mimetype": "text/x-python",
   "name": "python",
   "nbconvert_exporter": "python",
   "pygments_lexer": "ipython3",
   "version": "3.7.6"
  }
 },
 "nbformat": 4,
 "nbformat_minor": 4
}

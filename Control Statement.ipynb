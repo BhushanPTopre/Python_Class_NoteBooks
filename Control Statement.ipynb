{
 "cells": [
  {
   "cell_type": "markdown",
   "metadata": {},
   "source": [
    "<h1> Control Statements </h1>"
   ]
  },
  {
   "cell_type": "markdown",
   "metadata": {},
   "source": [
    "Control statement is nothing but the predefined statements or instructions which is used to control the flow of program. There are various type of control statements are as follows:\n",
    "1) Decision Making Statements \n",
    "2) Looping Statements\n",
    "3) Case Control Statements "
   ]
  },
  {
   "cell_type": "markdown",
   "metadata": {},
   "source": [
    "1) Decision Making Statements or condtional statements <br>\n",
    " Decision Making Statements is nothing but the predefined statements or instructions which is used to check perticular condition or expression and take some decision. There are 4 types of decision making statements:- \n",
    "a) Simple if\n",
    "b) if else\n",
    "c) Nested if else\n",
    "d) Ladder if else\n",
    "\n",
    " "
   ]
  },
  {
   "cell_type": "markdown",
   "metadata": {},
   "source": [
    "a) Simple if <br>\n",
    "   Simple if is nothing but the decision making statement or predefined    instruction which is used to check true condition only. Simple is can used with the help follwoing syntax: <br>\n",
    "Synatx:- \n",
    "\n",
    "        if condition or expression:\n",
    "           # statements \n",
    "\n",
    "Explanation :- if condition or expression is true then only statement will get executed. \n",
    "          \n",
    "           \n",
    "For example :\n",
    "         if a>b:<br>\n",
    "            print(\"a is greater than b\")   "
   ]
  },
  {
   "cell_type": "code",
   "execution_count": 3,
   "metadata": {},
   "outputs": [
    {
     "name": "stdout",
     "output_type": "stream",
     "text": [
      "555 is greater number\n"
     ]
    }
   ],
   "source": [
    "# Example 1 \n",
    "x = 555 \n",
    "y = 69 \n",
    "if x > y:\n",
    "    print(\"{} is greater number\".format(x))"
   ]
  },
  {
   "cell_type": "code",
   "execution_count": 7,
   "metadata": {},
   "outputs": [
    {
     "name": "stdout",
     "output_type": "stream",
     "text": [
      "Enter the value of a:23\n",
      "Enter the value of b:45\n",
      "a is smaller than b\n"
     ]
    }
   ],
   "source": [
    "# Example 2\n",
    "a = int(input(\"Enter the value of a:\"))\n",
    "b = int(input(\"Enter the value of b:\"))\n",
    "if a < b:\n",
    "    print(\"a is smaller than b\")   "
   ]
  },
  {
   "cell_type": "markdown",
   "metadata": {},
   "source": [
    "<h3> Indentation </h3> \n",
    "\n",
    "<h5>Python relies on indenatation it means that whitespace at the begining of the line to define the scope of the code or instrcutions. [In Other programming language we use cruly braces for this purpose ] </h5>"
   ]
  },
  {
   "cell_type": "markdown",
   "metadata": {},
   "source": [
    "b) if else\n",
    "if else is nothing but the decision making statement or predefined instruction which is used to check true or false condition only. if else  can used with the help follwoing syntax:\n",
    "Synatx:-\n",
    "\n",
    "    if condition or expression:\n",
    "       # statements A \n",
    "    else:\n",
    "       # statements B\n",
    "\n",
    "Explanation :- if condition or expression is true then only statement A will get executed else statement B will get executed.\n",
    "\n",
    "For example : if a>b: <br>\n",
    "                    print(\"a is greater than b\")<br>\n",
    "              else:<br>\n",
    "                    print(\"b is greater than a\")     <br>"
   ]
  },
  {
   "cell_type": "code",
   "execution_count": 9,
   "metadata": {},
   "outputs": [
    {
     "name": "stdout",
     "output_type": "stream",
     "text": [
      "69 is greater number\n"
     ]
    }
   ],
   "source": [
    "# Example 1 \n",
    "x = 55 \n",
    "y = 69 \n",
    "if x > y:\n",
    "    print(\"{} is greater number\".format(x))\n",
    "else:\n",
    "    print(\"{} is greater number\".format(y))"
   ]
  },
  {
   "cell_type": "code",
   "execution_count": 10,
   "metadata": {},
   "outputs": [
    {
     "name": "stdout",
     "output_type": "stream",
     "text": [
      "Enter the value of a:23\n",
      "Enter the value of b:6\n",
      "b is smaller than a\n"
     ]
    }
   ],
   "source": [
    "# Example 2\n",
    "a = int(input(\"Enter the value of a:\"))\n",
    "b = int(input(\"Enter the value of b:\"))\n",
    "if a < b:\n",
    "    print(\"a is smaller than b\")\n",
    "else:\n",
    "    print(\"b is smaller than a\")"
   ]
  },
  {
   "cell_type": "markdown",
   "metadata": {},
   "source": [
    "c) Nested if Else  <br>\n",
    "   Nested if Else is nothing but the decision making statement or it is if else within if else is also called as nested if else. Nested if else is used with the help of follwing syntax: <br>\n",
    "   \n",
    "Synatx: -   \n",
    "           if condition1:\n",
    "              if condition2:\n",
    "                 statement1\n",
    "              else:\n",
    "                 statement2\n",
    "           else:\n",
    "               if condition3:\n",
    "                 statement3\n",
    "               else:\n",
    "                 statement4 \n",
    " <br>\n",
    " \n",
    " Explanation :- if condition 1 is true then only condition 2 is checked, if condition 2 true then only statement 1 wil get executed. if condition 2 is false then only statement 2 will get executed. \n",
    "if condtion 1 is false then only condtion 3 is checked if condtion 3 is true then only statement 3 will get executed. if condtion 3 is false then only statement 4 will get executed. \n",
    "\n",
    "For example: <br>\n",
    "             "
   ]
  },
  {
   "cell_type": "code",
   "execution_count": null,
   "metadata": {},
   "outputs": [],
   "source": [
    "# WAP to find greater number among three number\n",
    "a = int(input(\"Enter the value of a:\"))\n",
    "b = int(input(\"Enter the value of b:\"))\n",
    "c = int(input(\"Enter the value of c:\"))\n",
    "if a>b:\n",
    "    if a>c:\n",
    "        print(\"{} is greater\".format(a))\n",
    "    else:\n",
    "        print(\"{} is greater\".format(c))\n",
    "#else:\n",
    " #   if b>c:\n",
    "  #      print(\"{} is greater\".format(b))\n",
    "   # else:\n",
    "    #    print(\"{} is greater\".format(c))"
   ]
  },
  {
   "cell_type": "code",
   "execution_count": 5,
   "metadata": {},
   "outputs": [
    {
     "name": "stdout",
     "output_type": "stream",
     "text": [
      "Enter the value of a:10\n",
      "Enter the value of b:10\n",
      "Enter the value of c:10\n",
      "10 is greater\n"
     ]
    }
   ],
   "source": [
    "a = int(input(\"Enter the value of a:\"))\n",
    "b = int(input(\"Enter the value of b:\"))\n",
    "c = int(input(\"Enter the value of c:\"))\n",
    "if a>b:\n",
    "    if a>c:\n",
    "        print(\"{} is greater\".format(a))\n",
    "    else:\n",
    "        print(\"{} is greater\".format(c))\n",
    "else:\n",
    "    if b>c:\n",
    "        print(\"{} is greater\".format(b))\n",
    "    else:\n",
    "        print(\"{} is greater\".format(c))"
   ]
  },
  {
   "cell_type": "markdown",
   "metadata": {},
   "source": [
    "4) Ladder if else\n",
    "Ladder if else is nothing but the decision making statemnet or instructions or conditional statements which is used to check muptile conditions or expression step by step. If we want to use ladder if else then with th ehelp of follwoing syntax:we can use it: \n",
    "\n",
    "Synatx: -   <br>\n",
    "\n",
    "          if condition 1 or expression :\n",
    "              statement 1 ;\n",
    "          elif condition 2 or expression :\n",
    "             statemnt 2;\n",
    "          elif condition 3 or expression :\n",
    "             statement 3;\n",
    "          . \n",
    "          .\n",
    "          .\n",
    "          else\n",
    "             statement;\n",
    "  "
   ]
  },
  {
   "cell_type": "code",
   "execution_count": 4,
   "metadata": {},
   "outputs": [
    {
     "name": "stdout",
     "output_type": "stream",
     "text": [
      "Enter the value of num:-32767\n",
      "-32767 is Negative number\n"
     ]
    }
   ],
   "source": [
    "# WAP to check whether inputed number is positive or negative or zero \n",
    "num = int(input(\"Enter the value of num:\"))\n",
    "if num > 0:\n",
    "    print(\"{} is Positive number\".format(num))\n",
    "elif num < 0:\n",
    "    print(\"{} is Negative number\".format(num))\n",
    "else:\n",
    "    print(\"{} is ZERO\".format(num)) "
   ]
  },
  {
   "cell_type": "code",
   "execution_count": 7,
   "metadata": {},
   "outputs": [
    {
     "name": "stdout",
     "output_type": "stream",
     "text": [
      "Enter the value of num in bettwen 1 to 6:9\n",
      "{Invalid Input ! Please input the value in between 1 to 6}\n"
     ]
    }
   ],
   "source": [
    "# Exmaple \n",
    "n = int(input(\"Enter the value of num in bettwen 1 to 6:\"))\n",
    "if n == 1:\n",
    "    print(\"ONE\")\n",
    "elif n == 2:\n",
    "    print(\"TWO\")\n",
    "elif n == 3:\n",
    "    print(\"THREE\")\n",
    "elif n == 4:\n",
    "    print(\"FOUR\")\n",
    "elif n == 5:\n",
    "    print(\"FIVE\")\n",
    "elif n == 6:\n",
    "    print(\"SIX\")\n",
    "else:\n",
    "    print(\"{Invalid Input ! Please input the value in between 1 to 6}\")\n",
    "    \n",
    "    "
   ]
  },
  {
   "cell_type": "code",
   "execution_count": 9,
   "metadata": {},
   "outputs": [
    {
     "name": "stdout",
     "output_type": "stream",
     "text": [
      "Enter the value of x:15\n",
      "15 is divisible by 5\n"
     ]
    }
   ],
   "source": [
    "# WAP to check a number divisible by 5\n",
    "# If you have only one statement to execute then we can use shord hand if also like below:\n",
    "x = int(input(\"Enter the value of x:\"))\n",
    "if x % 5 == 0: print('{} is divisible by 5'.format(x))   # [Short hand if ] One Line if statement "
   ]
  },
  {
   "cell_type": "code",
   "execution_count": 12,
   "metadata": {},
   "outputs": [
    {
     "name": "stdout",
     "output_type": "stream",
     "text": [
      "Enter the value of x:16\n",
      "16 is not divisible by 5\n"
     ]
    }
   ],
   "source": [
    "# WAP to check a number divisible by 5\n",
    "# Short hand if else\n",
    "x = int(input(\"Enter the value of x:\"))\n",
    "print('{} is divisible by 5'.format(x)) if x % 5 == 0 else print('{} is not divisible by 5'.format(x))"
   ]
  },
  {
   "cell_type": "code",
   "execution_count": 18,
   "metadata": {},
   "outputs": [
    {
     "name": "stdout",
     "output_type": "stream",
     "text": [
      "Both Equal\n"
     ]
    }
   ],
   "source": [
    "# Example (Short hand multiple Else) \n",
    "x = 122\n",
    "y = 122\n",
    "print(\"Greater x\") if x > y else print(\"Both Equal\") if x == y else print(\"Greater y\")"
   ]
  },
  {
   "cell_type": "code",
   "execution_count": null,
   "metadata": {},
   "outputs": [],
   "source": []
  }
 ],
 "metadata": {
  "kernelspec": {
   "display_name": "Python 3",
   "language": "python",
   "name": "python3"
  },
  "language_info": {
   "codemirror_mode": {
    "name": "ipython",
    "version": 3
   },
   "file_extension": ".py",
   "mimetype": "text/x-python",
   "name": "python",
   "nbconvert_exporter": "python",
   "pygments_lexer": "ipython3",
   "version": "3.7.6"
  }
 },
 "nbformat": 4,
 "nbformat_minor": 4
}

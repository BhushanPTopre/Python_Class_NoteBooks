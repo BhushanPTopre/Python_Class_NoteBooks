{
 "cells": [
  {
   "cell_type": "markdown",
   "metadata": {},
   "source": [
    "<h2> Inheritnace </h2>"
   ]
  },
  {
   "cell_type": "markdown",
   "metadata": {},
   "source": [
    "<h4> Create Parent Class </h4>"
   ]
  },
  {
   "cell_type": "markdown",
   "metadata": {},
   "source": [
    "<pre>\n",
    "Any class can be a parent class , so the syntax is the same as creating any other class. \n",
    "\n",
    "For Example : \n",
    "Create a class having name Player with P_Name and team properties and having show method\n",
    "</pre>"
   ]
  },
  {
   "cell_type": "code",
   "execution_count": 6,
   "metadata": {},
   "outputs": [
    {
     "name": "stdout",
     "output_type": "stream",
     "text": [
      "Sachin Player from India Team\n"
     ]
    }
   ],
   "source": [
    "# Exmaple\n",
    "class Player: \n",
    "    def __init__(self,P_Name,team):\n",
    "        self.P_Name = P_Name\n",
    "        self.team = team \n",
    "        \n",
    "    def show(self):      \n",
    "        print(\"{} Player from {} Team\".format(self.P_Name,self.team))\n",
    "        \n",
    "\n",
    "# We can create object of the Player Class and access and execute the method in it. \n",
    "p = Player(\"Sachin\",\"India\")\n",
    "p.show() "
   ]
  },
  {
   "cell_type": "markdown",
   "metadata": {},
   "source": [
    "<h4> Create Child Class </h4>"
   ]
  },
  {
   "cell_type": "markdown",
   "metadata": {},
   "source": [
    "<pre>\n",
    "To Create a Class that inherits the functionality(properties) from he another class and send the parent class as as a parameter when creating the child class. \n",
    "\n",
    "For Example : \n",
    "Create a class Player_Stat which will inherit the properties and methods from the Palyer Class. \n",
    "\n",
    "Syntax:-     class Child_class_name(Parent_class_name):\n",
    "                  pass\n",
    "</pre>"
   ]
  },
  {
   "cell_type": "code",
   "execution_count": 2,
   "metadata": {},
   "outputs": [
    {
     "name": "stdout",
     "output_type": "stream",
     "text": [
      "Steve Smith Player from Australia Team\n"
     ]
    }
   ],
   "source": [
    "# Example How we create Child Class\n",
    "class Player_Stat(Player):\n",
    "    pass\n",
    "\n",
    "# Example Player_Stat class to create object and then execute the show method. \n",
    "o1 = Player_Stat(\"Steve Smith\",\"Australia\")\n",
    "o1.show()"
   ]
  },
  {
   "cell_type": "markdown",
   "metadata": {},
   "source": [
    "<pre>\n",
    "Note:- We use pass keyword when you do not want to add any other properties and methods as Player Class. \n",
    "\n",
    "Now, Player_Stat class has the same properties and methods as the Player class.\n",
    "</pre>"
   ]
  },
  {
   "cell_type": "markdown",
   "metadata": {},
   "source": [
    "<h4> Adding __init__() in Child Class </h4>"
   ]
  },
  {
   "cell_type": "markdown",
   "metadata": {},
   "source": [
    "<pre>\n",
    "Upto now we created child class (Player_Stat) that inherits the properties and methods from its parent class(Player). \n",
    "\n",
    "Now , we add __init__() to the child class. \n",
    "\n",
    "Note:- __init__() function is called automatically every time the class is being used to create a new object. \n",
    "\n",
    "For Example: \n",
    "class Player_Stat(Player):\n",
    "     def __init__(self,P_Name,team):\n",
    "     \n",
    "When you add the __init__(), the child class will no longer inherit the parent's __init__() function. \n",
    "     \n",
    "Note:- Child's __init__() overrides the inheritance of the parent's __init__() function. \n",
    " \n",
    "To keep the inheritance of the parent's __init__() function, add call to parent's __init__() function. \n",
    "\n",
    "For Example : \n",
    "class Player_Stat(Player):\n",
    "     Player.__init__(self,P_Name,team):\n",
    "\n",
    "Now we add __init__() and kept the inheritance of the parent class and we are ready to add functionality in the __init__() function. In Python , We also have \n",
    "super() function that will make the child inherit all the methods and propertiesfrom its parent. \n",
    "\n",
    "For Example : \n",
    "class Player_Stat(Player):\n",
    "     super().__init__(self,P_Name,team):\n",
    "\n",
    "By using super(), you don not have to use the name of parent element , it will automatically inherit the methods and the peroerties from its oarent class. \n",
    "\n",
    "</pre>"
   ]
  },
  {
   "cell_type": "code",
   "execution_count": 8,
   "metadata": {},
   "outputs": [
    {
     "name": "stdout",
     "output_type": "stream",
     "text": [
      "Ajit Player from Mumbai Team\n",
      "ICC Welcome Ajit  in  Mumbai  during  1998\n"
     ]
    }
   ],
   "source": [
    "# Example \n",
    "class Player_Stat(Player):\n",
    "    def __init__(self,P_Name,team,year):\n",
    "        super().__init__(P_Name,team)\n",
    "        super().show()\n",
    "        self.debut = year \n",
    "        \n",
    "    def display(self):\n",
    "        print(\"ICC Welcome\",self.P_Name,\" in \",self.team,\" during \",self.debut)\n",
    "\n",
    "o2 = Player_Stat(\"Ajit\",\"Mumbai\",1998) \n",
    "o2.display()"
   ]
  },
  {
   "cell_type": "markdown",
   "metadata": {},
   "source": [
    "<h4> What is Object Class? </h4>"
   ]
  },
  {
   "cell_type": "markdown",
   "metadata": {},
   "source": [
    "<pre>  \n",
    "Object class is nothing but the root of all classes. In Python 3.x, \n",
    "\"class Test\" and \"class Test(object)\" are same. As we know how we implement ineritnace in python class childclassname(superclassname):\n",
    "</pre>"
   ]
  },
  {
   "cell_type": "code",
   "execution_count": 3,
   "metadata": {},
   "outputs": [
    {
     "name": "stdout",
     "output_type": "stream",
     "text": [
      "KLRahul\n",
      "India\n"
     ]
    }
   ],
   "source": [
    "# WC how parent class constructor are called\n",
    "# Parent Class\n",
    "class Player(object):\n",
    "    # __init__()is called as constructor in python\n",
    "    def  __init__(self,name,team):\n",
    "        self.name = name\n",
    "        self.team = team \n",
    "    def display(self):\n",
    "        print(self.name)\n",
    "        print(self.team)\n",
    "        \n",
    "#Child Class\n",
    "class PlayerStat(Player):\n",
    "    def __init__(self,name,team,salary,rank):\n",
    "        self.salary = salary\n",
    "        self.rank = rank \n",
    "        \n",
    "        # Calling or invoking the __init__() of Parent Class\n",
    "        Player.__init__(self,name,team)\n",
    "        \n",
    "# Instance or Object Creation \n",
    "p1 = PlayerStat(\"KLRahul\",\"India\",55555,17)\n",
    "p1.display()           \n",
    "        "
   ]
  },
  {
   "cell_type": "code",
   "execution_count": 6,
   "metadata": {},
   "outputs": [
    {
     "name": "stdout",
     "output_type": "stream",
     "text": [
      "Addition of two numbers is  30\n"
     ]
    }
   ],
   "source": [
    "class Data:\n",
    "    def __init__(self,x,y):\n",
    "        self.x = x\n",
    "        self.y = y \n",
    "        \n",
    "class Addition(Data):\n",
    "    def sum(self):\n",
    "        self.add = self.x + self.y \n",
    "        print(\"Addition of two numbers is \",self.add)\n",
    "        \n",
    "# Instance or Ref Variable \n",
    "a1 = Addition(10,20)\n",
    "a1.sum()        "
   ]
  },
  {
   "cell_type": "markdown",
   "metadata": {},
   "source": [
    "<h4> Types of Inheritance </h4>"
   ]
  },
  {
   "cell_type": "markdown",
   "metadata": {},
   "source": [
    "<pre>\n",
    "There are various types of inheritance \n",
    "1) Single Level Inheritance \n",
    "2) Multilevel Inheritance \n",
    "3) Hirarchical Inheritance\n",
    "4) Multiple Inheritance \n",
    "5) Hybrid Inheritance \n",
    "</pre>"
   ]
  },
  {
   "cell_type": "markdown",
   "metadata": {},
   "source": [
    "<pre>\n",
    "1) What is Single Level Inheritance?\n",
    "Ans:-  Single Level Inheritance is nothing but the mechanism of accessing or accquiring the properties and methods from only one Parent Class into the Child Class. OR When a child class inherits from only one parent class it is called as Single Level Inheritance. \n",
    "</pre>"
   ]
  },
  {
   "cell_type": "code",
   "execution_count": 3,
   "metadata": {},
   "outputs": [
    {
     "name": "stdout",
     "output_type": "stream",
     "text": [
      "Factorial of 5 is 24\n"
     ]
    }
   ],
   "source": [
    "# WAP to Understand the concept of Single Level Inheritance \n",
    "class Data:    # Parent class\n",
    "    def __init__(self,n):\n",
    "        self.n = n\n",
    "        \n",
    "#Child Class \n",
    "class Facto(Data):\n",
    "    def cal(self):\n",
    "        f = 1 \n",
    "        for i in range(1,self.n):\n",
    "            f = f  * i\n",
    "        print(\"Factorial of {} is {}\".format(self.n,f))\n",
    "        \n",
    "# Instance Creation \n",
    "f = Facto(5)  \n",
    "f.cal()# Method Call\n",
    "        "
   ]
  },
  {
   "cell_type": "markdown",
   "metadata": {},
   "source": [
    "<pre>\n",
    "2) What is MultiLevel Inheritance? \n",
    "Ans:- MultiLevel Inheritance is nothing but the mechanism of accessing the properties and methods from intermidiate class into the only one child class. or Only one parent class , only one child ckass and only one intermidiate class. or When a child class inherits from only one intermidiate class it is called as MultiLevel Inheritance. \n",
    "</pre>"
   ]
  },
  {
   "cell_type": "code",
   "execution_count": 6,
   "metadata": {},
   "outputs": [
    {
     "name": "stdout",
     "output_type": "stream",
     "text": [
      "Area of Rectangle is  7.589999999999999\n"
     ]
    }
   ],
   "source": [
    "# WAP to understamd the concept of Multilevel Inheritance\n",
    "class Length:\n",
    "    def __init__(self,l):\n",
    "        self.l=l\n",
    "        \n",
    "class Bredth(Length):\n",
    "    def __init__(self,b):\n",
    "        self.b=b\n",
    "        super().__init__(3.3)\n",
    "        \n",
    "class Area(Bredth):\n",
    "    def area_rect(self):\n",
    "        print(\"Area of Rectangle is \",(self.l*self.b))\n",
    "        \n",
    "a1 = Area(2.3)\n",
    "a1.area_rect()        "
   ]
  },
  {
   "cell_type": "markdown",
   "metadata": {},
   "source": [
    "<h4> 3) Hirarchical Inheritance </h4>"
   ]
  },
  {
   "cell_type": "markdown",
   "metadata": {},
   "source": [
    "<pre>\n",
    "Hirarchical Inheritance is nothing but the mechanism of creating morethan one child classes from an only one parent class is called as Hirarchical Inheritance. Or\n",
    "When we inherits the properties of oly one parent class into the more than one child class is called as Hirarchical inheritance.     \n",
    "</pre>"
   ]
  },
  {
   "cell_type": "code",
   "execution_count": 3,
   "metadata": {},
   "outputs": [
    {
     "name": "stdout",
     "output_type": "stream",
     "text": [
      "Area of Rectnagle is  7.359999999999999\n",
      "Area of Triangle is  6.875\n"
     ]
    }
   ],
   "source": [
    "# WAP to understand the concept of Hirarchical inheritance\n",
    "class Data:      # Parent class\n",
    "    def __init__(self,length,bredth):\n",
    "        self.length = length\n",
    "        self.bredth = bredth \n",
    "        \n",
    "class Rectangle(Data):   #Chlild class First\n",
    "    def area(self):\n",
    "        result = self.length * self.bredth \n",
    "        print(\"Area of Rectnagle is \",result)\n",
    "        \n",
    "class Triangle(Data):   #Chlild class First\n",
    "    def area_T(self):\n",
    "        ans = 0.5 * self.length * self.bredth \n",
    "        print(\"Area of Triangle is \",ans)\n",
    "\n",
    "\n",
    "r1 = Rectangle(2.3,3.2)\n",
    "r1.area()\n",
    "t1 = Triangle(5.5,2.5)\n",
    "t1.area_T()        \n"
   ]
  },
  {
   "cell_type": "markdown",
   "metadata": {},
   "source": [
    "<h4> Multiple Inheritance </h4>"
   ]
  },
  {
   "cell_type": "markdown",
   "metadata": {},
   "source": [
    "<pre>\n",
    "   Multiple Inheritance is nothing but the mechaism of creating only one child class from more than one parent class is called as Multiple Inheritance. Or When we inherits the properties of more than on parent class into only one child class is called as Mutiple Inheritance. \n",
    "</pre>"
   ]
  },
  {
   "cell_type": "code",
   "execution_count": 4,
   "metadata": {},
   "outputs": [
    {
     "name": "stdout",
     "output_type": "stream",
     "text": [
      "Area of rectangle is  7.589999999999999\n"
     ]
    }
   ],
   "source": [
    "# WAP to understand the concept of Multiple inheritance\n",
    "class GetLength:       # 1 Parent class\n",
    "    def __init__(self,leng):\n",
    "        super().__init__(3.3)\n",
    "        self.leng = leng \n",
    "        \n",
    "class Getbredth:       # 2 Parent class \n",
    "    def __init__(self,bre):\n",
    "        self.bre = bre \n",
    "        \n",
    "class Rectangle(GetLength,Getbredth):     # child class \n",
    "    def area(self):        \n",
    "        result = self.leng * self.bre\n",
    "        print(\"Area of rectangle is \",result)\n",
    "\n",
    "r = Rectangle(2.3)\n",
    "r.area()\n",
    "        "
   ]
  },
  {
   "cell_type": "code",
   "execution_count": 6,
   "metadata": {},
   "outputs": [
    {
     "name": "stdout",
     "output_type": "stream",
     "text": [
      "Area of rectangle is  7.589999999999999\n"
     ]
    }
   ],
   "source": [
    "# WAP to understand the concept of Multiple inheritance\n",
    "class GetLength:\n",
    "    def __init__(self,leng):\n",
    "        self.leng = leng \n",
    "        \n",
    "class Getbredth:\n",
    "    def __init__(self,bre):\n",
    "        super().__init__(3.3)\n",
    "        self.bre = bre \n",
    "        \n",
    "class Rectangle(Getbredth,GetLength):\n",
    "    def area(self):        \n",
    "        result = self.leng * self.bre\n",
    "        print(\"Area of rectangle is \",result)\n",
    "\n",
    "r = Rectangle(2.3)\n",
    "r.area()"
   ]
  },
  {
   "cell_type": "markdown",
   "metadata": {},
   "source": [
    "<h4> Hybrid Inheritance</h4>"
   ]
  },
  {
   "cell_type": "markdown",
   "metadata": {},
   "source": [
    "<pre> \n",
    "Hybrid Inheritance is nothing but the combination of any two inheritance into single unit is called as Hybrid Inheritance. \n",
    "</pre>"
   ]
  },
  {
   "cell_type": "code",
   "execution_count": 25,
   "metadata": {},
   "outputs": [
    {
     "name": "stdout",
     "output_type": "stream",
     "text": [
      "Addition of Three Number is  11.3\n"
     ]
    }
   ],
   "source": [
    "# WAP to understand the concept of Hybrid inheritance \n",
    "class A:\n",
    "    def __init__(self,a):\n",
    "        super().__init__(5)\n",
    "        self.a = a \n",
    "        \n",
    "class B(A):\n",
    "    def __init__(self,b):\n",
    "        super().__init__(4)\n",
    "        self.b = b \n",
    "        \n",
    "class D:\n",
    "    def __init__(self,d):\n",
    "        self.d = d \n",
    "        \n",
    "class C(B,D):          \n",
    "    def add(self):        \n",
    "        ans = self.a + self.b + self.d\n",
    "        print(\"Addition of Three Number is \",ans)     \n",
    "       \n",
    "c = C(2.3)\n",
    "c.add()\n"
   ]
  },
  {
   "cell_type": "code",
   "execution_count": null,
   "metadata": {},
   "outputs": [],
   "source": []
  }
 ],
 "metadata": {
  "kernelspec": {
   "display_name": "Python 3",
   "language": "python",
   "name": "python3"
  },
  "language_info": {
   "codemirror_mode": {
    "name": "ipython",
    "version": 3
   },
   "file_extension": ".py",
   "mimetype": "text/x-python",
   "name": "python",
   "nbconvert_exporter": "python",
   "pygments_lexer": "ipython3",
   "version": "3.7.6"
  }
 },
 "nbformat": 4,
 "nbformat_minor": 4
}

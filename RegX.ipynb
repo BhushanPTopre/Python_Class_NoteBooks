{
 "cells": [
  {
   "cell_type": "markdown",
   "metadata": {},
   "source": [
    "<h2> Regular Expression in Python </h2>"
   ]
  },
  {
   "cell_type": "markdown",
   "metadata": {},
   "source": [
    "<h4>What is Regular Expression?  </h4>"
   ]
  },
  {
   "cell_type": "markdown",
   "metadata": {},
   "source": [
    "<h4> A Regular Expression is nothing but the sequence of charcaters that specifies a search pattern. RegEx is used to check if a string contains the specified search pattern. \n",
    "\n",
    "Python has predefined package called as re, which can be usedto work with regular expression. So if we want to use RegEx then we have to import re.</h4>"
   ]
  },
  {
   "cell_type": "markdown",
   "metadata": {},
   "source": [
    "<h3> RegEx Functions  </h3>\n",
    "re module consists of set of fuctions that allows to search for a perticular pattern.  \n",
    "1) findall   2)  search   3) split   4) sub "
   ]
  },
  {
   "cell_type": "markdown",
   "metadata": {},
   "source": [
    "<h4> 1) findall </h4>\n",
    "finadall is nothing but the predefined function present in the re module which provide us list containing all the matches. List consists of matches in the order they are found. If no matches are found then list is empty displayed as output.   "
   ]
  },
  {
   "cell_type": "code",
   "execution_count": 4,
   "metadata": {},
   "outputs": [
    {
     "name": "stdout",
     "output_type": "stream",
     "text": [
      "['in', 'in']\n"
     ]
    }
   ],
   "source": [
    "# Example of findall \n",
    "import re \n",
    "thought = \"The More you Sweat in Piece the Less you Bleed in War\"\n",
    "p = re.findall(\"in\",thought)\n",
    "print(p)"
   ]
  },
  {
   "cell_type": "code",
   "execution_count": 5,
   "metadata": {},
   "outputs": [
    {
     "name": "stdout",
     "output_type": "stream",
     "text": [
      "[]\n"
     ]
    }
   ],
   "source": [
    "# Example of findall \n",
    "import re \n",
    "thought = \"The More you Sweat in Piece the Less you Bleed in War\"\n",
    "p = re.findall(\"is\",thought)\n",
    "print(p)"
   ]
  },
  {
   "cell_type": "markdown",
   "metadata": {},
   "source": [
    "<h4> 2) search </h4>\n",
    "search() is nothing but the predefined function present in the re module which is used to search string for a match and provides a match object if there is a match. If no matches are found then function provide us None value. "
   ]
  },
  {
   "cell_type": "code",
   "execution_count": 6,
   "metadata": {},
   "outputs": [
    {
     "name": "stdout",
     "output_type": "stream",
     "text": [
      "<re.Match object; span=(13, 27), match='Sweat in Piece'>\n"
     ]
    }
   ],
   "source": [
    "# Example of search\n",
    "import re \n",
    "thought = \"The More you Sweat in Piece the Less you Bleed in War\"\n",
    "f = re.search(\"Sweat in Piece\",thought)\n",
    "print(f)"
   ]
  },
  {
   "cell_type": "code",
   "execution_count": 7,
   "metadata": {},
   "outputs": [
    {
     "name": "stdout",
     "output_type": "stream",
     "text": [
      "None\n"
     ]
    }
   ],
   "source": [
    "# Example of search \n",
    "import re \n",
    "thought = \"The More you Sweat in Piece the Less you Bleed in War\"\n",
    "p = re.search(\"is the\",thought)\n",
    "print(p)"
   ]
  },
  {
   "cell_type": "code",
   "execution_count": 10,
   "metadata": {},
   "outputs": [
    {
     "name": "stdout",
     "output_type": "stream",
     "text": [
      "<re.Match object; span=(3, 4), match=' '>\n",
      "The first white space character is located in location  3\n"
     ]
    }
   ],
   "source": [
    "# Example of search \n",
    "import re \n",
    "thought = \"The More you Sweat in Piece the Less you Bleed in War\"\n",
    "p = re.search(\"\\s\",thought)\n",
    "print(p)\n",
    "print(\"The first white space character is located in location \",p.start())"
   ]
  },
  {
   "cell_type": "code",
   "execution_count": 13,
   "metadata": {},
   "outputs": [
    {
     "name": "stdout",
     "output_type": "stream",
     "text": [
      "<re.Match object; span=(27, 28), match=','>\n"
     ]
    }
   ],
   "source": [
    "# Example of search \n",
    "import re \n",
    "thought = \"The More you Sweat in Piece, The Less you Bleed in War\"\n",
    "p = re.search(\",\",thought)\n",
    "print(p)\n"
   ]
  },
  {
   "cell_type": "markdown",
   "metadata": {},
   "source": [
    "<h4> 3) split </h4>\n",
    "split() is nothing but the predefined function present in the re module which provide us list which is consists of string has been split at each match. We can use <b>maxsplit</b> parameter to control the number of occurnces. "
   ]
  },
  {
   "cell_type": "code",
   "execution_count": 15,
   "metadata": {},
   "outputs": [
    {
     "name": "stdout",
     "output_type": "stream",
     "text": [
      "['The', 'More', 'you', 'Sweat', 'in', 'Piece,', 'The', 'Less', 'you', 'Bleed', 'in', 'War']\n"
     ]
    }
   ],
   "source": [
    "# Example \n",
    "thought = \"The More you Sweat in Piece, The Less you Bleed in War\"\n",
    "p = re.split(\"\\s\",thought)\n",
    "print(p)\n"
   ]
  },
  {
   "cell_type": "code",
   "execution_count": 16,
   "metadata": {},
   "outputs": [
    {
     "name": "stdout",
     "output_type": "stream",
     "text": [
      "['The', 'More you Sweat in Piece, The Less you Bleed in War']\n"
     ]
    }
   ],
   "source": [
    "# Example \n",
    "thought = \"The More you Sweat in Piece, The Less you Bleed in War\"\n",
    "p = re.split(\"\\s\",thought,1)\n",
    "print(p)"
   ]
  },
  {
   "cell_type": "code",
   "execution_count": 17,
   "metadata": {},
   "outputs": [
    {
     "name": "stdout",
     "output_type": "stream",
     "text": [
      "['The', 'More', 'you Sweat in Piece, The Less you Bleed in War']\n"
     ]
    }
   ],
   "source": [
    "# Example \n",
    "thought = \"The More you Sweat in Piece, The Less you Bleed in War\"\n",
    "p = re.split(\"\\s\",thought,2)\n",
    "print(p)"
   ]
  },
  {
   "cell_type": "markdown",
   "metadata": {},
   "source": [
    "<h4> 4) sub() </h4>\n",
    "sub() is nothing but the predeifned function present in the re module which is used replace the matches with the string which we provide. We can use count parameter to control the number of replacemnents. "
   ]
  },
  {
   "cell_type": "code",
   "execution_count": 19,
   "metadata": {},
   "outputs": [
    {
     "name": "stdout",
     "output_type": "stream",
     "text": [
      "ThehiMorehiyouhiSweathiinhiPiece,hiThehiLesshiyouhiBleedhiinhiWar\n"
     ]
    }
   ],
   "source": [
    "# Example \n",
    "thought = \"The More you Sweat in Piece, The Less you Bleed in War\"\n",
    "p = re.sub(\"\\s\",\"hi\",thought)\n",
    "print(p)"
   ]
  },
  {
   "cell_type": "code",
   "execution_count": 21,
   "metadata": {},
   "outputs": [
    {
     "name": "stdout",
     "output_type": "stream",
     "text": [
      "ThehiMorehiyou Sweat in Piece, The Less you Bleed in War\n"
     ]
    }
   ],
   "source": [
    "# Example \n",
    "thought = \"The More you Sweat in Piece, The Less you Bleed in War\"\n",
    "p = re.sub(\"\\s\",\"hi\",thought,2)\n",
    "print(p)"
   ]
  },
  {
   "cell_type": "code",
   "execution_count": 4,
   "metadata": {},
   "outputs": [
    {
     "name": "stdout",
     "output_type": "stream",
     "text": [
      "['9890370804', '123456789']\n"
     ]
    }
   ],
   "source": [
    "# Sample RegX Code\n",
    "import re    \n",
    "# Sample Text or String where we serach using regular expression\n",
    "text = \"\"\"My name is Bhushan Jain having contact number 9890370804 and  My Friend Name is Pragati her contact number is 123456789\"\"\"\n",
    "# Sample regular expression to find digits from the text\n",
    "r = '\\d+'\n",
    "mat = re.findall(r,text)\n",
    "print(mat)"
   ]
  },
  {
   "cell_type": "code",
   "execution_count": 4,
   "metadata": {},
   "outputs": [
    {
     "name": "stdout",
     "output_type": "stream",
     "text": [
      "Search Unsuccesfull\n"
     ]
    }
   ],
   "source": [
    "# Example 1\n",
    "import re\n",
    "mat = '^a...s$'\n",
    "text = 'abyss'\n",
    "ans = re.match(mat,text)\n",
    "\n",
    "if ans:\n",
    "    print(\"Search Successfull\")\n",
    "else:\n",
    "    print(\"Search Unsuccesfull\")"
   ]
  },
  {
   "cell_type": "code",
   "execution_count": 5,
   "metadata": {},
   "outputs": [
    {
     "name": "stdout",
     "output_type": "stream",
     "text": [
      "['16', '48']\n"
     ]
    }
   ],
   "source": [
    "# Example 2 \n",
    "# WAP regular expression to find the numbers from the string\n",
    "import re\n",
    "text = \"hello hi 16pur. Howdy 48\"\n",
    "mat = '\\d+'\n",
    "ans = re.findall(mat,text)\n",
    "print(ans)"
   ]
  },
  {
   "cell_type": "code",
   "execution_count": 7,
   "metadata": {},
   "outputs": [
    {
     "name": "stdout",
     "output_type": "stream",
     "text": [
      "['hello hi ', 'pur. Howdy ', '']\n"
     ]
    }
   ],
   "source": [
    "# Example 3 \n",
    "# WAP regular expression to find the numbers from the string\n",
    "import re\n",
    "text = \"hello hi 16pur. Howdy 48\"\n",
    "mat = '\\d+'\n",
    "ans = re.split(mat,text)\n",
    "print(ans)"
   ]
  },
  {
   "cell_type": "code",
   "execution_count": 8,
   "metadata": {},
   "outputs": [
    {
     "name": "stdout",
     "output_type": "stream",
     "text": [
      "['hello hi ', 'pur. Howdy 48']\n"
     ]
    }
   ],
   "source": [
    "# Example 3 \n",
    "# WAP regular expression to find the numbers from the string\n",
    "import re\n",
    "text = \"hello hi 16pur. Howdy 48\"\n",
    "mat = '\\d+'\n",
    "ans = re.split(mat,text,1)\n",
    "print(ans)"
   ]
  },
  {
   "cell_type": "code",
   "execution_count": 9,
   "metadata": {},
   "outputs": [
    {
     "name": "stdout",
     "output_type": "stream",
     "text": [
      "abc12de23f456\n"
     ]
    }
   ],
   "source": [
    "# Example 5\n",
    "import re\n",
    "text = \"abc 12\\\n",
    "de 23 \\n f45 6\"\n",
    "\n",
    "mat = \"\\s+\"\n",
    "\n",
    "replace =''\n",
    "newtext = re.sub(mat,replace,text)\n",
    "print(newtext)"
   ]
  },
  {
   "cell_type": "code",
   "execution_count": 11,
   "metadata": {},
   "outputs": [
    {
     "name": "stdout",
     "output_type": "stream",
     "text": [
      "Pattern not found\n"
     ]
    }
   ],
   "source": [
    "#Example 6\n",
    "import re \n",
    "text=\"Python is Tricky\"\n",
    "mat=re.search(\"\\APython\",text)\n",
    "if mat:\n",
    "    print(\"Pattern found in in the text\")\n",
    "else:\n",
    "    print(\"Pattern not found\") "
   ]
  },
  {
   "cell_type": "code",
   "execution_count": null,
   "metadata": {},
   "outputs": [],
   "source": []
  }
 ],
 "metadata": {
  "kernelspec": {
   "display_name": "Python 3",
   "language": "python",
   "name": "python3"
  },
  "language_info": {
   "codemirror_mode": {
    "name": "ipython",
    "version": 3
   },
   "file_extension": ".py",
   "mimetype": "text/x-python",
   "name": "python",
   "nbconvert_exporter": "python",
   "pygments_lexer": "ipython3",
   "version": "3.7.6"
  }
 },
 "nbformat": 4,
 "nbformat_minor": 4
}

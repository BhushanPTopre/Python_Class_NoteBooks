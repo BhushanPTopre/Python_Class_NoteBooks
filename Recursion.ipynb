{
 "cells": [
  {
   "cell_type": "markdown",
   "metadata": {},
   "source": [
    "<h2> Recursion in Python </h2>"
   ]
  },
  {
   "cell_type": "markdown",
   "metadata": {},
   "source": [
    "<h5> Recursion is nothing but the function which call itself repetedly until they did not meet the base creteria. </h5>"
   ]
  },
  {
   "cell_type": "markdown",
   "metadata": {},
   "source": [
    "<h5> BAse Creteria :- BAse Creteria is nohting but the condition from where function does not call itself.\n",
    "    \n",
    "Recursive Function :- REcursive Function is nothing but the function or function call which is responsible for recursion. \n",
    "    \n",
    "There are 2 types of recursion 1) Direct Recursion and 2) Indirect REcursion\n",
    "    \n",
    "1) Direct REcursion :- Direct Recursion is nohting but the recursive function which call itself repetedly until they did not meet the base creteria.    \n",
    "\n",
    " \n",
    "</h5>"
   ]
  },
  {
   "cell_type": "code",
   "execution_count": null,
   "metadata": {},
   "outputs": [],
   "source": [
    "# Example of REcursion to implement FIBONACCI Series \n",
    "\n",
    "def fibo(x):\n",
    "    if x <= 1:   # Base Creteria\n",
    "        return x\n",
    "    else:\n",
    "        return(fibo(x-1)+fibo(x-2))\n",
    "    \n",
    "\n",
    "n = int(input(\"Enter the value of n:\"))\n",
    "if n < 0:\n",
    "    print(\"Invalid Input !\")\n",
    "else:\n",
    "    print(\"FIBONACII Series:\")\n",
    "    for i in range(n):\n",
    "        print(fibo(i)) # Function Call \n",
    "    \n"
   ]
  },
  {
   "cell_type": "code",
   "execution_count": 19,
   "metadata": {},
   "outputs": [
    {
     "name": "stdout",
     "output_type": "stream",
     "text": [
      "Enter the value of num:153\n",
      "Inputted Number is Armstrong Number\n"
     ]
    }
   ],
   "source": [
    "# WAP to find whether inputted is armstrong or not\n",
    "s = 0\n",
    "def armstrong(n):\n",
    "    global s\n",
    "    if n != 0:\n",
    "        s = s + (pow(n%10,3))\n",
    "        armstrong(n//10)\n",
    "    return s\n",
    "    \n",
    "\n",
    "num = int(input(\"Enter the value of num:\"))\n",
    "if(armstrong(num) == num):\n",
    "    print(\"Inputted Number is Armstrong Number\")\n",
    "else:\n",
    "    print(\"Inputted Number is not Armstrong Number\")"
   ]
  },
  {
   "cell_type": "code",
   "execution_count": null,
   "metadata": {},
   "outputs": [],
   "source": []
  },
  {
   "cell_type": "code",
   "execution_count": null,
   "metadata": {},
   "outputs": [],
   "source": []
  }
 ],
 "metadata": {
  "kernelspec": {
   "display_name": "Python 3",
   "language": "python",
   "name": "python3"
  },
  "language_info": {
   "codemirror_mode": {
    "name": "ipython",
    "version": 3
   },
   "file_extension": ".py",
   "mimetype": "text/x-python",
   "name": "python",
   "nbconvert_exporter": "python",
   "pygments_lexer": "ipython3",
   "version": "3.7.6"
  }
 },
 "nbformat": 4,
 "nbformat_minor": 4
}

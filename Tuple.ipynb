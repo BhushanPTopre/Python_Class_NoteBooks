{
 "cells": [
  {
   "cell_type": "markdown",
   "metadata": {},
   "source": [
    "<h1> Tuple in Python </h1>"
   ]
  },
  {
   "cell_type": "markdown",
   "metadata": {},
   "source": [
    "<h3>\n",
    "Tuple is nothing but the ordered collection of different data elements or objects but it is immuatable (can't Modify). In python , tuples are created by placing sequence of values seperated by comma with or without use of parentheses for grouping of data sequence. Tuples can contain any number of data types and any number of elements(Strings,integers,list etc)\n",
    "\n",
    "Note:- Tuples can also be created with a single element, but it bit a tricky. Having one lement in the parenthesis is ot sufficient , there must be trailing comma to make it tuple.\n",
    "\n",
    "How we create tuple? Ans:- With the help of following sytax:-\n",
    "\n",
    "Syntax:- var_name=(List of elements)\n",
    "\n",
    "For exmaple:-\n",
    "\n",
    "T1 = ('Nidhi','Gaytri')    \n",
    "</h3>"
   ]
  },
  {
   "cell_type": "code",
   "execution_count": 1,
   "metadata": {},
   "outputs": [
    {
     "name": "stdout",
     "output_type": "stream",
     "text": [
      "<class 'tuple'>\n"
     ]
    }
   ],
   "source": [
    "# Example 1\n",
    "t=()\n",
    "print(type(t))"
   ]
  },
  {
   "cell_type": "code",
   "execution_count": 3,
   "metadata": {},
   "outputs": [
    {
     "name": "stdout",
     "output_type": "stream",
     "text": [
      "('Nidhi', 'Gaytri', [4, 5, 6])\n",
      "<class 'tuple'>\n"
     ]
    }
   ],
   "source": [
    "# Example 2\n",
    "t=('Nidhi','Gaytri',[4,5,6])\n",
    "print(t)\n",
    "print(type(t))"
   ]
  },
  {
   "cell_type": "code",
   "execution_count": 6,
   "metadata": {},
   "outputs": [
    {
     "name": "stdout",
     "output_type": "stream",
     "text": [
      "('Nidhi', 'Gaytri')\n",
      "<class 'tuple'>\n"
     ]
    }
   ],
   "source": [
    "# Example 3 \n",
    "T = 'Nidhi','Gaytri'   # Without use of parenthesis \n",
    "print(T)\n",
    "print(type(T))"
   ]
  },
  {
   "cell_type": "code",
   "execution_count": 7,
   "metadata": {},
   "outputs": [
    {
     "name": "stdout",
     "output_type": "stream",
     "text": [
      "((0, 1, 2, 4), ('Pooja', 'Arti'))\n"
     ]
    }
   ],
   "source": [
    "# example 4 \n",
    "T1 = (0,1,2,4)\n",
    "T2 = ('Pooja','Arti')\n",
    "T3 = (T1,T2)   # nested Tuple\n",
    "print(T3)"
   ]
  },
  {
   "cell_type": "code",
   "execution_count": 14,
   "metadata": {},
   "outputs": [
    {
     "name": "stdout",
     "output_type": "stream",
     "text": [
      "('', 'Bhushan')\n",
      "<class 'tuple'>\n"
     ]
    }
   ],
   "source": [
    "# example 5\n",
    "T = (\"Bhushan\",)\n",
    "print(T)\n",
    "print(type(T))"
   ]
  },
  {
   "cell_type": "code",
   "execution_count": 17,
   "metadata": {},
   "outputs": [
    {
     "name": "stdout",
     "output_type": "stream",
     "text": [
      "3\n"
     ]
    }
   ],
   "source": [
    "# Example 6\n",
    "t=('Nidhi','Gaytri',[4,5,6])\n",
    "print(len(t)) # len is nothing but the predefined function in python which is used to find number of elements present inside the tuple"
   ]
  },
  {
   "cell_type": "code",
   "execution_count": 18,
   "metadata": {},
   "outputs": [
    {
     "name": "stdout",
     "output_type": "stream",
     "text": [
      "(('Orange', 'Custerapple', 'PineApple'), ('Ojucie', 'Cut?Juice', 'PJucie'), (True, False, True), (60, 65, 120))\n"
     ]
    }
   ],
   "source": [
    "# Exmaple 7 \n",
    "Fruits = (\"Orange\",\"Custerapple\",\"PineApple\")\n",
    "Juice = (\"Ojucie\",\"Cut?Juice\",\"PJucie\")\n",
    "Bvalue = (True,False,True)\n",
    "Price = (60,65,120)\n",
    "TT = (Fruits,Juice,Bvalue,Price)\n",
    "print(TT)"
   ]
  },
  {
   "cell_type": "code",
   "execution_count": 19,
   "metadata": {},
   "outputs": [
    {
     "ename": "AttributeError",
     "evalue": "'tuple' object has no attribute 'append'",
     "output_type": "error",
     "traceback": [
      "\u001b[1;31m---------------------------------------------------------------------------\u001b[0m",
      "\u001b[1;31mAttributeError\u001b[0m                            Traceback (most recent call last)",
      "\u001b[1;32m<ipython-input-19-9930bf022335>\u001b[0m in \u001b[0;36m<module>\u001b[1;34m\u001b[0m\n\u001b[0;32m      1\u001b[0m \u001b[1;31m# Exmaple 8\u001b[0m\u001b[1;33m\u001b[0m\u001b[1;33m\u001b[0m\u001b[1;33m\u001b[0m\u001b[0m\n\u001b[0;32m      2\u001b[0m \u001b[0mFruits\u001b[0m \u001b[1;33m=\u001b[0m \u001b[1;33m(\u001b[0m\u001b[1;34m\"Orange\"\u001b[0m\u001b[1;33m,\u001b[0m\u001b[1;34m\"Custerapple\"\u001b[0m\u001b[1;33m,\u001b[0m\u001b[1;34m\"PineApple\"\u001b[0m\u001b[1;33m)\u001b[0m\u001b[1;33m\u001b[0m\u001b[1;33m\u001b[0m\u001b[0m\n\u001b[1;32m----> 3\u001b[1;33m \u001b[0mFruits\u001b[0m\u001b[1;33m.\u001b[0m\u001b[0mappend\u001b[0m\u001b[1;33m(\u001b[0m\u001b[1;34m\"Grapes\"\u001b[0m\u001b[1;33m)\u001b[0m\u001b[1;33m\u001b[0m\u001b[1;33m\u001b[0m\u001b[0m\n\u001b[0m\u001b[0;32m      4\u001b[0m \u001b[0mprint\u001b[0m\u001b[1;33m(\u001b[0m\u001b[0mFruits\u001b[0m\u001b[1;33m)\u001b[0m\u001b[1;33m\u001b[0m\u001b[1;33m\u001b[0m\u001b[0m\n",
      "\u001b[1;31mAttributeError\u001b[0m: 'tuple' object has no attribute 'append'"
     ]
    }
   ],
   "source": [
    "# Exmaple 8 \n",
    "Fruits = (\"Orange\",\"Custerapple\",\"PineApple\")\n",
    "Fruits.append(\"Grapes\")   # Tuple is immutable \n",
    "print(Fruits)\n"
   ]
  },
  {
   "cell_type": "code",
   "execution_count": null,
   "metadata": {},
   "outputs": [],
   "source": []
  }
 ],
 "metadata": {
  "kernelspec": {
   "display_name": "Python 3",
   "language": "python",
   "name": "python3"
  },
  "language_info": {
   "codemirror_mode": {
    "name": "ipython",
    "version": 3
   },
   "file_extension": ".py",
   "mimetype": "text/x-python",
   "name": "python",
   "nbconvert_exporter": "python",
   "pygments_lexer": "ipython3",
   "version": "3.7.6"
  }
 },
 "nbformat": 4,
 "nbformat_minor": 4
}

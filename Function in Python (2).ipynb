{
 "cells": [
  {
   "cell_type": "markdown",
   "metadata": {},
   "source": [
    "<h1> Function in Python </h1>"
   ]
  },
  {
   "cell_type": "markdown",
   "metadata": {},
   "source": [
    "<h4>Function is nothing but the block of code or self contained program that carried out well defined task if we have to perform that task repetedly then we called as Function. </h4>\n",
    "<br>\n",
    "<br>Now , there are two types of functions or block of code \n",
    "\n",
    "1) User defined  ----> which is defined by user <br>\n",
    "\n",
    "2) Predefined     ----> which are already defined <br>\n",
    "\n",
    "a) Functions      -----> block of code outside the class <br>\n",
    "\n",
    "b) Method         -----> block of code inside the class <br>"
   ]
  },
  {
   "cell_type": "markdown",
   "metadata": {},
   "source": [
    "<h5> A] Function  Definition in Python or Function called </h5>\n",
    "\n",
    "<h6> a] How we define function in Python? </h6> <br>\n",
    "\n",
    "Ans:- With the help of follwoing syntax:\n",
    "<br>\n",
    "\n",
    "<br>      p]  def  function_name(arguments_list):\n",
    "                 #statements\n",
    "\n",
    "Where,<br>\n",
    "\n",
    "<br>def  ---> def is nothing but the keyword which is used to provide special meaning to the given name that is block of code (Function) <br>\n",
    "\n",
    "<br>function_name ---> function_name is nothing but the set of charcaters which is used to reporesents task of the function (it means name of function) <br>\n",
    "\n",
    "<br> arguments list or parameters list ----->    arguments list or parameters list is nothing but the variable whichis used to recieve the value which is sends by the actual arguements.It is optional.<br>   \n",
    "    \n",
    "<br>for example :- \n",
    "    <br>       q]   def  Addition():\n",
    "        <br>             print(a+b)\n",
    "       \n",
    "<br>\n",
    "<br>Meaning P]  It is the instruction given by user to the python interpreter it tells to python interpreter that\n",
    "                       define the task of the function.  \n",
    "\n",
    "<br>Meaning q]  It is the instruction given by user to the python interpreter it tells to python interpreter that\n",
    "                       define the task of the Addition function.  \n"
   ]
  },
  {
   "cell_type": "markdown",
   "metadata": {},
   "source": [
    "<pre> \n",
    "B] Function Call in python or calling function\n",
    "\n",
    "a) How we call the function in python ? \n",
    "Ans:- witht the help of following syntax:- \n",
    "p)  function_name(arguemnts)\n",
    "\n",
    "for example \n",
    "\n",
    "q)  Addition() \n",
    "\n",
    "Meaning p]   It is the instruction given by user to the python interpreter it tells to python interpreter that\n",
    "                        execute the perticular function. \n",
    "\n",
    "Meaning q]   It is the instruction given by user to the python interpreter it tells to python interpreter that\n",
    "                        execute the Addition function definition. </pre>"
   ]
  },
  {
   "cell_type": "code",
   "execution_count": 1,
   "metadata": {},
   "outputs": [
    {
     "name": "stdout",
     "output_type": "stream",
     "text": [
      "Percentage of student is  86.6\n"
     ]
    }
   ],
   "source": [
    "# WAP to calculate percentage of student using UDfunction \n",
    "def Percentage(om,tm):\n",
    "    per = (om/tm)*100\n",
    "    print(\"Percentage of student is \",per)\n",
    "    \n",
    "Percentage(433,500)   # Function call or calling function"
   ]
  },
  {
   "cell_type": "code",
   "execution_count": 2,
   "metadata": {},
   "outputs": [
    {
     "name": "stdout",
     "output_type": "stream",
     "text": [
      "Enter the obtained marks of student:433\n",
      "Enter the total marks of student:500\n",
      "Percentage of student is  86.6\n"
     ]
    }
   ],
   "source": [
    "def Percentage(om,tm):\n",
    "    per = (om/tm)*100\n",
    "    print(\"Percentage of student is \",per)\n",
    "    \n",
    "o = int(input(\"Enter the obtained marks of student:\"))\n",
    "t = int(input(\"Enter the total marks of student:\"))\n",
    "Percentage(o,t)   # Function call or calling function"
   ]
  },
  {
   "cell_type": "code",
   "execution_count": 3,
   "metadata": {},
   "outputs": [
    {
     "name": "stdout",
     "output_type": "stream",
     "text": [
      "Percentage of student is  86.6\n"
     ]
    }
   ],
   "source": [
    "def Percentage():\n",
    "    om=433\n",
    "    tm=500\n",
    "    per = (om/tm)*100\n",
    "    print(\"Percentage of student is \",per)\n",
    "    \n",
    "Percentage()   # Function call or calling function"
   ]
  },
  {
   "cell_type": "markdown",
   "metadata": {},
   "source": [
    "<h5> WAP to interhcnage the values of two inputted value in the variable (Swapping) </h5>"
   ]
  },
  {
   "cell_type": "code",
   "execution_count": 1,
   "metadata": {},
   "outputs": [
    {
     "name": "stdout",
     "output_type": "stream",
     "text": [
      "Enter the value of a:45\n",
      "Enter the value of b:50\n",
      "Before Swapping---> x = 45 and y = 50\n",
      "After Swapping---> x = 50 and y = 45\n"
     ]
    }
   ],
   "source": [
    "def Swap(x,y): # Function Definition [x and y are the formal arguments or parameter]\n",
    "    print(\"Before Swapping---> x = {} and y = {}\".format(x,y))\n",
    "    x,y = y,x \n",
    "    print(\"After Swapping---> x = {} and y = {}\".format(x,y))\n",
    "    \n",
    "a = int(input(\"Enter the value of a:\"))\n",
    "b = int(input(\"Enter the value of b:\"))\n",
    "Swap(a,b)  # Function Call [a and b are the actual arguements or Arguments]      "
   ]
  },
  {
   "cell_type": "markdown",
   "metadata": {},
   "source": [
    "<h5> Arbitary Arguments (*args) </h5>\n",
    "\n",
    "<h6>Arbitary arguemnts is nothing but the variable or arguments in case if you do not know how many arguments that will be passed into your function then add * in front of parametrs inside the function definition.   </h6>\n",
    "\n",
    "<h6> Function will recieve a tuple of arguments and can access the elements accordingly </h6>"
   ]
  },
  {
   "cell_type": "code",
   "execution_count": 5,
   "metadata": {},
   "outputs": [
    {
     "name": "stdout",
     "output_type": "stream",
     "text": [
      "BCA   BSC\n"
     ]
    }
   ],
   "source": [
    "def Course_names(*args):\n",
    "    print(args[0],\" \",args[1])\n",
    "    \n",
    "Course_names(\"BCA\",\"BSC\")"
   ]
  },
  {
   "cell_type": "markdown",
   "metadata": {},
   "source": [
    "<h5> Keyword Arguments</h5>"
   ]
  },
  {
   "cell_type": "markdown",
   "metadata": {},
   "source": [
    "<h6>Keyword Arguments is nothing but the arguments or variable that are send or pass like key value pair or syntax. Keyword Arguments does not worry about the order of the arguments.</h6>"
   ]
  },
  {
   "cell_type": "code",
   "execution_count": 7,
   "metadata": {},
   "outputs": [
    {
     "name": "stdout",
     "output_type": "stream",
     "text": [
      "Course 1:  MS\n",
      "Course 4 : ML/AI\n"
     ]
    }
   ],
   "source": [
    "def Course_name(course1,course2,course3,course4):\n",
    "    print(\"Course 1: \",course1)\n",
    "    print(\"Course 4 :\",course4)\n",
    "    \n",
    "Course_name(course1=\"MS\",course2=\"MTECH\",course3=\"PGDDS\",course4=\"ML/AI\")"
   ]
  },
  {
   "cell_type": "code",
   "execution_count": 8,
   "metadata": {},
   "outputs": [
    {
     "name": "stdout",
     "output_type": "stream",
     "text": [
      "Course 1:  MS\n",
      "Course 4 : ML/AI\n"
     ]
    }
   ],
   "source": [
    "# Keyword Arguments does not worry about the order of the arguments.\n",
    "def Course_name(course3,course2,course1,course4):\n",
    "    print(\"Course 1: \",course1)\n",
    "    print(\"Course 4 :\",course4)\n",
    "    \n",
    "Course_name(course1=\"MS\",course2=\"MTECH\",course3=\"PGDDS\",course4=\"ML/AI\")"
   ]
  },
  {
   "cell_type": "markdown",
   "metadata": {},
   "source": [
    "<h5> Keyword Arbitary arguments </h5>"
   ]
  },
  {
   "cell_type": "markdown",
   "metadata": {},
   "source": [
    "<h6>Keyword Arbitary arguments is nothing but the variable or arguments in case if you do not know how many arguments are passed into the function that argument follows the key value syntax then you can specify ** in front args. </h6>\n",
    "Note:- Keyword arbitary arguments when pass the function then function will recieve the arguments like dictionary and access these arguments as per dictionary or accordingly..."
   ]
  },
  {
   "cell_type": "code",
   "execution_count": 1,
   "metadata": {},
   "outputs": [
    {
     "name": "stdout",
     "output_type": "stream",
     "text": [
      "Car name whose belongs to mahindra: XUV300\n"
     ]
    }
   ],
   "source": [
    "def cars(**args):\n",
    "    print(\"Car name whose belongs to mahindra:\",args[\"Mahindra\"])\n",
    "    \n",
    "    \n",
    "cars(tata=\"Punch\",Maruti=\"Brezza\",Ranault=\"Duster\",Mahindra=\"XUV300\")    "
   ]
  },
  {
   "cell_type": "markdown",
   "metadata": {},
   "source": [
    "<h5> Defualt Parameter Value </h5> "
   ]
  },
  {
   "cell_type": "markdown",
   "metadata": {},
   "source": [
    "Defualt Parameter value is nothing but the value or literal which are assign to the parameter when we call the function without using actual argument that time that value assign towards the parameter. "
   ]
  },
  {
   "cell_type": "code",
   "execution_count": 6,
   "metadata": {},
   "outputs": [
    {
     "name": "stdout",
     "output_type": "stream",
     "text": [
      "Employee belongs to  Maharashtra\n",
      "Employee belongs to  Telangana\n",
      "Employee belongs to  UP\n",
      "Employee belongs to  Karnataka\n"
     ]
    }
   ],
   "source": [
    "def emp_city(state=\"UP\"):\n",
    "    print(\"Employee belongs to \",state)\n",
    "    \n",
    "emp_city(\"Maharashtra\")\n",
    "emp_city(\"Telangana\")\n",
    "emp_city()\n",
    "emp_city(\"Karnataka\")"
   ]
  },
  {
   "cell_type": "markdown",
   "metadata": {},
   "source": [
    "<h5> Passing List as an Arguments </h5>"
   ]
  },
  {
   "cell_type": "markdown",
   "metadata": {},
   "source": [
    "<h6> when we call the function the we sends the list as an actual arguments as well as we send string,tuple,dictionary,number,list etc </h6>"
   ]
  },
  {
   "cell_type": "code",
   "execution_count": 7,
   "metadata": {},
   "outputs": [
    {
     "name": "stdout",
     "output_type": "stream",
     "text": [
      "PBM\n",
      "Veg Kolhapuri\n",
      "Masala Baingan\n",
      "Panner Kaju kari\n"
     ]
    }
   ],
   "source": [
    "def Menu(dish):\n",
    "    for i in dish:\n",
    "        print(i)        \n",
    "\n",
    "d = [\"PBM\",\"Veg Kolhapuri\",\"Masala Baingan\",\"Panner Kaju kari\"]\n",
    "Menu(d)\n",
    "    "
   ]
  },
  {
   "cell_type": "markdown",
   "metadata": {},
   "source": [
    "<h5> Return from function </h5>"
   ]
  },
  {
   "cell_type": "markdown",
   "metadata": {},
   "source": [
    "<h6> Return expression is nothing but intruction given by user to the pythin interpreter it tells to python interpreter that which type of value should this function provide us and where it is kept. </h6>"
   ]
  },
  {
   "cell_type": "code",
   "execution_count": 9,
   "metadata": {},
   "outputs": [
    {
     "name": "stdout",
     "output_type": "stream",
     "text": [
      "Cube of 2 is 8\n"
     ]
    }
   ],
   "source": [
    "def cube(x):\n",
    "    return(x*x*x)\n",
    "\n",
    "print(\"Cube of 2 is\",cube(2))"
   ]
  },
  {
   "cell_type": "markdown",
   "metadata": {},
   "source": [
    "<h4> Docstring (document string) </h4>"
   ]
  },
  {
   "cell_type": "markdown",
   "metadata": {},
   "source": [
    "<h5>Docstring is nothing but the kind of string which is used to describe the functionality of the function. If user want to use of the docstring in function then it is optional but if user use it then it considered as good practice. </h5><br>\n",
    "\n",
    "<h4> Note:- If user want to specify docstring or document string  then first string after the function is called. </h4><br>\n",
    "\n",
    "a) How we use docstring? <br>\n",
    "Ans:- With the help follwoing syntax: <br>\n",
    "\n",
    "   \"\"\" String \"\"\"<br>\n",
    "   \n",
    "For Exmaple :- <br>\n",
    "    def cube(x):<br>\n",
    "       \"\"\" function which provide us cube of the number \"\"\" <br>\n",
    "       return(x*x*x)<br>\n",
    "\n",
    "b) How we print the docstring? <br>\n",
    "Ans:- With the help follwoing syntax: <br>\n",
    "\n",
    "  print(cube.__doc__)    # it is use to print the document string <br>\n",
    "  \n",
    "  __doc__ ----> It is the kind of variable which is used to represent the  docstring.   <br>"
   ]
  },
  {
   "cell_type": "code",
   "execution_count": 3,
   "metadata": {},
   "outputs": [
    {
     "name": "stdout",
     "output_type": "stream",
     "text": [
      "Enter any number:6\n",
      "Inputted number is Positive!\n"
     ]
    }
   ],
   "source": [
    "def PN(n):\n",
    "    \"\"\" Function to check whether inputted number is positive or negative \"\"\"\n",
    "    if n > 0:\n",
    "        print(\"Inputted number is Positive!\")\n",
    "    else:\n",
    "        print(\"Inputted number is Negative!\")\n",
    "        \n",
    "x = int(input(\"Enter any number:\"))\n",
    "PN(x)"
   ]
  },
  {
   "cell_type": "code",
   "execution_count": 6,
   "metadata": {},
   "outputs": [
    {
     "name": "stdout",
     "output_type": "stream",
     "text": [
      " Function to check whether inputted number is positive or negative \n"
     ]
    }
   ],
   "source": [
    "print(PN.__doc__)  # it is use to print the document string"
   ]
  },
  {
   "cell_type": "code",
   "execution_count": 7,
   "metadata": {},
   "outputs": [
    {
     "name": "stdout",
     "output_type": "stream",
     "text": [
      "5\n"
     ]
    }
   ],
   "source": [
    "L = [23,56,786,1,454]\n",
    "print(len(L))"
   ]
  },
  {
   "cell_type": "code",
   "execution_count": 8,
   "metadata": {},
   "outputs": [
    {
     "name": "stdout",
     "output_type": "stream",
     "text": [
      "Return the number of items in a container.\n"
     ]
    }
   ],
   "source": [
    "print(len.__doc__)"
   ]
  },
  {
   "cell_type": "markdown",
   "metadata": {},
   "source": [
    "<h3> Lambda Function in python (Anonymous Function) </h3>"
   ]
  },
  {
   "cell_type": "markdown",
   "metadata": {},
   "source": [
    "<h4> Lambda Function is nothing but the function without name or nameless function which consists of any number of arguments but only one expression. It is also called as Anonymous function. </h4>\n",
    "\n",
    "<br> How we use lambda function?\n",
    "Ans:- with the help of following syntx:- <br>\n",
    "\n",
    "  lambda arguments : expression \n",
    "  \n",
    " Where , \n",
    " \n",
    " lambda ---> it is the keyword which is used to specify anonymous function. \n",
    " \n",
    " arguments ---> it is the kind of variable \n",
    " \n",
    " expression ---->  it is the kind of operation to be perform on the arguments. \n",
    " \n",
    " \n",
    " <h3> Note:- \n",
    "    \n",
    "1) Lambda function can have any number of arguments but only one expression , which is evaluated and returned. \n",
    "    \n",
    "2) We are free to use lambda functions whenever lambda funtions objects are created. </h3>"
   ]
  },
  {
   "cell_type": "code",
   "execution_count": 9,
   "metadata": {},
   "outputs": [
    {
     "name": "stdout",
     "output_type": "stream",
     "text": [
      "12\n"
     ]
    }
   ],
   "source": [
    "# Example 1\n",
    "# WE can multiply two number using lambda function\n",
    "ans = lambda x , y : x * y\n",
    "print(ans(4,3))"
   ]
  },
  {
   "cell_type": "code",
   "execution_count": 10,
   "metadata": {},
   "outputs": [
    {
     "name": "stdout",
     "output_type": "stream",
     "text": [
      "16\n"
     ]
    }
   ],
   "source": [
    "# Example 2 \n",
    "P = lambda a,b,c : a + b + c\n",
    "print(P(2,5,9))"
   ]
  },
  {
   "cell_type": "code",
   "execution_count": 11,
   "metadata": {},
   "outputs": [
    {
     "name": "stdout",
     "output_type": "stream",
     "text": [
      "Enter the value of x:2\n",
      "10\n"
     ]
    }
   ],
   "source": [
    "# Exmaple 3 \n",
    "# Why we use lambda function \n",
    "def demo(x):\n",
    "    return lambda i : i * x   \n",
    "    \n",
    "x = int(input(\"Enter the value of x:\"))\n",
    "ans = demo(x)\n",
    "print(ans(5))"
   ]
  },
  {
   "cell_type": "markdown",
   "metadata": {},
   "source": [
    "<h4> Is python function Pass by value or reference? </h4>\n",
    "<pre>\n",
    "1) In Python every variable name is reference.  \n",
    "\n",
    "2) When we pass a variable to a function, a new reference to the object is created. \n",
    "\n",
    "3) Parameter passsing in python is same as reference in java/C. </pre>"
   ]
  },
  {
   "cell_type": "code",
   "execution_count": 2,
   "metadata": {},
   "outputs": [
    {
     "name": "stdout",
     "output_type": "stream",
     "text": [
      "Before calling the Function--->  [55, 9, 89, 87, 778, 2, 3, 66]\n",
      "After calling the Function--->  [128, 9, 89, 87, 778, 2, 3, 66]\n"
     ]
    }
   ],
   "source": [
    "# Example \n",
    "def check(i):\n",
    "    i[0] = 128\n",
    "    \n",
    "\n",
    "L = [55,9,89,87,778,2,3,66]\n",
    "print(\"Before calling the Function---> \",L)\n",
    "check(L)\n",
    "print(\"After calling the Function---> \",L)"
   ]
  },
  {
   "cell_type": "markdown",
   "metadata": {},
   "source": [
    "<h5> When we pass a reference (List) (as actual arguments) and recieved refrence  (List) (as formal arguments). From that we easly says that connection between passed and recieved parameter is done. </h5>"
   ]
  },
  {
   "cell_type": "markdown",
   "metadata": {},
   "source": [
    "<h4> Function within the function </h4>"
   ]
  },
  {
   "cell_type": "code",
   "execution_count": 4,
   "metadata": {},
   "outputs": [
    {
     "name": "stdout",
     "output_type": "stream",
     "text": [
      "I got the Amazon Project\n"
     ]
    }
   ],
   "source": [
    "def fun1():\n",
    "    st = \"I got the Amazon Project\"\n",
    "    def infun():\n",
    "        print(st)\n",
    "        \n",
    "    infun()\n",
    "    \n",
    "fun1()\n",
    "    "
   ]
  },
  {
   "cell_type": "markdown",
   "metadata": {},
   "source": [
    "<h5> WAP to check whether inpuuted number is pallindrome or not.  </h5>"
   ]
  },
  {
   "cell_type": "code",
   "execution_count": 5,
   "metadata": {},
   "outputs": [
    {
     "name": "stdout",
     "output_type": "stream",
     "text": [
      "Enter Any Number:133\n",
      "Number is not Pallindrome\n"
     ]
    }
   ],
   "source": [
    "# Pallindrome\n",
    "def palli(n,p):\n",
    "    if n == 0:\n",
    "        return p\n",
    "    \n",
    "    p = (p*10)+(n%10);\n",
    "    return(palli(n//10,p))\n",
    "\n",
    "\n",
    "n = int(input(\"Enter Any Number:\"))\n",
    "ans = palli(n,0)\n",
    "if ans == n:\n",
    "    print(\"Number is Pallindrome\")\n",
    "else:\n",
    "    print(\"Number is not Pallindrome\")"
   ]
  },
  {
   "cell_type": "markdown",
   "metadata": {},
   "source": [
    "<h5> How to print Multiple Arguments in Python?  </h5>"
   ]
  },
  {
   "cell_type": "markdown",
   "metadata": {},
   "source": [
    "An Agrument is a value that is passed within a function when it is called. They are idependents value or variable that contain data or value. During the time of call each argument is always assigned to the parameter in the function definition. "
   ]
  },
  {
   "cell_type": "code",
   "execution_count": 3,
   "metadata": {},
   "outputs": [
    {
     "name": "stdout",
     "output_type": "stream",
     "text": [
      "Welcome  bhushan ,25\n"
     ]
    }
   ],
   "source": [
    "# Example 1 \n",
    "def student(name, age):\n",
    "    print(\"Welcome \",name+ ' ,' + age)\n",
    "    \n",
    "student(\"bhushan\",\"25\")      "
   ]
  },
  {
   "cell_type": "code",
   "execution_count": 4,
   "metadata": {},
   "outputs": [
    {
     "name": "stdout",
     "output_type": "stream",
     "text": [
      "Welcome bhushan , your age is 25\n"
     ]
    }
   ],
   "source": [
    "# Example 2  [We Pass string we new style of formatting]\n",
    "def student(name,age):\n",
    "    print(\"Welcome {n} , your age is {a}\".format(n=name,a=age))\n",
    "    \n",
    "student(\"bhushan\",\"25\")  "
   ]
  },
  {
   "cell_type": "code",
   "execution_count": 7,
   "metadata": {},
   "outputs": [
    {
     "name": "stdout",
     "output_type": "stream",
     "text": [
      "[0, 1, 1, 2, 3, 5, 8, 13]\n"
     ]
    }
   ],
   "source": [
    "# Example 3 \n",
    "# WAP to pritn the FIBONACCII Series using lambda Function \n",
    "from functools import reduce \n",
    "\n",
    "f = lambda n : reduce(lambda x,_:x+[x[-1]+x[-2]],range(n-2),[0,1])\n",
    "\n",
    "print(f(8))"
   ]
  },
  {
   "cell_type": "code",
   "execution_count": null,
   "metadata": {},
   "outputs": [],
   "source": []
  }
 ],
 "metadata": {
  "kernelspec": {
   "display_name": "Python 3",
   "language": "python",
   "name": "python3"
  },
  "language_info": {
   "codemirror_mode": {
    "name": "ipython",
    "version": 3
   },
   "file_extension": ".py",
   "mimetype": "text/x-python",
   "name": "python",
   "nbconvert_exporter": "python",
   "pygments_lexer": "ipython3",
   "version": "3.7.6"
  }
 },
 "nbformat": 4,
 "nbformat_minor": 4
}
